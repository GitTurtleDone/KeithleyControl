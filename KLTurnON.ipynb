{
 "cells": [
  {
   "cell_type": "code",
   "execution_count": 17,
   "id": "16c85000",
   "metadata": {},
   "outputs": [],
   "source": [
    "#!pip install update pyvisa"
   ]
  },
  {
   "cell_type": "markdown",
   "id": "3c026542",
   "metadata": {},
   "source": [
    "INITIALIZE"
   ]
  },
  {
   "cell_type": "code",
   "execution_count": 18,
   "id": "8ee3a443",
   "metadata": {},
   "outputs": [],
   "source": [
    "import pyvisa\n",
    "import numpy as np\n",
    "import time\n",
    "import matplotlib.pyplot as plt\n",
    "import os\n",
    "import csv\n",
    "%matplotlib qt"
   ]
  },
  {
   "cell_type": "code",
   "execution_count": 19,
   "id": "a6bdf78a",
   "metadata": {},
   "outputs": [],
   "source": [
    "def update_plot(fig, ax, line, lstVoltage, lstAbsCurrent):\n",
    "    line.set_data(lstVoltage, lstAbsCurrent)\n",
    "    ax.relim()\n",
    "    ax.autoscale_view()\n",
    "    fig.canvas.draw()\n",
    "    fig.canvas.flush_events()"
   ]
  },
  {
   "cell_type": "code",
   "execution_count": 20,
   "id": "552cb64a",
   "metadata": {},
   "outputs": [],
   "source": [
    "\n",
    "rm = pyvisa.ResourceManager()"
   ]
  },
  {
   "cell_type": "markdown",
   "id": "991b0ae1",
   "metadata": {},
   "source": [
    "### Keitley 2400"
   ]
  },
  {
   "cell_type": "code",
   "execution_count": 21,
   "id": "c61d71a8",
   "metadata": {},
   "outputs": [
    {
     "data": {
      "text/plain": [
       "6"
      ]
     },
     "execution_count": 21,
     "metadata": {},
     "output_type": "execute_result"
    }
   ],
   "source": [
    "\n",
    "keith = rm.open_resource('GPIB0::23::INSTR')\n",
    "keith.timeout = 100000\n",
    "keith.write('*RST')\n",
    "  "
   ]
  },
  {
   "cell_type": "code",
   "execution_count": null,
   "id": "55f0e07e",
   "metadata": {},
   "outputs": [],
   "source": [
    "outputSettings = [0.005, 11] # first: current in A, second: compliance in V\n",
    "OnDuration = 10 # in s\n",
    "OffDuration = 10 # in s\n",
    "Repetition = 2 # times\n",
    "\n",
    "def setupKL(output_settings):\n",
    "    current, vCompliance = output_settings\n",
    "    keith.write('*RST')\n",
    "    keith.write(':ROUT:TERM FRON')\n",
    "    keith.write(':SOUR:FUNC CURR')\n",
    "    #vCompliaceStr = ':SENSE:CURR:PROT '+ str(vCompliance)\n",
    "    keith.write(':SENSE:VOLT:PROT:LEVEL %f' % vCompliance)\n",
    "    keith.write(f':SOUR:CURR:RANG 0.1')\n",
    "    keith.write(f':SOUR:CURR:LEVEL {current:0.03f}')\n",
    "def turnONKL1(output_settings, duration_settings):\n",
    "    onDurations = durationSettings[0::2]\n",
    "    offDurations = durationSettings[1::2]\n",
    "    #setupKL(output_settings)\n",
    "    \n",
    "    for i in range(len(onDurations)):\n",
    "        # keith.write(\":SOUR:CURR:STAR %0.2f\" % Vstart)\n",
    "        # keith.write(\":SOUR:CURR:STOP %0.2f\" % Vstop)\n",
    "        # keith.write(\":SOUR:CURR:STEP 0\" % Vstep)\n",
    "        keith.write(':OUTP ON')\n",
    "        time.sleep(onDurations[i])\n",
    "        keith.write(':OUTP OFF')\n",
    "        time.sleep(offDurations[i])\n",
    "def turnONKL(output_settings, on_duration, off_duration, repetition):\n",
    "    # onDurations = durationSettings[0::2]\n",
    "    # offDurations = durationSettings[1::2]\n",
    "    setupKL(output_settings)\n",
    "\n",
    "    for i in range(repetition):\n",
    "        # keith.write(\":SOUR:CURR:STAR %0.2f\" % Vstart)\n",
    "        # keith.write(\":SOUR:CURR:STOP %0.2f\" % Vstop)\n",
    "        # keith.write(\":SOUR:CURR:STEP 0\" % Vstep)\n",
    "        keith.write(':OUTP ON')\n",
    "        time.sleep(on_duration)\n",
    "        keith.write(':OUTP OFF')\n",
    "        time.sleep(off_duration)\n",
    "turnONKL(outputSettings, OnDuration, OffDuration, Repetition)\n"
   ]
  }
 ],
 "metadata": {
  "kernelspec": {
   "display_name": "embedded",
   "language": "python",
   "name": "python3"
  },
  "language_info": {
   "codemirror_mode": {
    "name": "ipython",
    "version": 3
   },
   "file_extension": ".py",
   "mimetype": "text/x-python",
   "name": "python",
   "nbconvert_exporter": "python",
   "pygments_lexer": "ipython3",
   "version": "3.10.9"
  }
 },
 "nbformat": 4,
 "nbformat_minor": 5
}
