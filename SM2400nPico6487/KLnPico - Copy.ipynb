{
 "cells": [
  {
   "cell_type": "code",
   "execution_count": 1,
   "id": "16c85000",
   "metadata": {},
   "outputs": [],
   "source": [
    "#!pip install pyvisa"
   ]
  },
  {
   "cell_type": "code",
   "execution_count": 1,
   "id": "8ee3a443",
   "metadata": {},
   "outputs": [],
   "source": [
    "import pyvisa\n",
    "import numpy as np\n",
    "import time\n",
    "import matplotlib.pyplot as plt\n",
    "import os\n",
    "import csv\n",
    "import tkinter as tk\n",
    "from tkinter import messagebox\n",
    "import threading\n",
    "from threading import Event\n",
    "%matplotlib qt"
   ]
  },
  {
   "cell_type": "markdown",
   "id": "3c026542",
   "metadata": {},
   "source": [
    "INITIALIZE"
   ]
  },
  {
   "cell_type": "code",
   "execution_count": 11,
   "id": "c61d71a8",
   "metadata": {},
   "outputs": [
    {
     "data": {
      "text/plain": [
       "6"
      ]
     },
     "execution_count": 11,
     "metadata": {},
     "output_type": "execute_result"
    }
   ],
   "source": [
    "rm = pyvisa.ResourceManager()\n",
    "# Keithley 2400\n",
    "keith = rm.open_resource('GPIB0::23::INSTR')\n",
    "keith.timeout = 100000\n",
    "keith.write('*RST')\n",
    "\n",
    "  \n",
    "# picoamp meter\n",
    "pico = rm.open_resource('GPIB0::22::INSTR')\n",
    "pico.timeout = 10000\n",
    "pico.write('*RST')"
   ]
  },
  {
   "cell_type": "code",
   "execution_count": 3,
   "id": "145c00c0",
   "metadata": {},
   "outputs": [
    {
     "data": {
      "text/plain": [
       "6"
      ]
     },
     "execution_count": 3,
     "metadata": {},
     "output_type": "execute_result"
    }
   ],
   "source": [
    "# picoamp meter\n",
    "rm = pyvisa.ResourceManager()\n",
    "m2657A = rm.open_resource('TCPIP0::132.181.53.204::inst0::INSTR')\n",
    "m2657A.timeout = 10000\n",
    "m2657A.write('*RST')"
   ]
  },
  {
   "cell_type": "code",
   "execution_count": 21,
   "id": "9ddc501a",
   "metadata": {},
   "outputs": [
    {
     "data": {
      "text/plain": [
       "20"
      ]
     },
     "execution_count": 21,
     "metadata": {},
     "output_type": "execute_result"
    }
   ],
   "source": [
    "# m2657A.write(\"reset()\")\n",
    "# device = m2657.read()\n",
    "# print(device)\n",
    "# print(m2657.read())\n",
    "m2657A.write(f\"beeper.beep(2,100)\")"
   ]
  },
  {
   "cell_type": "code",
   "execution_count": 27,
   "id": "0c954963",
   "metadata": {},
   "outputs": [],
   "source": [
    "sweepFilePath = \"C:\\\\Users\\\\gtd19\\\\Semsem\\\\bGa2O3\\\\KeithleyControl\\\\TSP_2657A\\\\2657A_DiodeRL\\\\DiodeRL.tsp\"\n",
    "\n",
    "m2657A.write(\"loadscript simpleSweep\")\n",
    "with open(sweepFilePath) as fp:\n",
    "    for line in fp:\n",
    "        m2657A.write(line)\n",
    "m2657A.write(\"endscript\")\n",
    "m2657A.write(\"simpleSweep.run()\")\n",
    "fp.close()"
   ]
  },
  {
   "cell_type": "markdown",
   "id": "5c66f949",
   "metadata": {},
   "source": []
  },
  {
   "cell_type": "code",
   "execution_count": 4,
   "id": "a6bdf78a",
   "metadata": {},
   "outputs": [],
   "source": [
    "def update_plot(fig, ax, line, lstVoltage, lstAbsCurrent):\n",
    "    line.set_data(lstVoltage, lstAbsCurrent)\n",
    "    ax.relim()\n",
    "    ax.autoscale_view()\n",
    "    fig.canvas.draw()\n",
    "    fig.canvas.flush_events()"
   ]
  },
  {
   "cell_type": "code",
   "execution_count": 5,
   "id": "ba4d6717",
   "metadata": {},
   "outputs": [],
   "source": [
    "def fncMeasureOneKL(arrVMeasurement, \\\n",
    "                  Sample = 'Test', sweepNum = 1,\\\n",
    "                  folderPath='230530\\\\Dev02\\\\Test',\\\n",
    "                  askToStart=False):\n",
    "    Vstart, Vstop, Vstep = arrVMeasurement\n",
    "    fileName = \"Sweep\"+str(sweepNum)+Sample+'Star'+str(Vstart).replace(\"-\",\"M\")+'_Stop'+str(Vstop).replace(\"-\",\"M\")+'_Step'+str(Vstep).replace(\"-\", \"M\")+'.csv'\n",
    "    filePath = os.path.join(folderPath, fileName)\n",
    "    print(filePath)\n",
    "    stepNum = np.floor(abs((Vstart - Vstop)/Vstep)).astype(int) + 1\n",
    "    vRange = \"AUTO\"\n",
    "    iCompliance = 1\n",
    "    iNPLC = 1\n",
    "    delay = 0.1\n",
    "    keith.write('*RST')\n",
    "    keith.write(':ROUT:TERM REAR')\n",
    "    keith.write(':SOUR:FUNC VOLT')\n",
    "    keith.write(':SENS:FUNC \"CURR:DC\"')\n",
    "    keith.write(\":SOUR:VOLT:STAR %0.2f\" % Vstart)\n",
    "    keith.write(\":SOUR:VOLT:STOP %0.2f\" % Vstop)\n",
    "    keith.write(\":SOUR:VOLT:STEP %0.3f\" % Vstep)\n",
    "    vRange = ':SOUR:SWE:RANG ' + vRange\n",
    "    keith.write(vRange)\n",
    "    iCompliance = ':SENSE:CURR:PROT '+ str(iCompliance)\n",
    "    keith.write(iCompliance)\n",
    "    keith.write(\":SOUR:VOLT:MODE SWE\")\n",
    "    keith.write(\":SENSE:CURR:PROT 1\" )\n",
    "    keith.write(':SENSE:CURR:NPLC %f' %iNPLC )\n",
    "    keith.write(':SOUR:SWE:SPAC LIN')\n",
    "    keith.write(\"TRAC:CLE\")\n",
    "    keith.write('TRAC:POIN %f' %stepNum)\n",
    "    keith.write(':FORM:ELEM:SENS VOLT,CURR')\n",
    "    keith.write(':TRIG:COUN %f' % stepNum)\n",
    "    keith.write(':SOUR:SWE:POIN %f' %stepNum)\n",
    "    keith.write(':SOUR:DEL %0.2f' % delay)\n",
    "    keith.write(':OUTP ON')\n",
    "    keith.write(\":INIT\")\n",
    "    keith.write('*WAI')\n",
    "    keith.write(':OUTP OFF')\n",
    "\n",
    "    time.sleep(1)\n",
    "\n",
    "    data = keith.query_ascii_values(\"FETC?\")\n",
    "    #print(data)\n",
    "    # Read data from buffer of Keithley 2400 and write to the file\n",
    "    lstCurrent = data[1::2] # get all odd elements, which are currents\n",
    "\n",
    "    lstVoltage = data[0::2] # get all even elements, which are voltages\n",
    "\n",
    "    # if Vstart > Vstop:\n",
    "    #     Vstep = -abs(Vstep)\n",
    "    # else:\n",
    "    #     Vstep = abs(Vstep)\n",
    "    lstAbsCurrent = np.abs(lstCurrent)\n",
    "    lstCalVoltage = [(Vstart + i*Vstep) for i in range(stepNum)]\n",
    "    dataToWrite = [['vRange', vRange]]\n",
    "    dataToWrite.append(['iCompliance', iCompliance])\n",
    "    #dataToWrite.append(['iRange', iRange[16:]])\n",
    "    dataToWrite.append(['iNPLC', iNPLC])\n",
    "    dataToWrite.append(['data Number', stepNum])\n",
    "    dataToWrite = [['V', 'I', 'V_cal','abs_I']]\n",
    "    for i in range(len(lstCurrent)):\n",
    "        dataToWrite.append([lstVoltage[i], lstCurrent[i], lstCalVoltage[i] , lstAbsCurrent[i]])\n",
    "    try:\n",
    "        with open(filePath, 'w', newline = '') as file:\n",
    "            writer = csv.writer(file)\n",
    "            writer.writerows(dataToWrite)\n",
    "            file.close()\n",
    "    except IOError:\n",
    "        print(\"Error: Could not open file for writing\")\n",
    "\n",
    "    fig, ax = plt.subplots()\n",
    "    line, = ax.plot(lstCalVoltage, lstAbsCurrent, 'o-')\n",
    "    ax.set_xlabel('Voltage (V)')\n",
    "    #plt.xticks(fontsize = 18)\n",
    "    ax.set_ylabel('Current (A)')\n",
    "    ax.set_yscale('log')\n",
    "    #plt.yticks(fontsize = 18)\n",
    "    # Function to update plot\n",
    "    plt.show()\n",
    "    plt.savefig(os.path.splitext(filePath)[0] + '.png')\n"
   ]
  },
  {
   "cell_type": "code",
   "execution_count": 6,
   "id": "39c73159",
   "metadata": {},
   "outputs": [],
   "source": [
    "def fncMeasureOnePico(arrVMeasurement, \\\n",
    "                  Sample = 'Test', sweepNum = 1,\\\n",
    "                  folderPath='230530\\\\Dev02\\\\Test',\\\n",
    "                  askToStart=False):\n",
    "    global running\n",
    "    # Create the main application window\n",
    "    \n",
    "    # Create a button to exit the loop\n",
    "    exit_button = tk.Button(root, text=\"Exit Measurements\", command=exitLoop)\n",
    "    exit_button.pack()\n",
    "    Vstart, Vstop, Vstep = arrVMeasurement\n",
    "    fileName = \"Sweep\"+str(sweepNum)+Sample+'Star'+str(Vstart).replace(\"-\",\"M\")+'_Stop'+str(Vstop).replace(\"-\",\"M\")+'_Step'+str(Vstep).replace(\"-\", \"M\")+'.csv'\n",
    "    filePath = os.path.join(folderPath, fileName)\n",
    "    print(filePath)\n",
    "    stepNum = np.floor(abs((Vstart - Vstop)/Vstep)).astype(int) + 1\n",
    "    vRange = 500\n",
    "    vILIM = 2e-3\n",
    "    iRange = '2e-9'\n",
    "    iNPLC = 1\n",
    "    #vILIM = 'SOUR:VOLT:ILIM' + vILIM\n",
    "    iRange = ':SENSE:CURR:RANG ' + iRange\n",
    "    breakDownVolt = 505\n",
    "    breakDownCurr = 2.5e-3\n",
    "    pico.write('*RST')\n",
    "    pico.write(iRange)\n",
    "    pico.write(\"SOUR:VOLT:RANG %f\" % vRange)\n",
    "    pico.write(\"SOUR:VOLT:ILIM %f\" %vILIM)\n",
    "    pico.write(\":SENSE:CURR:NPLC %f\" %iNPLC )\n",
    "    lstCurrent = []\n",
    "    lstVoltage = []\n",
    "    lstAbsCurrent = []\n",
    "    data = [['Volt', 'Curr'],['V', 'A']]\n",
    "    fig, ax = plt.subplots()\n",
    "    line, = ax.plot([], [], 'o-')\n",
    "    ax.set_xlabel('Voltage (V)')\n",
    "    ax.set_ylabel('Absolute Current (A)')\n",
    "    ax.set_yscale('log')\n",
    "    \n",
    "    \n",
    "#     messStartMeasurement = 'File Paht: ' + filePath + '.\\n' + \" Do you want to start the measurement?\" \n",
    "#     # Display a message box and ask for the operator's choice\n",
    "#     choice = messagebox.askquestion(\"Measurement\", messStartMeasurement)\n",
    "    \n",
    "#     if choice == 'yes':\n",
    "    plt.show()\n",
    "    time.sleep(1)\n",
    "    pico.write(':SOUR:VOLT:STAT ON')\n",
    "    curExceedLimitMeasNum = 0 # number of times the current exceeds the current limit - error\n",
    "    afterBreakDownMeasNum = 10 # number of additional measurements after the current reaches the current limit at the flat region\n",
    "    curLimitError = 0.0003\n",
    "    curLimitLowerBound = breakDownCurr - curLimitError\n",
    "    # Measurement loop\n",
    "    for i in range(stepNum):\n",
    "#         if not running:\n",
    "#             break\n",
    "        \n",
    "        lstVoltage.append(Vstart + i*Vstep)\n",
    "        if np.absolute(Vstart + i*Vstep) > breakDownVolt:\n",
    "            break\n",
    "        pico.write(':INIT:IMM')\n",
    "        #strVol = '{0:.2f}'.format(i*0.2)\n",
    "        strVol = ':SOUR:VOLT {0:.2f}'.format(Vstart + i*Vstep)\n",
    "        pico.write(strVol)\n",
    "        results = pico.query(':MEASure:CURRent?')\n",
    "        #print(results)\n",
    "        current = results.split(',')[0][:-1]\n",
    "        #voltage = l\n",
    "        lstCurrent.append(float(np.squeeze(current)))\n",
    "        lstAbsCurrent.append(np.abs(float(np.squeeze(current))))\n",
    "        update_plot(fig, ax, line,lstVoltage, lstAbsCurrent)\n",
    "        if (abs(float(np.squeeze(current))) >  breakDownCurr): #or (stop_flag == True)\n",
    "            break\n",
    "        if (abs(float(np.squeeze(current))) >  curLimitLowerBound):\n",
    "            curExceedLimitMeasNum+=1\n",
    "        if (curExceedLimitMeasNum >= afterBreakDownMeasNum):\n",
    "            break\n",
    "        time.sleep(0.1)\n",
    "    pico.write(':SOUR:VOLT:STAT OFF')\n",
    "    dataToWrite = [['vRange', vRange]]\n",
    "    dataToWrite.append(['vILIMIT', vILIM])\n",
    "    dataToWrite.append(['iRange', iRange[16:]])\n",
    "    dataToWrite.append(['iNPLC', iNPLC])\n",
    "    dataToWrite.append(['data Number', stepNum])\n",
    "    dataToWrite.append(['V_cal', 'I','abs_I'])\n",
    "    lstCalVoltage = [(Vstart + i*Vstep) for i in range(len(lstAbsCurrent))]\n",
    "\n",
    "    for i in range(len(lstCurrent)):\n",
    "        dataToWrite.append([round(Vstart + i * Vstep, 2), lstCurrent[i], lstAbsCurrent[i]])\n",
    "    try:\n",
    "        with open(filePath, 'w', newline = '') as file:\n",
    "            writer = csv.writer(file)\n",
    "            writer.writerows(dataToWrite)\n",
    "            file.close()\n",
    "    except IOError:\n",
    "        print(\"Error: Could not open file for writing\")\n",
    "    plt.show()\n",
    "    plt.savefig(os.path.splitext(filePath)[0] + '.png')\n",
    "#     root.destroy()"
   ]
  },
  {
   "cell_type": "code",
   "execution_count": 7,
   "id": "5208c094",
   "metadata": {},
   "outputs": [],
   "source": [
    "def fncMeasureOne(arrVMeasurement, \\\n",
    "                  device= 'pico',\\\n",
    "                  Sample = 'Test', sweepNum = 1,\\\n",
    "                  folderPath='230606\\\\Dev02\\\\Test',\\\n",
    "                  askToStart=False):\n",
    "    if (device == 'pico'):\n",
    "        fncMeasureOnePico(arrVMeasurement, Sample, sweepNum, folderPath, askToStart)\n",
    "    elif (device == 'keith'):\n",
    "        fncMeasureOneKL(arrVMeasurement, Sample, sweepNum, folderPath, askToStart)\n",
    "    else:\n",
    "        print(\"Incorrect device name\")"
   ]
  },
  {
   "cell_type": "code",
   "execution_count": 8,
   "id": "043d4858",
   "metadata": {},
   "outputs": [
    {
     "data": {
      "text/plain": [
       "''"
      ]
     },
     "execution_count": 8,
     "metadata": {},
     "output_type": "execute_result"
    }
   ],
   "source": [
    "running = True\n",
    "def exitLoop():\n",
    "    global running\n",
    "    running = False\n",
    "root = tk.Tk()\n",
    "root.title(\"Measurements\")\n",
    "# Create a button to exit the loop\n"
   ]
  },
  {
   "cell_type": "code",
   "execution_count": 9,
   "id": "55bd87dd",
   "metadata": {},
   "outputs": [],
   "source": [
    "def fncMeasureMultiple(settings =['pico', [[0, 0.5, 0.1]]], \\\n",
    "                  Sample = 'Test',\\\n",
    "                  startNum = 1, \\\n",
    "                  folderPath='230606\\\\Dev02\\\\Test',\\\n",
    "                  askToStart=False): \n",
    "    global running\n",
    "    global root\n",
    "    sweepNum = 0\n",
    "    # Create the main application window\n",
    "    dev, arrVMeasurements = settings\n",
    "    for j in range (len(arrVMeasurements)):\n",
    "        sweepNum = j + startNum\n",
    "        \n",
    "        if not running:\n",
    "            break\n",
    "        fncMeasureOne(arrVMeasurements[j], dev , Sample, sweepNum, folderPath)\n",
    "        time.sleep(5)\n",
    "    root.destroy()"
   ]
  },
  {
   "cell_type": "code",
   "execution_count": 10,
   "id": "0799b1c2",
   "metadata": {},
   "outputs": [
    {
     "name": "stdout",
     "output_type": "stream",
     "text": [
      "Folder already exists\n",
      "Folder already exists\n"
     ]
    }
   ],
   "source": [
    "folderPath = '240805_Fab240727_NiNiO_NegLOnBrassSM'\n",
    "# Create a new directory\n",
    "try:\n",
    "    os.mkdir(folderPath)\n",
    "except FileExistsError:\n",
    "    print(\"Folder already exists\")\n",
    "    \n",
    "folderPath = folderPath+ '\\\\Dev07'\n",
    "# Create a new directory\n",
    "try:\n",
    "    os.mkdir(folderPath)\n",
    "except FileExistsError:\n",
    "    print(\"Folder already exists\")\n",
    "\n",
    "folderPath = folderPath+ '\\\\E02'\n",
    "# Create a new directory\n",
    "try:\n",
    "    os.mkdir(folderPath)\n",
    "except FileExistsError:\n",
    "    print(\"Folder already exists\")\n",
    "sample = folderPath[-3:]"
   ]
  },
  {
   "cell_type": "code",
   "execution_count": 29,
   "id": "1390297d",
   "metadata": {},
   "outputs": [],
   "source": [
    "#tk.mainloop()"
   ]
  },
  {
   "cell_type": "code",
   "execution_count": 57,
   "id": "e92e53f4",
   "metadata": {},
   "outputs": [
    {
     "name": "stdout",
     "output_type": "stream",
     "text": [
      "231101_Fab231026_Dev_ShadowMask\\Dev08\\S63\\Sweep1S63Star0_Stop3_Step0.01.csv\n",
      "231101_Fab231026_Dev_ShadowMask\\Dev08\\S63\\Sweep2S63Star0_StopM3_StepM0.01.csv\n"
     ]
    }
   ],
   "source": [
    "#run Keithley 2400 [0, 3, 0.01],\\\n",
    "arrKLVMeasMulti =[\"keith\", [\n",
    "                            [0, 3, 0.01],\\\n",
    "                            [0, -3, -0.01]]]\n",
    "running = Event()\n",
    "def exitLoop():\n",
    "    global running\n",
    "    global root\n",
    "    print (\"Stop pressed\")\n",
    "    running = False\n",
    "def start_measurement_thread():\n",
    "    global running\n",
    "    running = True\n",
    "    measurement_thread = threading.Thread(target=fncMeasureMultiple, args=(arrKLVMeasMulti,sample, 1, folderPath))\n",
    "    measurement_thread.start()\n",
    "root = tk.Tk()\n",
    "root.title(\"Measurements\")\n",
    "start_button = tk.Button(root, text=\"Start\", command=lambda: fncMeasureMultiple(arrKLVMeasMulti,sample, 1, folderPath))\n",
    "start_button.pack()\n",
    "exit_button = tk.Button(root, text=\"Stop\", command=lambda: exitLoop)\n",
    "exit_button.pack()\n",
    "\n",
    "root.mainloop()\n",
    "#fncMeasureMultiple(arrKLVMeasMulti,sample, 1, folderPath)"
   ]
  },
  {
   "cell_type": "code",
   "execution_count": 12,
   "id": "4de02caf",
   "metadata": {},
   "outputs": [
    {
     "name": "stdout",
     "output_type": "stream",
     "text": [
      "240805_Fab240727_NiNiO_NegLOnBrassSM\\Dev07\\E02\\Sweep1E02Star0_Stop3_Step0.01.csv\n",
      "240805_Fab240727_NiNiO_NegLOnBrassSM\\Dev07\\E02\\Sweep2E02Star0_StopM3_StepM0.01.csv\n"
     ]
    },
    {
     "ename": "TclError",
     "evalue": "can't invoke \"destroy\" command: application has been destroyed",
     "output_type": "error",
     "traceback": [
      "\u001b[1;31m---------------------------------------------------------------------------\u001b[0m",
      "\u001b[1;31mTclError\u001b[0m                                  Traceback (most recent call last)",
      "Cell \u001b[1;32mIn[12], line 5\u001b[0m\n\u001b[0;32m      1\u001b[0m \u001b[38;5;66;03m#run Keithley 2400 [0, 3, 0.01],\\\u001b[39;00m\n\u001b[0;32m      2\u001b[0m arrKLVMeasMulti \u001b[38;5;241m=\u001b[39m[\u001b[38;5;124m\"\u001b[39m\u001b[38;5;124mkeith\u001b[39m\u001b[38;5;124m\"\u001b[39m,[[\u001b[38;5;241m0\u001b[39m, \u001b[38;5;241m3\u001b[39m, \u001b[38;5;241m0.01\u001b[39m],\\\n\u001b[0;32m      3\u001b[0m                             \u001b[38;5;66;03m#[0, 3, 0.01],\\\u001b[39;00m\n\u001b[0;32m      4\u001b[0m                             [\u001b[38;5;241m0\u001b[39m, \u001b[38;5;241m-\u001b[39m\u001b[38;5;241m3\u001b[39m, \u001b[38;5;241m-\u001b[39m\u001b[38;5;241m0.01\u001b[39m]]]\n\u001b[1;32m----> 5\u001b[0m \u001b[43mfncMeasureMultiple\u001b[49m\u001b[43m(\u001b[49m\u001b[43marrKLVMeasMulti\u001b[49m\u001b[43m,\u001b[49m\u001b[43msample\u001b[49m\u001b[43m,\u001b[49m\u001b[43m \u001b[49m\u001b[38;5;241;43m1\u001b[39;49m\u001b[43m,\u001b[49m\u001b[43m \u001b[49m\u001b[43mfolderPath\u001b[49m\u001b[43m)\u001b[49m\n",
      "Cell \u001b[1;32mIn[9], line 18\u001b[0m, in \u001b[0;36mfncMeasureMultiple\u001b[1;34m(settings, Sample, startNum, folderPath, askToStart)\u001b[0m\n\u001b[0;32m     16\u001b[0m     fncMeasureOne(arrVMeasurements[j], dev , Sample, sweepNum, folderPath)\n\u001b[0;32m     17\u001b[0m     time\u001b[38;5;241m.\u001b[39msleep(\u001b[38;5;241m5\u001b[39m)\n\u001b[1;32m---> 18\u001b[0m \u001b[43mroot\u001b[49m\u001b[38;5;241;43m.\u001b[39;49m\u001b[43mdestroy\u001b[49m\u001b[43m(\u001b[49m\u001b[43m)\u001b[49m\n",
      "File \u001b[1;32m~\\AppData\\Local\\miniconda3\\envs\\embedded\\lib\\tkinter\\__init__.py:2341\u001b[0m, in \u001b[0;36mTk.destroy\u001b[1;34m(self)\u001b[0m\n\u001b[0;32m   2338\u001b[0m \u001b[38;5;124;03m\"\"\"Destroy this and all descendants widgets. This will\u001b[39;00m\n\u001b[0;32m   2339\u001b[0m \u001b[38;5;124;03mend the application of this Tcl interpreter.\"\"\"\u001b[39;00m\n\u001b[0;32m   2340\u001b[0m \u001b[38;5;28;01mfor\u001b[39;00m c \u001b[38;5;129;01min\u001b[39;00m \u001b[38;5;28mlist\u001b[39m(\u001b[38;5;28mself\u001b[39m\u001b[38;5;241m.\u001b[39mchildren\u001b[38;5;241m.\u001b[39mvalues()): c\u001b[38;5;241m.\u001b[39mdestroy()\n\u001b[1;32m-> 2341\u001b[0m \u001b[38;5;28;43mself\u001b[39;49m\u001b[38;5;241;43m.\u001b[39;49m\u001b[43mtk\u001b[49m\u001b[38;5;241;43m.\u001b[39;49m\u001b[43mcall\u001b[49m\u001b[43m(\u001b[49m\u001b[38;5;124;43m'\u001b[39;49m\u001b[38;5;124;43mdestroy\u001b[39;49m\u001b[38;5;124;43m'\u001b[39;49m\u001b[43m,\u001b[49m\u001b[43m \u001b[49m\u001b[38;5;28;43mself\u001b[39;49m\u001b[38;5;241;43m.\u001b[39;49m\u001b[43m_w\u001b[49m\u001b[43m)\u001b[49m\n\u001b[0;32m   2342\u001b[0m Misc\u001b[38;5;241m.\u001b[39mdestroy(\u001b[38;5;28mself\u001b[39m)\n\u001b[0;32m   2343\u001b[0m \u001b[38;5;28;01mglobal\u001b[39;00m _default_root\n",
      "\u001b[1;31mTclError\u001b[0m: can't invoke \"destroy\" command: application has been destroyed"
     ]
    }
   ],
   "source": [
    "#run Keithley 2400 [0, 3, 0.01],\\\n",
    "arrKLVMeasMulti =[\"keith\",[[0, 3, 0.01],\\\n",
    "                            #[0, 3, 0.01],\\\n",
    "                            [0, -3, -0.01]]]\n",
    "fncMeasureMultiple(arrKLVMeasMulti,sample, 1, folderPath)"
   ]
  },
  {
   "cell_type": "code",
   "execution_count": 31,
   "id": "e692b48e",
   "metadata": {
    "scrolled": true
   },
   "outputs": [
    {
     "name": "stdout",
     "output_type": "stream",
     "text": [
      "231101_Fab231026_Dev_ShadowMask\\Dev08\\S42\\Sweep3S42Star0_Stop1.5_Step0.01.csv\n",
      "231101_Fab231026_Dev_ShadowMask\\Dev08\\S42\\Sweep4S42Star0_StopM1.5_StepM0.01.csv\n",
      "231101_Fab231026_Dev_ShadowMask\\Dev08\\S42\\Sweep5S42Star0_StopM500_StepM1.csv\n",
      "231101_Fab231026_Dev_ShadowMask\\Dev08\\S42\\Sweep6S42Star0_Stop1.5_Step0.01.csv\n",
      "231101_Fab231026_Dev_ShadowMask\\Dev08\\S42\\Sweep7S42Star0_StopM1.5_StepM0.01.csv\n"
     ]
    }
   ],
   "source": [
    "#run picoamp meter\n",
    "\n",
    "arrPicoVMeasMulti =[\"pico\", [[0, 1.5, 0.01],\\\n",
    "                [0, -1.5, -0.01],\\\n",
    "                [0, -500, -1],\\\n",
    "                 [0, 1.5, 0.01],\\\n",
    "                 [0, -1.5, -0.01]]]\n",
    "# Create a thread for the loop\n",
    "# Create a button to start the loop\n",
    "\n",
    "# loopThread = threading.Thread(target=fncMeasureMultiple(arrPicoVMeasMulti,sample, 3, folderPath))\n",
    "\n",
    "# # Start the thread\n",
    "# loopThread.start()\n",
    "# root.mainloop()\n",
    "#fncMeasureMultiple(arrPicoVMeasMulti,sample, 3, folderPath)"
   ]
  },
  {
   "cell_type": "code",
   "execution_count": 16,
   "id": "70536d51",
   "metadata": {},
   "outputs": [
    {
     "name": "stdout",
     "output_type": "stream",
     "text": [
      "231101_Fab231026_Dev_ShadowMask\\Dev08\\S42\\Sweep8S42Star0_Stop3_Step0.01.csv\n",
      "231101_Fab231026_Dev_ShadowMask\\Dev08\\S42\\Sweep9S42Star0_StopM3_StepM0.01.csv\n"
     ]
    },
    {
     "ename": "TclError",
     "evalue": "can't invoke \"button\" command: application has been destroyed",
     "output_type": "error",
     "traceback": [
      "\u001b[1;31m---------------------------------------------------------------------------\u001b[0m",
      "\u001b[1;31mTclError\u001b[0m                                  Traceback (most recent call last)",
      "Cell \u001b[1;32mIn[16], line 6\u001b[0m\n\u001b[0;32m      2\u001b[0m arrKLVMeasMulti \u001b[38;5;241m=\u001b[39m[\u001b[38;5;124m\"\u001b[39m\u001b[38;5;124mkeith\u001b[39m\u001b[38;5;124m\"\u001b[39m, [[\u001b[38;5;241m0\u001b[39m, \u001b[38;5;241m3\u001b[39m, \u001b[38;5;241m0.01\u001b[39m],\\\n\u001b[0;32m      3\u001b[0m                 [\u001b[38;5;241m0\u001b[39m, \u001b[38;5;241m-\u001b[39m\u001b[38;5;241m3\u001b[39m, \u001b[38;5;241m-\u001b[39m\u001b[38;5;241m0.01\u001b[39m]]]\n\u001b[0;32m      4\u001b[0m \u001b[38;5;66;03m# loopThread = threading.Thread(target=fncMeasureMultiple(arrKLVMeasMulti,sample, 8, folderPath))\u001b[39;00m\n\u001b[0;32m      5\u001b[0m \u001b[38;5;66;03m# loopThread.start()\u001b[39;00m\n\u001b[1;32m----> 6\u001b[0m start_button \u001b[38;5;241m=\u001b[39m \u001b[43mtk\u001b[49m\u001b[38;5;241;43m.\u001b[39;49m\u001b[43mButton\u001b[49m\u001b[43m(\u001b[49m\u001b[43mroot\u001b[49m\u001b[43m,\u001b[49m\u001b[43m \u001b[49m\u001b[43mtext\u001b[49m\u001b[38;5;241;43m=\u001b[39;49m\u001b[38;5;124;43m\"\u001b[39;49m\u001b[38;5;124;43mStart\u001b[39;49m\u001b[38;5;124;43m\"\u001b[39;49m\u001b[43m,\u001b[49m\u001b[43m \u001b[49m\u001b[43mcommand\u001b[49m\u001b[38;5;241;43m=\u001b[39;49m\u001b[43mfncMeasureMultiple\u001b[49m\u001b[43m(\u001b[49m\u001b[43marrKLVMeasMulti\u001b[49m\u001b[43m,\u001b[49m\u001b[43msample\u001b[49m\u001b[43m,\u001b[49m\u001b[43m \u001b[49m\u001b[38;5;241;43m8\u001b[39;49m\u001b[43m,\u001b[49m\u001b[43m \u001b[49m\u001b[43mfolderPath\u001b[49m\u001b[43m)\u001b[49m\u001b[43m)\u001b[49m\n\u001b[0;32m      7\u001b[0m start_button\u001b[38;5;241m.\u001b[39mpack()\n\u001b[0;32m      8\u001b[0m root\u001b[38;5;241m.\u001b[39mmainloop()\n",
      "File \u001b[1;32m~\\AppData\\Local\\miniconda3\\envs\\embedded\\lib\\tkinter\\__init__.py:2679\u001b[0m, in \u001b[0;36mButton.__init__\u001b[1;34m(self, master, cnf, **kw)\u001b[0m\n\u001b[0;32m   2660\u001b[0m \u001b[38;5;28;01mdef\u001b[39;00m \u001b[38;5;21m__init__\u001b[39m(\u001b[38;5;28mself\u001b[39m, master\u001b[38;5;241m=\u001b[39m\u001b[38;5;28;01mNone\u001b[39;00m, cnf\u001b[38;5;241m=\u001b[39m{}, \u001b[38;5;241m*\u001b[39m\u001b[38;5;241m*\u001b[39mkw):\n\u001b[0;32m   2661\u001b[0m     \u001b[38;5;124;03m\"\"\"Construct a button widget with the parent MASTER.\u001b[39;00m\n\u001b[0;32m   2662\u001b[0m \n\u001b[0;32m   2663\u001b[0m \u001b[38;5;124;03m    STANDARD OPTIONS\u001b[39;00m\n\u001b[1;32m   (...)\u001b[0m\n\u001b[0;32m   2677\u001b[0m \u001b[38;5;124;03m        overrelief, state, width\u001b[39;00m\n\u001b[0;32m   2678\u001b[0m \u001b[38;5;124;03m    \"\"\"\u001b[39;00m\n\u001b[1;32m-> 2679\u001b[0m     \u001b[43mWidget\u001b[49m\u001b[38;5;241;43m.\u001b[39;49m\u001b[38;5;21;43m__init__\u001b[39;49m\u001b[43m(\u001b[49m\u001b[38;5;28;43mself\u001b[39;49m\u001b[43m,\u001b[49m\u001b[43m \u001b[49m\u001b[43mmaster\u001b[49m\u001b[43m,\u001b[49m\u001b[43m \u001b[49m\u001b[38;5;124;43m'\u001b[39;49m\u001b[38;5;124;43mbutton\u001b[39;49m\u001b[38;5;124;43m'\u001b[39;49m\u001b[43m,\u001b[49m\u001b[43m \u001b[49m\u001b[43mcnf\u001b[49m\u001b[43m,\u001b[49m\u001b[43m \u001b[49m\u001b[43mkw\u001b[49m\u001b[43m)\u001b[49m\n",
      "File \u001b[1;32m~\\AppData\\Local\\miniconda3\\envs\\embedded\\lib\\tkinter\\__init__.py:2601\u001b[0m, in \u001b[0;36mBaseWidget.__init__\u001b[1;34m(self, master, widgetName, cnf, kw, extra)\u001b[0m\n\u001b[0;32m   2599\u001b[0m \u001b[38;5;28;01mfor\u001b[39;00m k, v \u001b[38;5;129;01min\u001b[39;00m classes:\n\u001b[0;32m   2600\u001b[0m     \u001b[38;5;28;01mdel\u001b[39;00m cnf[k]\n\u001b[1;32m-> 2601\u001b[0m \u001b[38;5;28;43mself\u001b[39;49m\u001b[38;5;241;43m.\u001b[39;49m\u001b[43mtk\u001b[49m\u001b[38;5;241;43m.\u001b[39;49m\u001b[43mcall\u001b[49m\u001b[43m(\u001b[49m\n\u001b[0;32m   2602\u001b[0m \u001b[43m    \u001b[49m\u001b[43m(\u001b[49m\u001b[43mwidgetName\u001b[49m\u001b[43m,\u001b[49m\u001b[43m \u001b[49m\u001b[38;5;28;43mself\u001b[39;49m\u001b[38;5;241;43m.\u001b[39;49m\u001b[43m_w\u001b[49m\u001b[43m)\u001b[49m\u001b[43m \u001b[49m\u001b[38;5;241;43m+\u001b[39;49m\u001b[43m \u001b[49m\u001b[43mextra\u001b[49m\u001b[43m \u001b[49m\u001b[38;5;241;43m+\u001b[39;49m\u001b[43m \u001b[49m\u001b[38;5;28;43mself\u001b[39;49m\u001b[38;5;241;43m.\u001b[39;49m\u001b[43m_options\u001b[49m\u001b[43m(\u001b[49m\u001b[43mcnf\u001b[49m\u001b[43m)\u001b[49m\u001b[43m)\u001b[49m\n\u001b[0;32m   2603\u001b[0m \u001b[38;5;28;01mfor\u001b[39;00m k, v \u001b[38;5;129;01min\u001b[39;00m classes:\n\u001b[0;32m   2604\u001b[0m     k\u001b[38;5;241m.\u001b[39mconfigure(\u001b[38;5;28mself\u001b[39m, v)\n",
      "\u001b[1;31mTclError\u001b[0m: can't invoke \"button\" command: application has been destroyed"
     ]
    }
   ],
   "source": [
    "#run Keithley 2400\n",
    "arrKLVMeasMulti =[\"keith\", [[0, 3, 0.01],\\\n",
    "                [0, -3, -0.01]]]\n",
    "# loopThread = threading.Thread(target=fncMeasureMultiple(arrKLVMeasMulti,sample, 8, folderPath))\n",
    "# loopThread.start()\n",
    "start_button = tk.Button(root, text=\"Start\", command=lambda: fncMeasureMultiple(arrKLVMeasMulti,sample, 8, folderPath))\n",
    "start_button.pack()\n",
    "exit_button = tk.Button(root, text=\"Stop\", command=lambda: exitLoop)\n",
    "        exit_button.pack()\n",
    "root.mainloop()\n",
    "#fncMeasureMultiple(arrKLVMeasMulti,sample, 8, folderPath)"
   ]
  },
  {
   "cell_type": "code",
   "execution_count": 27,
   "id": "86eef1c8",
   "metadata": {},
   "outputs": [
    {
     "name": "stdout",
     "output_type": "stream",
     "text": [
      "Incorrect device name\n"
     ]
    }
   ],
   "source": [
    "arrVMeas = [0, -3, -0.01]\n",
    "fncMeasureOne(arrVMeas, sample, 1, folderPath)"
   ]
  },
  {
   "cell_type": "code",
   "execution_count": 45,
   "id": "69f3c946",
   "metadata": {},
   "outputs": [
    {
     "name": "stdout",
     "output_type": "stream",
     "text": [
      "231101_Fab231026_Dev_ShadowMask\\Dev06\\S45\\Sweep8S45Star0_Stop3_Step0.01.csv\n"
     ]
    }
   ],
   "source": [
    "#run picoamp meter\n",
    "arrPicoVMeasMulti =[\"keith\", [[0, 3, 0.01]]]#,\\\n",
    "                #[0, -1.5, -0.01],\\\n",
    "                #[0, -500, -1],\\\n",
    "                 #[0, 1.5, 0.01],\\\n",
    "                 #[0, -1.5, -0.01]]]\n",
    "fncMeasureMultiple(arrPicoVMeasMulti,sample, 8, folderPath)"
   ]
  },
  {
   "cell_type": "code",
   "execution_count": null,
   "id": "f2052478",
   "metadata": {},
   "outputs": [],
   "source": []
  }
 ],
 "metadata": {
  "kernelspec": {
   "display_name": "Python 3",
   "language": "python",
   "name": "python3"
  },
  "language_info": {
   "codemirror_mode": {
    "name": "ipython",
    "version": 3
   },
   "file_extension": ".py",
   "mimetype": "text/x-python",
   "name": "python",
   "nbconvert_exporter": "python",
   "pygments_lexer": "ipython3",
   "version": "3.10.9"
  }
 },
 "nbformat": 4,
 "nbformat_minor": 5
}
