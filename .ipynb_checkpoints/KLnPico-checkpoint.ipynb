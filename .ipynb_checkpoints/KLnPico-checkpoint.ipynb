{
 "cells": [
  {
   "cell_type": "code",
   "execution_count": 4,
   "id": "16c85000",
   "metadata": {},
   "outputs": [
    {
     "name": "stdout",
     "output_type": "stream",
     "text": [
      "Defaulting to user installation because normal site-packages is not writeable\n",
      "Collecting pyvisa\n",
      "  Downloading PyVISA-1.13.0-py3-none-any.whl (175 kB)\n",
      "Requirement already satisfied: typing-extensions in c:\\programdata\\anaconda3\\lib\\site-packages (from pyvisa) (4.1.1)\n",
      "Installing collected packages: pyvisa\n",
      "Successfully installed pyvisa-1.13.0\n"
     ]
    },
    {
     "name": "stderr",
     "output_type": "stream",
     "text": [
      "  WARNING: The scripts pyvisa-info.exe and pyvisa-shell.exe are installed in 'C:\\Users\\Dell User\\AppData\\Roaming\\Python\\Python39\\Scripts' which is not on PATH.\n",
      "  Consider adding this directory to PATH or, if you prefer to suppress this warning, use --no-warn-script-location.\n"
     ]
    }
   ],
   "source": [
    "#!pip install pyvisa"
   ]
  },
  {
   "cell_type": "code",
   "execution_count": 1,
   "id": "8ee3a443",
   "metadata": {},
   "outputs": [],
   "source": [
    "import pyvisa\n",
    "import numpy as np\n",
    "import time\n",
    "import matplotlib.pyplot as plt\n",
    "import os\n",
    "import csv\n",
    "%matplotlib qt"
   ]
  },
  {
   "cell_type": "code",
   "execution_count": 26,
   "id": "a6bdf78a",
   "metadata": {},
   "outputs": [],
   "source": [
    "def update_plot(fig, ax, line, lstVoltage, lstAbsCurrent):\n",
    "    line.set_data(lstVoltage, lstAbsCurrent)\n",
    "    ax.relim()\n",
    "    ax.autoscale_view()\n",
    "    fig.canvas.draw()\n",
    "    fig.canvas.flush_events()"
   ]
  },
  {
   "cell_type": "markdown",
   "id": "3c026542",
   "metadata": {},
   "source": [
    "INITIALIZE"
   ]
  },
  {
   "cell_type": "code",
   "execution_count": 3,
   "id": "552cb64a",
   "metadata": {},
   "outputs": [],
   "source": [
    "# Model 2657A\n",
    "rm = pyvisa.ResourceManager()"
   ]
  },
  {
   "cell_type": "code",
   "execution_count": 4,
   "id": "c61d71a8",
   "metadata": {},
   "outputs": [
    {
     "data": {
      "text/plain": [
       "6"
      ]
     },
     "execution_count": 4,
     "metadata": {},
     "output_type": "execute_result"
    }
   ],
   "source": [
    "# rm = pyvisa.ResourceManager()\n",
    "\n",
    "\n",
    "\n",
    "\n",
    "# # Keithley 2000\n",
    "# keith1 = rm.open_resource('GPIB0::24::INSTR')\n",
    "# keith1.timeout = 100000\n",
    "# keith1.write('*RST')\n",
    "# Keithley 2400\n",
    "keith = rm.open_resource('GPIB0::23::INSTR')\n",
    "keith.timeout = 100000\n",
    "keith.write('*RST')\n",
    "  \n",
    "# picoamp meter\n",
    "pico = rm.open_resource('GPIB0::22::INSTR')\n",
    "pico.timeout = 10000\n",
    "pico.write('*RST')\n"
   ]
  },
  {
   "cell_type": "code",
   "execution_count": 5,
   "id": "3dd51308",
   "metadata": {},
   "outputs": [
    {
     "data": {
      "text/plain": [
       "6"
      ]
     },
     "execution_count": 5,
     "metadata": {},
     "output_type": "execute_result"
    }
   ],
   "source": [
    "\n",
    "m2657A = rm.open_resource('TCPIP0::132.181.53.204::inst0::INSTR')\n",
    "m2657A.timeout = 10000\n",
    "m2657A.write('*RST')"
   ]
  },
  {
   "cell_type": "code",
   "execution_count": 6,
   "id": "79c5b54d",
   "metadata": {},
   "outputs": [
    {
     "data": {
      "text/plain": [
       "20"
      ]
     },
     "execution_count": 6,
     "metadata": {},
     "output_type": "execute_result"
    }
   ],
   "source": [
    "m2657A.write(f\"beeper.beep(2,100)\")"
   ]
  },
  {
   "cell_type": "code",
   "execution_count": 7,
   "id": "51b0c72e",
   "metadata": {},
   "outputs": [],
   "source": [
    "sweepFilePath = \"C:\\\\Users\\\\gtd19\\\\Semsem\\\\bGa2O3\\\\KeithleyControl\\\\TSP_2657A\\\\2657A_DiodeRL\\\\DiodeRL.tsp\"\n",
    "\n",
    "m2657A.write(\"loadscript simpleSweep\")\n",
    "with open(sweepFilePath) as fp:\n",
    "    for line in fp:\n",
    "        m2657A.write(line)\n",
    "m2657A.write(\"endscript\")\n",
    "m2657A.write(\"simpleSweep.run()\")\n",
    "fp.close()"
   ]
  },
  {
   "cell_type": "code",
   "execution_count": 36,
   "id": "de31a4e4",
   "metadata": {},
   "outputs": [
    {
     "name": "stdout",
     "output_type": "stream",
     "text": [
      "Current:  -1.18747e-07 Voltage:  1.00015\n"
     ]
    }
   ],
   "source": [
    "def setM2657AIVMeasurement (iRange = 0.02, iLimit = 0.02, nplc = 1, delay = 0.05):\n",
    "    # Reset and initialize instrutment\n",
    "    m2657A.write(f\"reset()\")\n",
    "    m2657A.write(f\"status.reset()\")\n",
    "    m2657A.write(f\"errorqueue.clear()\")\n",
    "    \n",
    "    # Configure source function as 2W DCVOLTS\n",
    "    m2657A.write(f\"smua.source.func = smua.OUTPUT_DCVOLTS\")\n",
    "    m2657A.write(f\"smua.sense = smua.SENSE_LOCAL\")\n",
    "    m2657A.write(f\"display.screen = display.SMUA\")\n",
    "    m2657A.write(f\"display.smua.measure.func = display.MEASURE_DCAMPS\")\n",
    "    m2657A.write(f\"display.smua.digits = display.DIGITS_5_5\")\n",
    "\n",
    "    #Set up current compliance\n",
    "    m2657A.write(f\"smua.source.limiti = %f\" %iLimit)\n",
    "\n",
    "    #Set up current range \n",
    "    #Set up current range\n",
    "    if iRange == \"auto\":\n",
    "        m2657A.write(f\"smua.measure.autorangei = smua.AUTORANGE_ON\")\n",
    "    else:\n",
    "        m2657A.write(f\"smua.measure.autorangei = smua.AUTORANGE_OFF\")\n",
    "        m2657A.write(f\"smua.measure.rangei = %f\" %iRange)\n",
    "\n",
    "    \n",
    "\n",
    "    #Set the measurement integration time\n",
    "    m2657A.write(f\"smua.measure.nplc = %f\" %nplc)\n",
    "    m2657A.write(f\"smua.measure.delay = %f\" %delay)\n",
    "\n",
    "    \n",
    "\n",
    "    \n",
    "\n",
    "\n",
    "    # m2657A.write(f\"\")\n",
    "    # m2657A.write(f\"\")\n",
    "    # m2657A.write(f\"\")\n",
    "    # m2657A.write(f\"\")\n",
    "    # m2657A.write(f\"\")\n",
    "    # m2657A.write(f\"\")\n",
    "    # m2657A.write(f\"\")\n",
    "    # m2657A.write(f\"\")\n",
    "\t\n",
    "    m2657A.write(f\"beeper.beep(0.5,100)\")\n",
    "    return True\n",
    "def measureM2657AOnePoint(setV, outputON = False, resetV = True):\n",
    "    #setM2657AIVMeasurement()\n",
    "    m2657A.write(f\"smua.source.levelv = %f\" %setV)\n",
    "    \n",
    "    #Configure the reading buffers\n",
    "    m2657A.write(f\"smua.nvbuffer1.clear()\")\n",
    "    m2657A.write(f\"smua.nvbuffer1.appendmode = 1\")\n",
    "    m2657A.write(f\"smua.nvbuffer1.collecttimestamps = 1\")\n",
    "    m2657A.write(f\"smua.nvbuffer1.collectsourcevalues = 0\")\n",
    "    m2657A.write(f\"smua.nvbuffer1.fillmode = smua.FILL_ONCE\")\n",
    "    m2657A.write(f\"smua.nvbuffer2.clear()\")\n",
    "    m2657A.write(f\"smua.nvbuffer2.appendmode = 1\")\n",
    "    m2657A.write(f\"smua.nvbuffer2.collecttimestamps = 1\")\n",
    "    m2657A.write(f\"smua.nvbuffer2.collectsourcevalues = 0\")\n",
    "    m2657A.write(f\"smua.nvbuffer2.fillmode = smua.FILL_ONCE\")\n",
    "    \n",
    "    \n",
    "    if (not outputON):\n",
    "        m2657A.write(f\"smua.source.output = 1\")\n",
    "    m2657A.write(f\"smua.measure.i(smua.nvbuffer1)\")\n",
    "    m2657A.write(f\"smua.measure.v(smua.nvbuffer2)\")\n",
    "    #time.sleep(2)\n",
    "\n",
    "    #Turn off the output\n",
    "    if resetV:\n",
    "        m2657A.write(f\"smua.source.levelv = 0\")\n",
    "        m2657A.write(f\"smua.source.output = 0\")\n",
    "    \n",
    "    m2657A.write(f\"printbuffer(1, 1, smua.nvbuffer1.readings, smua.nvbuffer2.readings)\")\n",
    "    rawData = m2657A.read()\n",
    "    # print(\"%g\\t%g\\t%g\", smua.nvbuffer1.timestamps[1], smua.nvbuffer1.readings[1], smua.nvbuffer2.readings[1])\n",
    "    arrRawData = rawData.split(\",\")\n",
    "    #print (\"rawData: \", rawData)\n",
    "\n",
    "    return [float(arrRawData[i]) for i in range(len(arrRawData))]\n",
    "setM2657AIVMeasurement(0.02, 0.02, 1, 0.05)\n",
    "# rur = measureM2657AOnePoint(1,False,True)\n",
    "# print (results)\n",
    "current, voltage = measureM2657AOnePoint(1,False,True)\n",
    "print (\"Current: \", current, \"Voltage: \", voltage)"
   ]
  },
  {
   "cell_type": "code",
   "execution_count": 37,
   "id": "86df9d31",
   "metadata": {},
   "outputs": [],
   "source": [
    "def fncMeasureOneM2657A(arrVMeasurement, \\\n",
    "                  Sample = 'Test', sweepNum = 1,\\\n",
    "                  folderPath='241108\\\\Dev02\\\\Test',\\\n",
    "                  askToStart=False,\\\n",
    "                  vRange = 200,\\\n",
    "                  iRange = \"auto\",\\\n",
    "                  iLimit = 2e-2,\\\n",
    "                  nplc = 1, \\\n",
    "                  delay = 0.05,\\\n",
    "                  breakDownVolt = 1500,\\\n",
    "                  breakDownCurr = 0.02):\n",
    "    Vstart, Vstop, Vstep = arrVMeasurement\n",
    "    fileName = \"Sweep\"+str(sweepNum)+Sample+'Star'+str(Vstart).replace(\"-\",\"M\")+'_Stop'+str(Vstop).replace(\"-\",\"M\")+'_Step'+str(Vstep).replace(\"-\", \"M\")+'.csv'\n",
    "    filePath = os.path.join(folderPath, fileName)\n",
    "    print(filePath)\n",
    "    stepNum = np.floor(abs((Vstart - Vstop)/Vstep)).astype(int) + 1\n",
    "    # vRange = 500\n",
    "    # vILIM = 2e-3\n",
    "    # iRange = '2e-9'\n",
    "    #iNPLC = 1\n",
    "    #vILIM = 'SOUR:VOLT:ILIM' + vILIM\n",
    "    #iRange = ':SENSE:CURR:RANG ' + iRange\n",
    "\n",
    "\n",
    "\n",
    "    setM2657AIVMeasurement(iRange, iLimit, nplc, delay)\n",
    "    absVstart = abs(Vstart)\n",
    "    absVstop = abs(Vstop)\n",
    "    # Set up source range\n",
    "    if abs(Vstart) > abs(Vstop): \n",
    "        m2657A.write(f\"smua.source.rangev = %f\" %absVstart)\n",
    "    else:\n",
    "        m2657A.write(f\"smua.source.rangev = %f\" %absVstop)\n",
    "    \n",
    "    lstCurrent = []\n",
    "    lstVoltage = []\n",
    "    lstAbsCurrent = []\n",
    "    \n",
    "    fig, ax = plt.subplots()\n",
    "    line, = ax.plot([], [], 'o-')\n",
    "    ax.set_xlabel('Voltage (V)')\n",
    "    ax.set_ylabel('Absolute Current (A)')\n",
    "    ax.set_yscale('log')\n",
    "    \n",
    "    \n",
    "\n",
    "    plt.show()\n",
    "    time.sleep(1)\n",
    "    m2657A.write(f\"smua.source.output = 1\")\n",
    "    curExceedLimitMeasNum = 0 # number of times the current exceeds the current limit - error\n",
    "    afterBreakDownMeasNum = 10 # number of additional measurements after the current reaches the current limit at the flat region\n",
    "    curLimitError = 0.0003\n",
    "    curLimitLowerBound = breakDownCurr - curLimitError\n",
    "    # Measurement loop\n",
    "    for i in range(stepNum):\n",
    "        \n",
    "        if np.absolute(Vstart + i*Vstep) > breakDownVolt:\n",
    "            break\n",
    "        #pico.write(':INIT:IMM')\n",
    "        #strVol = '{0:.2f}'.format(i*0.2)\n",
    "        #strVol = ':SOUR:VOLT {0:.2f}'.format(Vstart + i*Vstep)\n",
    "        #pico.write(strVol)\n",
    "        current, voltage = measureM2657AOnePoint(Vstart + i*Vstep,True,False)\n",
    "        \n",
    "        # results = pico.query(':MEASure:CURRent?')\n",
    "        # #print(results)\n",
    "\n",
    "        # current = results.split(',')[0][:-1]\n",
    "        #voltage = l\n",
    "        lstVoltage.append(voltage)\n",
    "        lstCurrent.append(current)\n",
    "        lstAbsCurrent.append(abs(current))\n",
    "        update_plot(fig, ax, line,lstVoltage, lstAbsCurrent)\n",
    "        if (abs((current)) >  breakDownCurr): #or (stop_flag == True)\n",
    "            break\n",
    "        if (abs(current) >  curLimitLowerBound):\n",
    "            curExceedLimitMeasNum+=1\n",
    "        if (curExceedLimitMeasNum >= afterBreakDownMeasNum):\n",
    "            break\n",
    "        time.sleep(0.1)\n",
    "    #Turn off the output\n",
    "    m2657A.write(f\"smua.source.levelv = 0\")\n",
    "    m2657A.write(f\"smua.source.output = 0\")\n",
    "\n",
    "    pico.write(':SOUR:VOLT:STAT OFF')\n",
    "    dataToWrite = [['vRange: ', vRange]]\n",
    "    dataToWrite.append(['iLimit: ', iLimit])\n",
    "    dataToWrite.append(['iRange: ', iRange[16:]])\n",
    "    dataToWrite.append(['nplc: ', nplc, 'delay: ', delay])\n",
    "    dataToWrite.append(['data Number:', stepNum])\n",
    "    dataToWrite.append(['V_meas', 'I','abs_I'])\n",
    "    # lstCalVoltage = [(Vstart + i*Vstep) for i in range(len(lstAbsCurrent))]\n",
    "\n",
    "    for i in range(len(lstCurrent)):\n",
    "        dataToWrite.append([lstVoltage[i], lstCurrent[i], lstAbsCurrent[i]])\n",
    "    try:\n",
    "        with open(filePath, 'w', newline = '') as file:\n",
    "            writer = csv.writer(file)\n",
    "            writer.writerows(dataToWrite)\n",
    "            file.close()\n",
    "    except IOError:\n",
    "        print(\"Error: Could not open file for writing\")\n",
    "    plt.show()\n",
    "    plt.savefig(os.path.splitext(filePath)[0] + '.png')"
   ]
  },
  {
   "cell_type": "code",
   "execution_count": 34,
   "id": "528eb231",
   "metadata": {},
   "outputs": [
    {
     "name": "stdout",
     "output_type": "stream",
     "text": [
      "241108_Test\\Dev01\\D02\\Sweep1D02Star0_Stop1_Step0.1.csv\n",
      "rawData:  -1.47540e-12, -2.84987e-03\n",
      "\n",
      "rawData:  1.90333e-12, 9.85204e-02\n",
      "\n",
      "rawData:  2.13668e-12, 1.99747e-01\n",
      "\n",
      "rawData:  2.22647e-12, 2.97829e-01\n",
      "\n",
      "rawData:  2.23926e-12, 3.99326e-01\n",
      "\n",
      "rawData:  2.10305e-12, 5.00539e-01\n",
      "\n",
      "rawData:  1.98686e-12, 5.98948e-01\n",
      "\n",
      "rawData:  2.16796e-12, 6.99663e-01\n",
      "\n",
      "rawData:  1.88748e-12, 7.97902e-01\n",
      "\n",
      "rawData:  2.29402e-12, 8.99107e-01\n",
      "\n",
      "rawData:  2.34127e-12, 1.00048e+00\n",
      "\n"
     ]
    }
   ],
   "source": [
    "fncMeasureOneM2657A([0, 1, 0.1], sample, 1, folderPath)"
   ]
  },
  {
   "cell_type": "code",
   "execution_count": 17,
   "id": "39c73159",
   "metadata": {},
   "outputs": [],
   "source": [
    "def fncMeasureOnePico(arrVMeasurement, \\\n",
    "                  Sample = 'Test', sweepNum = 1,\\\n",
    "                  folderPath='230530\\\\Dev02\\\\Test',\\\n",
    "                  askToStart=False):\n",
    "    Vstart, Vstop, Vstep = arrVMeasurement\n",
    "    fileName = \"Sweep\"+str(sweepNum)+Sample+'Star'+str(Vstart).replace(\"-\",\"M\")+'_Stop'+str(Vstop).replace(\"-\",\"M\")+'_Step'+str(Vstep).replace(\"-\", \"M\")+'.csv'\n",
    "    filePath = os.path.join(folderPath, fileName)\n",
    "    print(filePath)\n",
    "    stepNum = np.floor(abs((Vstart - Vstop)/Vstep)).astype(int) + 1\n",
    "    vRange = 500\n",
    "    vILIM = 2e-3\n",
    "    iRange = '2e-9'\n",
    "    iNPLC = 1\n",
    "    #vILIM = 'SOUR:VOLT:ILIM' + vILIM\n",
    "    iRange = ':SENSE:CURR:RANG ' + iRange\n",
    "    breakDownVolt = 505\n",
    "    breakDownCurr = 2.5e-3\n",
    "    pico.write('*RST')\n",
    "    pico.write(iRange)\n",
    "    pico.write(\"SOUR:VOLT:RANG %f\" % vRange)\n",
    "    pico.write(\"SOUR:VOLT:ILIM %f\" %vILIM)\n",
    "    pico.write(\":SENSE:CURR:NPLC %f\" %iNPLC )\n",
    "    lstCurrent = []\n",
    "    lstVoltage = []\n",
    "    lstAbsCurrent = []\n",
    "    data = [['Volt', 'Curr'],['V', 'A']]\n",
    "    fig, ax = plt.subplots()\n",
    "    line, = ax.plot([], [], 'o-')\n",
    "    ax.set_xlabel('Voltage (V)')\n",
    "    ax.set_ylabel('Absolute Current (A)')\n",
    "    ax.set_yscale('log')\n",
    "    \n",
    "    \n",
    "#     messStartMeasurement = 'File Paht: ' + filePath + '.\\n' + \" Do you want to start the measurement?\" \n",
    "#     # Display a message box and ask for the operator's choice\n",
    "#     choice = messagebox.askquestion(\"Measurement\", messStartMeasurement)\n",
    "    \n",
    "#     if choice == 'yes':\n",
    "    plt.show()\n",
    "    time.sleep(1)\n",
    "    pico.write(':SOUR:VOLT:STAT ON')\n",
    "    curExceedLimitMeasNum = 0 # number of times the current exceeds the current limit - error\n",
    "    afterBreakDownMeasNum = 10 # number of additional measurements after the current reaches the current limit at the flat region\n",
    "    curLimitError = 0.0003\n",
    "    curLimitLowerBound = breakDownCurr - curLimitError\n",
    "    # Measurement loop\n",
    "    for i in range(stepNum):\n",
    "        lstVoltage.append(Vstart + i*Vstep)\n",
    "        if np.absolute(Vstart + i*Vstep) > breakDownVolt:\n",
    "            break\n",
    "        pico.write(':INIT:IMM')\n",
    "        #strVol = '{0:.2f}'.format(i*0.2)\n",
    "        strVol = ':SOUR:VOLT {0:.2f}'.format(Vstart + i*Vstep)\n",
    "        pico.write(strVol)\n",
    "        results = pico.query(':MEASure:CURRent?')\n",
    "        #print(results)\n",
    "        current = results.split(',')[0][:-1]\n",
    "        #voltage = l\n",
    "        lstCurrent.append(float(np.squeeze(current)))\n",
    "        lstAbsCurrent.append(np.abs(float(np.squeeze(current))))\n",
    "        update_plot(fig, ax, line,lstVoltage, lstAbsCurrent)\n",
    "        if (abs(float(np.squeeze(current))) >  breakDownCurr): #or (stop_flag == True)\n",
    "            break\n",
    "        if (abs(float(np.squeeze(current))) >  curLimitLowerBound):\n",
    "            curExceedLimitMeasNum+=1\n",
    "        if (curExceedLimitMeasNum >= afterBreakDownMeasNum):\n",
    "            break\n",
    "        \n",
    "        \n",
    "        time.sleep(0.1)\n",
    "    pico.write(':SOUR:VOLT:STAT OFF')\n",
    "    dataToWrite = [['vRange', vRange]]\n",
    "    dataToWrite.append(['vILIMIT', vILIM])\n",
    "    dataToWrite.append(['iRange', iRange[16:]])\n",
    "    dataToWrite.append(['iNPLC', iNPLC])\n",
    "    dataToWrite.append(['data Number', stepNum])\n",
    "    dataToWrite.append(['V_cal', 'I','abs_I'])\n",
    "    lstCalVoltage = [(Vstart + i*Vstep) for i in range(len(lstAbsCurrent))]\n",
    "\n",
    "    for i in range(len(lstCurrent)):\n",
    "        dataToWrite.append([round(Vstart + i * Vstep, 2), lstCurrent[i], lstAbsCurrent[i]])\n",
    "    try:\n",
    "        with open(filePath, 'w', newline = '') as file:\n",
    "            writer = csv.writer(file)\n",
    "            writer.writerows(dataToWrite)\n",
    "            file.close()\n",
    "    except IOError:\n",
    "        print(\"Error: Could not open file for writing\")\n",
    "    plt.show()\n",
    "    plt.savefig(os.path.splitext(filePath)[0] + '.png')"
   ]
  },
  {
   "cell_type": "code",
   "execution_count": 19,
   "id": "9d0aab0f",
   "metadata": {},
   "outputs": [],
   "source": [
    "def fncMeasureOneKL1(arrVMeasurement, \\\n",
    "                  Sample = 'Test', sweepNum = 1,\\\n",
    "                  folderPath='230530\\\\Dev02\\\\Test',\\\n",
    "                  askToStart=False):\n",
    "    Vstart, Vstop, Vstep = arrVMeasurement\n",
    "    fileName = \"Sweep\"+str(sweepNum)+Sample+'Star'+str(Vstart).replace(\"-\",\"M\")+'_Stop'+str(Vstop).replace(\"-\",\"M\")+'_Step'+str(Vstep).replace(\"-\", \"M\")+'.csv'\n",
    "    filePath = os.path.join(folderPath, fileName)\n",
    "    print(filePath)\n",
    "    stepNum = np.floor(abs((Vstart - Vstop)/Vstep)).astype(int) + 1\n",
    "    vRange = \"AUTO\"\n",
    "    iCompliance = 1\n",
    "    iNPLC = 1\n",
    "    delay = 0.1\n",
    "    keith1.write('*RST')\n",
    "    keith1.write(':ROUT:TERM REAR')\n",
    "    keith1.write(':SOUR:FUNC VOLT')\n",
    "    keith1.write(':SENS:FUNC \"CURR:DC\"')\n",
    "    keith1.write(\":SOUR:VOLT:STAR %0.2f\" % Vstart)\n",
    "    keith1.write(\":SOUR:VOLT:STOP %0.2f\" % Vstop)\n",
    "    keith1.write(\":SOUR:VOLT:STEP %0.3f\" % Vstep)\n",
    "    vRange1 = ':SOUR:SWE:RANG ' + vRange\n",
    "    keith1.write(vRange)\n",
    "    iCompliance = ':SENSE:CURR:PROT '+ str(iCompliance)\n",
    "    keith1.write(iCompliance)\n",
    "    keith1.write(\":SOUR:VOLT:MODE SWE\")\n",
    "    keith1.write(\":SENSE:CURR:PROT 1\" )\n",
    "    keith1.write(':SENSE:CURR:NPLC %f' %iNPLC )\n",
    "    keith1.write(':SOUR:SWE:SPAC LIN')\n",
    "    keith1.write(\"TRAC:CLE\")\n",
    "    keith1.write('TRAC:POIN %f' %stepNum)\n",
    "    keith1.write(':FORM:ELEM:SENS VOLT,CURR')\n",
    "    keith1.write(':TRIG:COUN %f' % stepNum)\n",
    "    keith1.write(':SOUR:SWE:POIN %f' %stepNum)\n",
    "    keith1.write(':SOUR:DEL %0.2f' % delay)\n",
    "    keith1.write(':OUTP ON')\n",
    "    keith1.write(\":INIT\")\n",
    "    keith1.write('*WAI')\n",
    "    keith1.write(':OUTP OFF')\n",
    "\n",
    "    time.sleep(1)\n",
    "\n",
    "    data = keith1.query_ascii_values(\"FETC?\")\n",
    "    #print(data)\n",
    "    # Read data from buffer of Keithley 2400 and write to the file\n",
    "    lstCurrent = data[1::2] # get all odd elements, which are currents\n",
    "\n",
    "    lstVoltage = data[0::2] # get all even elements, which are voltages\n",
    "\n",
    "    # if Vstart > Vstop:\n",
    "    #     Vstep = -abs(Vstep)\n",
    "    # else:\n",
    "    #     Vstep = abs(Vstep)\n",
    "    lstAbsCurrent = np.abs(lstCurrent)\n",
    "    lstCalVoltage = [(Vstart + i*Vstep) for i in range(stepNum)]\n",
    "    dataToWrite = [['vRange', vRange]]\n",
    "    dataToWrite.append(['iCompliance', iCompliance])\n",
    "    #dataToWrite.append(['iRange', iRange[16:]])\n",
    "    dataToWrite.append(['iNPLC', iNPLC])\n",
    "    dataToWrite.append(['data Number', stepNum])\n",
    "    dataToWrite = [['V', 'I', 'V_cal','abs_I']]\n",
    "    for i in range(len(lstCurrent)):\n",
    "        dataToWrite.append([lstVoltage[i], lstCurrent[i], lstCalVoltage[i] , lstAbsCurrent[i]])\n",
    "    try:\n",
    "        with open(filePath, 'w', newline = '') as file:\n",
    "            writer = csv.writer(file)\n",
    "            writer.writerows(dataToWrite)\n",
    "            file.close()\n",
    "    except IOError:\n",
    "        print(\"Error: Could not open file for writing\")\n",
    "\n",
    "    fig, ax = plt.subplots()\n",
    "    line, = ax.plot(lstCalVoltage, lstAbsCurrent, 'o-')\n",
    "    ax.set_xlabel('Voltage (V)')\n",
    "    #plt.xticks(fontsize = 18)\n",
    "    ax.set_ylabel('Current (A)')\n",
    "    ax.set_yscale('log')\n",
    "    #plt.yticks(fontsize = 18)\n",
    "    # Function to update plot\n",
    "    plt.show()\n",
    "    plt.savefig(os.path.splitext(filePath)[0] + '.png')\n"
   ]
  },
  {
   "cell_type": "code",
   "execution_count": 9,
   "id": "ba4d6717",
   "metadata": {},
   "outputs": [],
   "source": [
    "def fncMeasureOneKL(arrVMeasurement, \\\n",
    "                  Sample = 'Test', sweepNum = 1,\\\n",
    "                  folderPath='230530\\\\Dev02\\\\Test',\\\n",
    "                  askToStart=False):\n",
    "    Vstart, Vstop, Vstep = arrVMeasurement\n",
    "    fileName = \"Sweep\"+str(sweepNum)+Sample+'Star'+str(Vstart).replace(\"-\",\"M\")+'_Stop'+str(Vstop).replace(\"-\",\"M\")+'_Step'+str(Vstep).replace(\"-\", \"M\")+'.csv'\n",
    "    filePath = os.path.join(folderPath, fileName)\n",
    "    print(filePath)\n",
    "    stepNum = np.floor(abs((Vstart - Vstop)/Vstep)).astype(int) + 1\n",
    "    vRange = \"AUTO\"\n",
    "    iCompliance = 1\n",
    "    iNPLC = 1\n",
    "    delay = 0.1\n",
    "    keith.write('*RST')\n",
    "    keith.write(':ROUT:TERM REAR')\n",
    "    keith.write(':SOUR:FUNC VOLT')\n",
    "    keith.write(':SENS:FUNC \"CURR:DC\"')\n",
    "    keith.write(\":SOUR:VOLT:STAR %0.2f\" % Vstart)\n",
    "    keith.write(\":SOUR:VOLT:STOP %0.2f\" % Vstop)\n",
    "    keith.write(\":SOUR:VOLT:STEP %0.3f\" % Vstep)\n",
    "    vRange = ':SOUR:SWE:RANG ' + vRange\n",
    "    keith.write(vRange)\n",
    "    iCompliance = ':SENSE:CURR:PROT '+ str(iCompliance)\n",
    "    keith.write(iCompliance)\n",
    "    keith.write(\":SOUR:VOLT:MODE SWE\")\n",
    "    keith.write(\":SENSE:CURR:PROT 1\" )\n",
    "    keith.write(':SENSE:CURR:NPLC %f' %iNPLC )\n",
    "    keith.write(':SOUR:SWE:SPAC LIN')\n",
    "    keith.write(\"TRAC:CLE\")\n",
    "    keith.write('TRAC:POIN %f' %stepNum)\n",
    "    keith.write(':FORM:ELEM:SENS VOLT,CURR')\n",
    "    keith.write(':TRIG:COUN %f' % stepNum)\n",
    "    keith.write(':SOUR:SWE:POIN %f' %stepNum)\n",
    "    keith.write(':SOUR:DEL %0.2f' % delay)\n",
    "    keith.write(':OUTP ON')\n",
    "    keith.write(\":INIT\")\n",
    "    keith.write('*WAI')\n",
    "    keith.write(':OUTP OFF')\n",
    "\n",
    "    time.sleep(1)\n",
    "\n",
    "    data = keith.query_ascii_values(\"FETC?\")\n",
    "    #print(data)\n",
    "    # Read data from buffer of Keithley 2400 and write to the file\n",
    "    lstCurrent = data[1::2] # get all odd elements, which are currents\n",
    "\n",
    "    lstVoltage = data[0::2] # get all even elements, which are voltages\n",
    "\n",
    "    # if Vstart > Vstop:\n",
    "    #     Vstep = -abs(Vstep)\n",
    "    # else:\n",
    "    #     Vstep = abs(Vstep)\n",
    "    lstAbsCurrent = np.abs(lstCurrent)\n",
    "    lstCalVoltage = [(Vstart + i*Vstep) for i in range(stepNum)]\n",
    "    dataToWrite = [['vRange', vRange]]\n",
    "    dataToWrite.append(['iCompliance', iCompliance])\n",
    "    #dataToWrite.append(['iRange', iRange[16:]])\n",
    "    dataToWrite.append(['iNPLC', iNPLC])\n",
    "    dataToWrite.append(['data Number', stepNum])\n",
    "    dataToWrite = [['V', 'I', 'V_cal','abs_I']]\n",
    "    for i in range(len(lstCurrent)):\n",
    "        dataToWrite.append([lstVoltage[i], lstCurrent[i], lstCalVoltage[i] , lstAbsCurrent[i]])\n",
    "    try:\n",
    "        with open(filePath, 'w', newline = '') as file:\n",
    "            writer = csv.writer(file)\n",
    "            writer.writerows(dataToWrite)\n",
    "            file.close()\n",
    "    except IOError:\n",
    "        print(\"Error: Could not open file for writing\")\n",
    "\n",
    "    fig, ax = plt.subplots()\n",
    "    line, = ax.plot(lstCalVoltage, lstAbsCurrent, 'o-')\n",
    "    ax.set_xlabel('Voltage (V)')\n",
    "    #plt.xticks(fontsize = 18)\n",
    "    ax.set_ylabel('Current (A)')\n",
    "    ax.set_yscale('log')\n",
    "    #plt.yticks(fontsize = 18)\n",
    "    # Function to update plot\n",
    "    plt.show()\n",
    "    plt.savefig(os.path.splitext(filePath)[0] + '.png')\n"
   ]
  },
  {
   "cell_type": "code",
   "execution_count": 38,
   "id": "5208c094",
   "metadata": {},
   "outputs": [],
   "source": [
    "def fncMeasureOne(arrVMeasurement, \\\n",
    "                  device= 'pico',\\\n",
    "                  Sample = 'Test', sweepNum = 1,\\\n",
    "                  folderPath='230606\\\\Dev02\\\\Test',\\\n",
    "                  askToStart=False):\n",
    "    if (device == 'pico'):\n",
    "        fncMeasureOnePico(arrVMeasurement, Sample, sweepNum, folderPath, askToStart)\n",
    "    elif (device == 'keith'):\n",
    "        fncMeasureOneKL(arrVMeasurement, Sample, sweepNum, folderPath, askToStart)\n",
    "    elif (device == 'keith1'):\n",
    "        fncMeasureOneKL1(arrVMeasurement, Sample, sweepNum, folderPath, askToStart)\n",
    "    elif (device == 'M2657A'):\n",
    "        fncMeasureOneM2657A(arrVMeasurement, Sample, sweepNum, folderPath, askToStart)\n",
    "    else:\n",
    "        print(\"Incorrect device name\")"
   ]
  },
  {
   "cell_type": "code",
   "execution_count": 39,
   "id": "55bd87dd",
   "metadata": {},
   "outputs": [],
   "source": [
    "def fncMeasureMultiple(settings =['pico', [[0, 0.5, 0.1]]], \\\n",
    "                  Sample = 'Test',\\\n",
    "                  startNum = 1, \\\n",
    "                  folderPath='230606\\\\Dev02\\\\Test',\\\n",
    "                  askToStart=False): \n",
    "    sweepNum = 0\n",
    "    dev, arrVMeasurements = settings\n",
    "    for j in range (len(arrVMeasurements)):\n",
    "        sweepNum = j + startNum\n",
    "        fncMeasureOne(arrVMeasurements[j], dev , Sample, sweepNum, folderPath)\n",
    "        time.sleep(5)"
   ]
  },
  {
   "cell_type": "code",
   "execution_count": 40,
   "id": "0799b1c2",
   "metadata": {},
   "outputs": [
    {
     "name": "stdout",
     "output_type": "stream",
     "text": [
      "Folder already exists\n",
      "Folder already exists\n"
     ]
    }
   ],
   "source": [
    "folderPath = '241108_Test'\n",
    "# Create a new directory\n",
    "try:\n",
    "    os.mkdir(folderPath)\n",
    "except FileExistsError:\n",
    "    print(\"Folder already exists\")\n",
    "    \n",
    "folderPath = folderPath+ '\\\\Dev01'\n",
    "# Create a new directory\n",
    "try:\n",
    "    os.mkdir(folderPath)\n",
    "except FileExistsError:\n",
    "    print(\"Folder already exists\")\n",
    "\n",
    "folderPath = folderPath+ '\\\\D03'\n",
    "# Create a new directory\n",
    "try:\n",
    "    os.mkdir(folderPath)\n",
    "except FileExistsError:\n",
    "    print(\"Folder already exists\")\n",
    "sample = folderPath[-3:]"
   ]
  },
  {
   "cell_type": "code",
   "execution_count": 53,
   "id": "e92e53f4",
   "metadata": {},
   "outputs": [
    {
     "name": "stdout",
     "output_type": "stream",
     "text": [
      "240805_Fab240727_NiNiO_NegLOnBrassSM\\Dev20\\J01\\Sweep1J01Star0_Stop3_Step0.01.csv\n",
      "240805_Fab240727_NiNiO_NegLOnBrassSM\\Dev20\\J01\\Sweep2J01Star0_StopM3_StepM0.01.csv\n"
     ]
    }
   ],
   "source": [
    "#run Keithley 2400 [0, 3, 0.01],\\\n",
    "arrKLVMeasMulti =[\"keith\",[[0, 3, 0.01],\\\n",
    "                            #[0, 3, 0.01],\\\n",
    "                            [0, -3, -0.01]]]\n",
    "fncMeasureMultiple(arrKLVMeasMulti,sample, 1, folderPath)"
   ]
  },
  {
   "cell_type": "code",
   "execution_count": 10,
   "id": "e692b48e",
   "metadata": {
    "scrolled": true
   },
   "outputs": [
    {
     "name": "stdout",
     "output_type": "stream",
     "text": [
      "240805_Fab240727_NiNiO_NegLOnBrassSM\\Dev26\\D07\\Sweep3D07Star0_Stop1.5_Step0.01.csv\n",
      "240805_Fab240727_NiNiO_NegLOnBrassSM\\Dev26\\D07\\Sweep4D07Star0_StopM1.5_StepM0.01.csv\n",
      "240805_Fab240727_NiNiO_NegLOnBrassSM\\Dev26\\D07\\Sweep5D07Star0_StopM500_StepM1.csv\n",
      "240805_Fab240727_NiNiO_NegLOnBrassSM\\Dev26\\D07\\Sweep6D07Star0_Stop1.5_Step0.01.csv\n",
      "240805_Fab240727_NiNiO_NegLOnBrassSM\\Dev26\\D07\\Sweep7D07Star0_StopM1.5_StepM0.01.csv\n"
     ]
    }
   ],
   "source": [
    "#run picoamp meter\n",
    "arrPicoVMeasMulti =[\"pico\", [[0, 1.5, 0.01],\\\n",
    "                [0, -1.5, -0.01],\\\n",
    "                [0, -500, -1],\\\n",
    "                 [0, 1.5, 0.01],\\\n",
    "                 [0, -1.5, -0.01]]]\n",
    "fncMeasureMultiple(arrPicoVMeasMulti,sample, 3, folderPath)"
   ]
  },
  {
   "cell_type": "code",
   "execution_count": 42,
   "id": "d2aac12f",
   "metadata": {},
   "outputs": [
    {
     "name": "stdout",
     "output_type": "stream",
     "text": [
      "241108_Test\\Dev01\\D03\\Sweep3D03Star0_StopM1.5_StepM0.01.csv\n",
      "241108_Test\\Dev01\\D03\\Sweep4D03Star0_Stop1.5_StepM0.01.csv\n",
      "241108_Test\\Dev01\\D03\\Sweep5D03Star0_Stop50_Step0.5.csv\n",
      "241108_Test\\Dev01\\D03\\Sweep6D03Star0_StopM1.5_StepM0.01.csv\n",
      "241108_Test\\Dev01\\D03\\Sweep7D03Star0_Stop1.5_Step0.01.csv\n"
     ]
    }
   ],
   "source": [
    "#run picoamp meter\n",
    "arrPicoVMeasMulti =[\"M2657A\", [[0, -1.5, -0.01],\\\n",
    "                [0, 1.5, -0.01],\\\n",
    "                [0, 50, 0.5],\\\n",
    "                 [0, -1.5, -0.01],\\\n",
    "                 [0, 1.5, 0.01]]]\n",
    "fncMeasureMultiple(arrPicoVMeasMulti,sample, 3, folderPath)"
   ]
  },
  {
   "cell_type": "code",
   "execution_count": 28,
   "id": "70536d51",
   "metadata": {},
   "outputs": [
    {
     "name": "stdout",
     "output_type": "stream",
     "text": [
      "240805_Fab240727_NiNiO_NegLOnBrassSM\\Dev05\\D04\\Sweep8D04Star0_Stop3_Step0.01.csv\n",
      "240805_Fab240727_NiNiO_NegLOnBrassSM\\Dev05\\D04\\Sweep9D04Star0_StopM3_StepM0.01.csv\n"
     ]
    }
   ],
   "source": [
    "#run Keithley 2400\n",
    "arrKLVMeasMulti =[\"keith\", [[0, 3, 0.01],\\\n",
    "                [0, -3, -0.01]]]\n",
    "fncMeasureMultiple(arrKLVMeasMulti,sample, 8, folderPath)"
   ]
  },
  {
   "cell_type": "code",
   "execution_count": 27,
   "id": "86eef1c8",
   "metadata": {},
   "outputs": [
    {
     "name": "stdout",
     "output_type": "stream",
     "text": [
      "Incorrect device name\n"
     ]
    }
   ],
   "source": [
    "arrVMeas = [0, -3, -0.01]\n",
    "fncMeasureOne(arrVMeas, sample, 1, folderPath)"
   ]
  },
  {
   "cell_type": "code",
   "execution_count": 42,
   "id": "69f3c946",
   "metadata": {},
   "outputs": [
    {
     "name": "stdout",
     "output_type": "stream",
     "text": [
      "231210_Fab231209_3DPrintedSM\\Dev16\\F01\\Sweep8F01Star0_Stop3_Step0.01.csv\n"
     ]
    }
   ],
   "source": [
    "#run picoamp meter\n",
    "arrPicoVMeasMulti =[\"keith\", [[0, 3, 0.01]]]#,\\\n",
    "                #[0, -1.5, -0.01],\\\n",
    "                #[0, -500, -1],\\\n",
    "                 #[0, 1.5, 0.01],\\\n",
    "                 #[0, -1.5, -0.01]]]\n",
    "fncMeasureMultiple(arrPicoVMeasMulti,sample, 8, folderPath)"
   ]
  },
  {
   "cell_type": "code",
   "execution_count": 5,
   "id": "e5968722",
   "metadata": {},
   "outputs": [
    {
     "ename": "NameError",
     "evalue": "name 'fncMeasureMultiple' is not defined",
     "output_type": "error",
     "traceback": [
      "\u001b[1;31m---------------------------------------------------------------------------\u001b[0m",
      "\u001b[1;31mNameError\u001b[0m                                 Traceback (most recent call last)",
      "Cell \u001b[1;32mIn[5], line 5\u001b[0m\n\u001b[0;32m      1\u001b[0m \u001b[38;5;66;03m#run Keithley 2400 [0, 3, 0.01],\\\u001b[39;00m\n\u001b[0;32m      2\u001b[0m arrKLVMeasMulti \u001b[38;5;241m=\u001b[39m[\u001b[38;5;124m\"\u001b[39m\u001b[38;5;124mkeith1\u001b[39m\u001b[38;5;124m\"\u001b[39m,[[\u001b[38;5;241m0\u001b[39m, \u001b[38;5;241m3\u001b[39m, \u001b[38;5;241m0.01\u001b[39m],\\\n\u001b[0;32m      3\u001b[0m                             [\u001b[38;5;241m0\u001b[39m, \u001b[38;5;241m3\u001b[39m, \u001b[38;5;241m0.01\u001b[39m],\\\n\u001b[0;32m      4\u001b[0m                             [\u001b[38;5;241m0\u001b[39m, \u001b[38;5;241m-\u001b[39m\u001b[38;5;241m3\u001b[39m, \u001b[38;5;241m-\u001b[39m\u001b[38;5;241m0.01\u001b[39m]]]\n\u001b[1;32m----> 5\u001b[0m \u001b[43mfncMeasureMultiple\u001b[49m(arrKLVMeasMulti,sample, \u001b[38;5;241m0\u001b[39m, folderPath)\n",
      "\u001b[1;31mNameError\u001b[0m: name 'fncMeasureMultiple' is not defined"
     ]
    }
   ],
   "source": [
    "#run Keithley 2400 [0, 3, 0.01],\\\n",
    "arrKLVMeasMulti =[\"keith1\",[[0, 3, 0.01],\\\n",
    "                            [0, 3, 0.01],\\\n",
    "                            [0, -3, -0.01]]]\n",
    "fncMeasureMultiple(arrKLVMeasMulti,sample, 0, folderPath)"
   ]
  },
  {
   "cell_type": "code",
   "execution_count": 55,
   "id": "4de02caf",
   "metadata": {},
   "outputs": [
    {
     "name": "stdout",
     "output_type": "stream",
     "text": [
      "240805_Fab240727_NiNiO_NegLOnBrassSM\\Dev20\\J01\\Sweep4J01Star0_Stop3_Step0.01.csv\n"
     ]
    }
   ],
   "source": [
    "#run picoamp meter\n",
    "arrPicoVMeasMulti =[\"keith\", [[0, 3, 0.01]]]#,\\\n",
    "                #[0, -1.5, -0.01],\\\n",
    "                #[0, 3, 0.01],\\\n",
    "                 #[0, -500, -1],\\\n",
    "                 #[0, -1.5, -0.01]]]\n",
    "fncMeasureMultiple(arrPicoVMeasMulti,sample, 4, folderPath)"
   ]
  },
  {
   "cell_type": "code",
   "execution_count": null,
   "id": "f2052478",
   "metadata": {},
   "outputs": [],
   "source": []
  }
 ],
 "metadata": {
  "kernelspec": {
   "display_name": "Python 3 (ipykernel)",
   "language": "python",
   "name": "python3"
  },
  "language_info": {
   "codemirror_mode": {
    "name": "ipython",
    "version": 3
   },
   "file_extension": ".py",
   "mimetype": "text/x-python",
   "name": "python",
   "nbconvert_exporter": "python",
   "pygments_lexer": "ipython3",
   "version": "3.10.9"
  }
 },
 "nbformat": 4,
 "nbformat_minor": 5
}
