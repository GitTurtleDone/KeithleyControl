{
 "cells": [
  {
   "cell_type": "markdown",
   "id": "3c026542",
   "metadata": {},
   "source": [
    "INITIALIZE"
   ]
  },
  {
   "cell_type": "code",
   "execution_count": 155,
   "id": "8ee3a443",
   "metadata": {},
   "outputs": [],
   "source": [
    "import pyvisa\n",
    "import numpy as np\n",
    "import time\n",
    "import matplotlib.pyplot as plt\n",
    "import os\n",
    "import csv\n",
    "%matplotlib qt"
   ]
  },
  {
   "cell_type": "code",
   "execution_count": 156,
   "id": "a6bdf78a",
   "metadata": {},
   "outputs": [],
   "source": [
    "def update_plot(fig, ax, line, lstVoltage, lstAbsCurrent):\n",
    "    line.set_data(lstVoltage, lstAbsCurrent)\n",
    "    ax.relim()\n",
    "    ax.autoscale_view()\n",
    "    fig.canvas.draw()\n",
    "    fig.canvas.flush_events()"
   ]
  },
  {
   "cell_type": "code",
   "execution_count": 157,
   "id": "552cb64a",
   "metadata": {},
   "outputs": [],
   "source": [
    "\n",
    "rm = pyvisa.ResourceManager()"
   ]
  },
  {
   "cell_type": "code",
   "execution_count": 158,
   "id": "df0a6cca",
   "metadata": {},
   "outputs": [
    {
     "data": {
      "text/plain": [
       "9"
      ]
     },
     "execution_count": 158,
     "metadata": {},
     "output_type": "execute_result"
    }
   ],
   "source": [
    "\n",
    "m2461 = rm.open_resource('TCPIP0::132.181.53.57::inst0::INSTR')\n",
    "m2461.timeout = 10000\n",
    "m2461.write(f\"reset()\")"
   ]
  },
  {
   "cell_type": "code",
   "execution_count": 159,
   "id": "6585bdeb",
   "metadata": {},
   "outputs": [],
   "source": [
    "def fncMeasureOne(arrVMeasurement, \\\n",
    "                  device= 'pico',\\\n",
    "                  Sample = 'Test', sweepNum = 1,\\\n",
    "                  folderPath='230606\\\\Dev02\\\\Test',\\\n",
    "                  askToStart=False):\n",
    "    if (device == 'pico'):\n",
    "        fncMeasureOnePico(arrVMeasurement, Sample, sweepNum, folderPath, askToStart)\n",
    "    elif (device == 'keith'):\n",
    "        fncMeasureOneKL(arrVMeasurement, Sample, sweepNum, folderPath, askToStart)\n",
    "    elif (device == 'keith1'):\n",
    "        fncMeasureOneKL1(arrVMeasurement, Sample, sweepNum, folderPath, askToStart)\n",
    "    elif (device == 'M2657A'):\n",
    "        fncMeasureOneM2657A(arrVMeasurement, Sample, sweepNum, folderPath, askToStart)\n",
    "    elif (device == 'M2461SWETSP'): #TSP means using TSP commands, SWE means sweep the whole thing from start to stop in one run\n",
    "        fncMeasureOneM2461SWETSP(arrVMeasurement, Sample, sweepNum, folderPath, askToStart)\n",
    "    elif (device == 'M2461POITSP'): #POI means set each point and then measure and move to another.\n",
    "        fncMeasureOneM2461POITSP(arrVMeasurement, Sample, sweepNum, folderPath, askToStart)\n",
    "    else:\n",
    "        print(\"Incorrect device name\")"
   ]
  },
  {
   "cell_type": "code",
   "execution_count": 160,
   "id": "55bd87dd",
   "metadata": {},
   "outputs": [],
   "source": [
    "def fncMeasureMultiple(settings =['pico', [[0, 0.5, 0.1]]], \\\n",
    "                  Sample = 'Test',\\\n",
    "                  startNum = 1, \\\n",
    "                  folderPath='230606\\\\Dev02\\\\Test',\\\n",
    "                  askToStart=False): \n",
    "    sweepNum = 0\n",
    "    dev, arrVMeasurements = settings\n",
    "    for j in range (len(arrVMeasurements)):\n",
    "        sweepNum = j + startNum\n",
    "        fncMeasureOne(arrVMeasurements[j], dev , Sample, sweepNum, folderPath)\n",
    "        time.sleep(5)"
   ]
  },
  {
   "cell_type": "code",
   "execution_count": 161,
   "id": "0799b1c2",
   "metadata": {},
   "outputs": [
    {
     "name": "stdout",
     "output_type": "stream",
     "text": [
      "Folder already exists\n",
      "Folder already exists\n",
      "Folder already exists\n"
     ]
    }
   ],
   "source": [
    "folderPath = '250328_Model2461_Test'\n",
    "# Create a new directory\n",
    "try:\n",
    "    os.mkdir(folderPath)\n",
    "except FileExistsError:\n",
    "    print(\"Folder already exists\")\n",
    "    \n",
    "folderPath = folderPath+ '\\\\Re10k'\n",
    "# Create a new directory\n",
    "try:\n",
    "    os.mkdir(folderPath)\n",
    "except FileExistsError:\n",
    "    print(\"Folder already exists\")\n",
    "\n",
    "folderPath = folderPath+ '\\\\k10'\n",
    "# Create a new directory\n",
    "try:\n",
    "    os.mkdir(folderPath)\n",
    "except FileExistsError:\n",
    "    print(\"Folder already exists\")\n",
    "sample = folderPath[-3:]"
   ]
  },
  {
   "cell_type": "code",
   "execution_count": 162,
   "id": "6fd40e69",
   "metadata": {},
   "outputs": [
    {
     "ename": "VisaIOError",
     "evalue": "VI_ERROR_TMO (-1073807339): Timeout expired before operation completed.",
     "output_type": "error",
     "traceback": [
      "\u001b[1;31m---------------------------------------------------------------------------\u001b[0m",
      "\u001b[1;31mVisaIOError\u001b[0m                               Traceback (most recent call last)",
      "Cell \u001b[1;32mIn[162], line 58\u001b[0m\n\u001b[0;32m     56\u001b[0m     m2461\u001b[38;5;241m.\u001b[39mwrite(\u001b[38;5;124mf\u001b[39m\u001b[38;5;124m\"\u001b[39m\u001b[38;5;124mbeeper.beep(0.5,100)\u001b[39m\u001b[38;5;124m\"\u001b[39m)\n\u001b[0;32m     57\u001b[0m     \u001b[38;5;28;01mreturn\u001b[39;00m \u001b[38;5;28;01mTrue\u001b[39;00m\n\u001b[1;32m---> 58\u001b[0m \u001b[43msetM2461IVMeasurementTSP\u001b[49m\u001b[43m(\u001b[49m\u001b[43m)\u001b[49m   \n\u001b[0;32m     61\u001b[0m     \u001b[38;5;66;03m#m2461.write(f\"display.changescreen(display.SCREEN_HOME)\")\u001b[39;00m\n\u001b[0;32m     63\u001b[0m \u001b[38;5;28;01mdef\u001b[39;00m \u001b[38;5;21mmeasureM2461OnePointTSP\u001b[39m(setV, outputON \u001b[38;5;241m=\u001b[39m \u001b[38;5;28;01mFalse\u001b[39;00m, resetV \u001b[38;5;241m=\u001b[39m \u001b[38;5;28;01mTrue\u001b[39;00m):\n\u001b[0;32m     64\u001b[0m     \u001b[38;5;66;03m#setM2461IVMeasurement()\u001b[39;00m\n\u001b[0;32m     65\u001b[0m     \u001b[38;5;66;03m#m2461.write(f\"bufData = buffer.make(1)\") \u001b[39;00m\n",
      "Cell \u001b[1;32mIn[162], line 22\u001b[0m, in \u001b[0;36msetM2461IVMeasurementTSP\u001b[1;34m(terminal, vRange, iRange, iCompliance, iMeasMode, iNPLC, delay)\u001b[0m\n\u001b[0;32m     20\u001b[0m m2461\u001b[38;5;241m.\u001b[39mwrite(\u001b[38;5;124m\"\u001b[39m\u001b[38;5;124mprint(defbuffer1.n)\u001b[39m\u001b[38;5;124m\"\u001b[39m)\n\u001b[0;32m     21\u001b[0m \u001b[38;5;66;03m# Read the response and convert it to an integer\u001b[39;00m\n\u001b[1;32m---> 22\u001b[0m buffer_count \u001b[38;5;241m=\u001b[39m \u001b[38;5;28mround\u001b[39m(\u001b[38;5;28mfloat\u001b[39m(\u001b[43mm2461\u001b[49m\u001b[38;5;241;43m.\u001b[39;49m\u001b[43mread\u001b[49m\u001b[43m(\u001b[49m\u001b[43m)\u001b[49m\u001b[38;5;241m.\u001b[39mstrip()))\n\u001b[0;32m     23\u001b[0m \u001b[38;5;28mprint\u001b[39m(\u001b[38;5;124mf\u001b[39m\u001b[38;5;124m\"\u001b[39m\u001b[38;5;124mNumber of data points in buffer: \u001b[39m\u001b[38;5;132;01m{\u001b[39;00mbuffer_count\u001b[38;5;132;01m}\u001b[39;00m\u001b[38;5;124m\"\u001b[39m)\n\u001b[0;32m     24\u001b[0m \u001b[38;5;28;01mif\u001b[39;00m buffer_count \u001b[38;5;241m!=\u001b[39m \u001b[38;5;241m0\u001b[39m:\n",
      "File \u001b[1;32mc:\\Users\\gtd19\\AppData\\Local\\miniconda3\\envs\\embedded\\lib\\site-packages\\pyvisa\\resources\\messagebased.py:486\u001b[0m, in \u001b[0;36mMessageBasedResource.read\u001b[1;34m(self, termination, encoding)\u001b[0m\n\u001b[0;32m    484\u001b[0m \u001b[38;5;28;01mif\u001b[39;00m termination \u001b[38;5;129;01mis\u001b[39;00m \u001b[38;5;28;01mNone\u001b[39;00m:\n\u001b[0;32m    485\u001b[0m     termination \u001b[38;5;241m=\u001b[39m \u001b[38;5;28mself\u001b[39m\u001b[38;5;241m.\u001b[39m_read_termination\n\u001b[1;32m--> 486\u001b[0m     message \u001b[38;5;241m=\u001b[39m \u001b[38;5;28;43mself\u001b[39;49m\u001b[38;5;241;43m.\u001b[39;49m\u001b[43m_read_raw\u001b[49m\u001b[43m(\u001b[49m\u001b[43m)\u001b[49m\u001b[38;5;241m.\u001b[39mdecode(enco)\n\u001b[0;32m    487\u001b[0m \u001b[38;5;28;01melse\u001b[39;00m:\n\u001b[0;32m    488\u001b[0m     \u001b[38;5;28;01mwith\u001b[39;00m \u001b[38;5;28mself\u001b[39m\u001b[38;5;241m.\u001b[39mread_termination_context(termination):\n",
      "File \u001b[1;32mc:\\Users\\gtd19\\AppData\\Local\\miniconda3\\envs\\embedded\\lib\\site-packages\\pyvisa\\resources\\messagebased.py:442\u001b[0m, in \u001b[0;36mMessageBasedResource._read_raw\u001b[1;34m(self, size)\u001b[0m\n\u001b[0;32m    435\u001b[0m     \u001b[38;5;28;01mwhile\u001b[39;00m status \u001b[38;5;241m==\u001b[39m loop_status:\n\u001b[0;32m    436\u001b[0m         logger\u001b[38;5;241m.\u001b[39mdebug(\n\u001b[0;32m    437\u001b[0m             \u001b[38;5;124m\"\u001b[39m\u001b[38;5;132;01m%s\u001b[39;00m\u001b[38;5;124m - reading \u001b[39m\u001b[38;5;132;01m%d\u001b[39;00m\u001b[38;5;124m bytes (last status \u001b[39m\u001b[38;5;132;01m%r\u001b[39;00m\u001b[38;5;124m)\u001b[39m\u001b[38;5;124m\"\u001b[39m,\n\u001b[0;32m    438\u001b[0m             \u001b[38;5;28mself\u001b[39m\u001b[38;5;241m.\u001b[39m_resource_name,\n\u001b[0;32m    439\u001b[0m             size,\n\u001b[0;32m    440\u001b[0m             status,\n\u001b[0;32m    441\u001b[0m         )\n\u001b[1;32m--> 442\u001b[0m         chunk, status \u001b[38;5;241m=\u001b[39m \u001b[38;5;28;43mself\u001b[39;49m\u001b[38;5;241;43m.\u001b[39;49m\u001b[43mvisalib\u001b[49m\u001b[38;5;241;43m.\u001b[39;49m\u001b[43mread\u001b[49m\u001b[43m(\u001b[49m\u001b[38;5;28;43mself\u001b[39;49m\u001b[38;5;241;43m.\u001b[39;49m\u001b[43msession\u001b[49m\u001b[43m,\u001b[49m\u001b[43m \u001b[49m\u001b[43msize\u001b[49m\u001b[43m)\u001b[49m\n\u001b[0;32m    443\u001b[0m         ret\u001b[38;5;241m.\u001b[39mextend(chunk)\n\u001b[0;32m    444\u001b[0m \u001b[38;5;28;01mexcept\u001b[39;00m errors\u001b[38;5;241m.\u001b[39mVisaIOError \u001b[38;5;28;01mas\u001b[39;00m e:\n",
      "File \u001b[1;32mc:\\Users\\gtd19\\AppData\\Local\\miniconda3\\envs\\embedded\\lib\\site-packages\\pyvisa\\ctwrapper\\functions.py:2337\u001b[0m, in \u001b[0;36mread\u001b[1;34m(library, session, count)\u001b[0m\n\u001b[0;32m   2335\u001b[0m buffer \u001b[38;5;241m=\u001b[39m create_string_buffer(count)\n\u001b[0;32m   2336\u001b[0m return_count \u001b[38;5;241m=\u001b[39m ViUInt32()\n\u001b[1;32m-> 2337\u001b[0m ret \u001b[38;5;241m=\u001b[39m \u001b[43mlibrary\u001b[49m\u001b[38;5;241;43m.\u001b[39;49m\u001b[43mviRead\u001b[49m\u001b[43m(\u001b[49m\u001b[43msession\u001b[49m\u001b[43m,\u001b[49m\u001b[43m \u001b[49m\u001b[43mbuffer\u001b[49m\u001b[43m,\u001b[49m\u001b[43m \u001b[49m\u001b[43mcount\u001b[49m\u001b[43m,\u001b[49m\u001b[43m \u001b[49m\u001b[43mbyref\u001b[49m\u001b[43m(\u001b[49m\u001b[43mreturn_count\u001b[49m\u001b[43m)\u001b[49m\u001b[43m)\u001b[49m\n\u001b[0;32m   2338\u001b[0m \u001b[38;5;28;01mreturn\u001b[39;00m buffer\u001b[38;5;241m.\u001b[39mraw[: return_count\u001b[38;5;241m.\u001b[39mvalue], ret\n",
      "File \u001b[1;32mc:\\Users\\gtd19\\AppData\\Local\\miniconda3\\envs\\embedded\\lib\\site-packages\\pyvisa\\ctwrapper\\highlevel.py:226\u001b[0m, in \u001b[0;36mIVIVisaLibrary._return_handler\u001b[1;34m(self, ret_value, func, arguments)\u001b[0m\n\u001b[0;32m    223\u001b[0m         \u001b[38;5;66;03m# Set session back to a safe value\u001b[39;00m\n\u001b[0;32m    224\u001b[0m         session \u001b[38;5;241m=\u001b[39m \u001b[38;5;28;01mNone\u001b[39;00m\n\u001b[1;32m--> 226\u001b[0m \u001b[38;5;28;01mreturn\u001b[39;00m \u001b[38;5;28;43mself\u001b[39;49m\u001b[38;5;241;43m.\u001b[39;49m\u001b[43mhandle_return_value\u001b[49m\u001b[43m(\u001b[49m\u001b[43msession\u001b[49m\u001b[43m,\u001b[49m\u001b[43m \u001b[49m\u001b[43mret_value\u001b[49m\u001b[43m)\u001b[49m\n",
      "File \u001b[1;32mc:\\Users\\gtd19\\AppData\\Local\\miniconda3\\envs\\embedded\\lib\\site-packages\\pyvisa\\highlevel.py:251\u001b[0m, in \u001b[0;36mVisaLibraryBase.handle_return_value\u001b[1;34m(self, session, status_code)\u001b[0m\n\u001b[0;32m    248\u001b[0m     \u001b[38;5;28mself\u001b[39m\u001b[38;5;241m.\u001b[39m_last_status_in_session[session] \u001b[38;5;241m=\u001b[39m rv\n\u001b[0;32m    250\u001b[0m \u001b[38;5;28;01mif\u001b[39;00m rv \u001b[38;5;241m<\u001b[39m \u001b[38;5;241m0\u001b[39m:\n\u001b[1;32m--> 251\u001b[0m     \u001b[38;5;28;01mraise\u001b[39;00m errors\u001b[38;5;241m.\u001b[39mVisaIOError(rv)\n\u001b[0;32m    253\u001b[0m \u001b[38;5;28;01mif\u001b[39;00m rv \u001b[38;5;129;01min\u001b[39;00m \u001b[38;5;28mself\u001b[39m\u001b[38;5;241m.\u001b[39missue_warning_on:\n\u001b[0;32m    254\u001b[0m     \u001b[38;5;28;01mif\u001b[39;00m session \u001b[38;5;129;01mand\u001b[39;00m rv \u001b[38;5;129;01mnot\u001b[39;00m \u001b[38;5;129;01min\u001b[39;00m \u001b[38;5;28mself\u001b[39m\u001b[38;5;241m.\u001b[39m_ignore_warning_in_session[session]:\n",
      "\u001b[1;31mVisaIOError\u001b[0m: VI_ERROR_TMO (-1073807339): Timeout expired before operation completed."
     ]
    }
   ],
   "source": [
    "def setM2461IVMeasurementTSP (terminal = \"FRONT\",\\\n",
    "                  vRange = \"AUTO\",\\\n",
    "                  iRange = \"AUTO\",\\\n",
    "                  iCompliance = 7,\\\n",
    "                  iMeasMode = \"2WIRE\",\\\n",
    "                  iNPLC = 1,\\\n",
    "                  delay = 0.1): #(iRange = \"AUTO\", iLimit = 7, nplc = 1, delay = 0.1)\n",
    "    # Reset and initialize instrutment\n",
    "    m2461.write(f\"defbuffer1.clear()\")\n",
    "    m2461.write(f\"buffer.clearstats()\")\n",
    "    m2461.write(f\"reset()\")\n",
    "    m2461.write(f\"status.reset()\")\n",
    "    m2461.write(f\"errorqueue.clear()\")\n",
    "    m2461.write(f\"dataqueue.clear()\")\n",
    "    \n",
    "    \n",
    "    ##############################################\n",
    "    ## Make sure that no data left in the buffer\n",
    "    # Send command to check the number of stored readings in defbuffer1\n",
    "    m2461.write(\"print(defbuffer1.n)\")\n",
    "    # Read the response and convert it to an integer\n",
    "    buffer_count = round(float(m2461.read().strip()))\n",
    "    print(f\"Number of data points in buffer: {buffer_count}\")\n",
    "    if buffer_count != 0:\n",
    "        data = m2461.read()\n",
    "        print(f\"data remains in buffer: {data}\")\n",
    "    ##############################################\n",
    "    m2461.write(f\"smu.terminals = smu.TERMINALS_{terminal}\" )\n",
    "\n",
    "    # Setup current measurement mode\n",
    "    m2461.write(f\"smu.measure.sense = smu.SENSE_{iMeasMode}\")\n",
    "\n",
    "    #Set up current measurement range\n",
    "    if iRange == \"AUTO\":\n",
    "        m2461.write(f\"smu.measure.autorange = smu.ON\")\n",
    "    else:\n",
    "        m2461.write(f\"smu.measure.autorange = smu.OFF\")\n",
    "        m2461.write(f\"smu.measure.rangei = %f\" % iRange)\n",
    "\n",
    "    # Setup voltage source mode\n",
    "\n",
    "    m2461.write(f\"smu.source.func = smu.FUNC_DC_VOLTAGE\")\n",
    "    if vRange == \"AUTO\":\n",
    "        m2461.write(f\"smu.source.autorange = smu.ON\")  \n",
    "    else:\n",
    "        m2461.write(f\"smu.source.autorange = smu.OFF\")\n",
    "        m2461.write(f\"smu.source.autorange = {vRange}\") \n",
    "    \n",
    "    #Set up current compliance\n",
    "    m2461.write(f\"smu.source.ilimit.level = %f\" % iCompliance)\n",
    "\n",
    "    #Set the measurement integration time and delay\n",
    "    m2461.write(f\"smu.measure.nplc = %f\" % iNPLC)\n",
    "    m2461.write(f\"smu.source.delay = %f\" % delay)\n",
    "\n",
    "    m2461.write(f\"beeper.beep(0.5,100)\")\n",
    "    return True\n",
    "setM2461IVMeasurementTSP()   \n",
    "  \n",
    "    \n",
    "    #m2461.write(f\"display.changescreen(display.SCREEN_HOME)\")\n",
    "\n",
    "def measureM2461OnePointTSP(setV, outputON = False, resetV = True):\n",
    "    #setM2461IVMeasurement()\n",
    "    #m2461.write(f\"bufData = buffer.make(1)\") \n",
    "    m2461.write(f\"smu.source.func = smu.FUNC_DC_VOLTAGE\")\n",
    "    m2461.write(f\"smu.source.level = %f\" %setV)\n",
    "    \n",
    "    if (not outputON):\n",
    "        m2461.write(f\"smu.source.output = 1\")\n",
    "    \n",
    "    m2461.write(f\"smu.measure.func = smu.FUNC_DC_VOLTAGE\")\n",
    "    m2461.write(f\"print(smu.measure.read())\") \n",
    "    voltage = m2461.read()\n",
    "\n",
    "    m2461.write(f\"smu.measure.func = smu.FUNC_DC_CURRENT\")\n",
    "    m2461.write(f\"print(smu.measure.read())\") \n",
    "    #m2461.write(f'printbuffer(1, 1, defbuffer1.sourcevalues, defbuffer1.readings)')\n",
    "    current = m2461.read()\n",
    "    #m2461.write(f\"buffer.delete(bufData)\")\n",
    "\n",
    "    #Turn off the output\n",
    "    if resetV:\n",
    "        m2461.write(f\"smu.source.level = 0\")\n",
    "        m2461.write(f\"smu.source.output = 0\")\n",
    "    return [float(current), float(voltage)] #[float(arrRawData[i]) for i in range(len(arrRawData))]\n",
    "\n",
    "# rawData\n",
    "current, voltage = measureM2461OnePointTSP(0.1,False,True)\n",
    "print (\"Current: \", current, \"Voltage: \", voltage)\n",
    "#print (rawData)\n"
   ]
  },
  {
   "cell_type": "code",
   "execution_count": null,
   "id": "3ba08b28",
   "metadata": {},
   "outputs": [],
   "source": [
    "def fncMeasureOneM2461POITSP(arrVMeasurement, \\\n",
    "                  Sample = 'Test', sweepNum = 1,\\\n",
    "                  folderPath='250319\\\\Dev02\\\\Test',\\\n",
    "                  askToStart=False,\\\n",
    "                  terminal = \"FRONT\",\\\n",
    "                  vRange = \"AUTO\",\\\n",
    "                  iRange = \"AUTO\",\\\n",
    "                  iCompliance = 7,\\\n",
    "                  iMeasMode = \"2WIRE\", \\\n",
    "                  iNPLC = 1, \\\n",
    "                  delay = 0.1,\\\n",
    "                  ):\n",
    "    Vstart, Vstop, Vstep = arrVMeasurement\n",
    "    fileName = \"Sweep\"+str(sweepNum)+Sample+'Star'+str(Vstart).replace(\"-\",\"M\")+'_Stop'+str(Vstop).replace(\"-\",\"M\")+'_Step'+str(Vstep).replace(\"-\", \"M\")+'.csv'\n",
    "    filePath = os.path.join(folderPath, fileName)\n",
    "    print(filePath)\n",
    "    stepNum = np.floor(abs((Vstart - Vstop)/Vstep)).astype(int) + 1\n",
    "\n",
    "    setM2461IVMeasurementTSP(terminal, vRange, iRange, iCompliance, iMeasMode, iNPLC, delay)\n",
    "    absVstart = abs(Vstart)\n",
    "    absVstop = abs(Vstop)\n",
    "    # Set up source range\n",
    "    if abs(Vstart) > abs(Vstop): \n",
    "        m2461.write(f\"smu.source.rangev = %f\" % absVstart)\n",
    "    else:\n",
    "        m2461.write(f\"smu.source.rangev = %f\" % absVstop)\n",
    "    \n",
    "    lstCurrent = []\n",
    "    lstVoltage = []\n",
    "    lstAbsCurrent = []\n",
    "    \n",
    "    fig, ax = plt.subplots()\n",
    "    line, = ax.plot([], [], 'o-')\n",
    "    ax.set_xlabel('Voltage (V)')\n",
    "    ax.set_ylabel('Absolute Current (A)')\n",
    "    ax.set_yscale('log')\n",
    "    plt.show()\n",
    "    time.sleep(1)\n",
    "    m2461.write(f\"smu.source.output = 1\")\n",
    "   \n",
    "    # Measurement loop\n",
    "    for i in range(stepNum):\n",
    "        current, voltage = measureM2461OnePointTSP(Vstart + i*Vstep,True,False)\n",
    "        lstVoltage.append(voltage)\n",
    "        lstCurrent.append(current)\n",
    "        lstAbsCurrent.append(abs(current))\n",
    "        update_plot(fig, ax, line,lstVoltage, lstAbsCurrent)\n",
    "        #time.sleep(0.1)\n",
    "    #Turn off the output\n",
    "    m2461.write(f\"smu.source.level = 0\")\n",
    "    m2461.write(f\"smu.source.output = 0\")\n",
    "    dataToWrite = [['vRange: ', vRange]]\n",
    "    dataToWrite.append(['iLimit: ', iCompliance])\n",
    "    dataToWrite.append(['iRange: ', iRange[16:]])\n",
    "    dataToWrite.append(['nplc: ', iNPLC, 'delay: ', delay])\n",
    "    dataToWrite.append(['data Number:', stepNum])\n",
    "    dataToWrite.append(['V_meas', 'I_meas'])\n",
    "\n",
    "    for i in range(len(lstCurrent)):\n",
    "        dataToWrite.append([lstVoltage[i], lstCurrent[i]])\n",
    "    try:\n",
    "        with open(filePath, 'w', newline = '') as file:\n",
    "            writer = csv.writer(file)\n",
    "            writer.writerows(dataToWrite)\n",
    "            file.close()\n",
    "    except IOError:\n",
    "        print(\"Error: Could not open file for writing\")\n",
    "    plt.show()\n",
    "    plt.savefig(os.path.splitext(filePath)[0] + '_log.png')\n",
    "    ax.set_yscale('linear')\n",
    "    plt.show()\n",
    "    plt.savefig(os.path.splitext(filePath)[0] + '_lin.png')"
   ]
  },
  {
   "cell_type": "code",
   "execution_count": null,
   "id": "73b2a2cb",
   "metadata": {},
   "outputs": [],
   "source": [
    "def fncMeasureOneM2461SWETSP(arrVMeasurement, \\\n",
    "                  Sample = 'Test', sweepNum = 1,\\\n",
    "                  folderPath='250318\\\\Dev02\\\\Test',\\\n",
    "                  askToStart=False,\\\n",
    "                  terminal = \"FRONT\",\\\n",
    "                  vRange = \"AUTO\",\\\n",
    "                  iRange = \"AUTO\",\\\n",
    "                  iCompliance = 7,\\\n",
    "                  iMeasMode = \"2WIRE\",\\\n",
    "                  iNPLC = 1,\\\n",
    "                  delay = 0.1):\n",
    "    lstCurrent = []\n",
    "    lstVoltage = []\n",
    "    lstAbsCurrent = []\n",
    "    lstCalVoltage = []\n",
    "\n",
    "    Vstart, Vstop, Vstep = arrVMeasurement\n",
    "    fileName = \"Sweep\"+str(sweepNum)+Sample+'Star'+str(Vstart).replace(\"-\",\"M\")+'_Stop'+str(Vstop).replace(\"-\",\"M\")+'_Step'+str(Vstep).replace(\"-\", \"M\")+'.csv'\n",
    "    filePath = os.path.join(folderPath, fileName)\n",
    "    print(filePath)\n",
    "    stepNum = np.floor(abs((Vstart - Vstop)/Vstep)).astype(int) + 1\n",
    "    \n",
    "    setM2461IVMeasurementTSP(terminal, vRange, iRange, iCompliance, iMeasMode, iNPLC, delay)\n",
    "    m2461.write(f'smu.source.sweeplinear(\"VLinSweep\", {Vstart:0.2f}, {Vstop:0.2f}, {stepNum:0.2f}, {delay:0.2f})')\n",
    "    m2461.write(f'trigger.model.initiate()')\n",
    "    m2461.write(f'waitcomplete()')\n",
    "    \n",
    "    \n",
    "    m2461.write(f'printbuffer(1, {stepNum:f}, defbuffer1.sourcevalues, defbuffer1.readings)')\n",
    "    m2461.write(f'waitcomplete()')\n",
    "    ## ensure that the measurement completes before retrieving data\n",
    "    time.sleep((delay+0.15)*stepNum) # \n",
    "    ## ensure that the measurement completes before retrieving data\n",
    "    data = m2461.read().split(', ') # this happens ansychonously with the sweep.\n",
    "    print('Measured data: ', data)\n",
    "    lstCurrent = [float(i) for i in data[1::2]] # get all odd elements, which are currents\n",
    "\n",
    "    lstVoltage = [float(i) for i in data[0::2]] # get all even elements, which are voltages\n",
    "    print (f'len current: {len(lstCurrent)}')\n",
    "    print (f'len current: {len(lstVoltage)}')\n",
    "    if Vstart > Vstop:\n",
    "        Vstep = -abs(Vstep)\n",
    "    else:\n",
    "        Vstep = abs(Vstep)\n",
    "    \n",
    "\n",
    "    lstAbsCurrent = np.abs(lstCurrent)\n",
    "    lstCalVoltage = [(Vstart + i*Vstep) for i in range(stepNum)]\n",
    "    dataToWrite = [['vRange', vRange]]\n",
    "    dataToWrite.append(['iCompliance', iCompliance])\n",
    "    #dataToWrite.append(['iRange', iRange[16:]])\n",
    "    dataToWrite.append(['iNPLC', iNPLC])\n",
    "    dataToWrite.append(['data Number', stepNum])\n",
    "    dataToWrite = [['V', 'I', 'V_cal','abs_I']]\n",
    "    for i in range(len(lstCurrent)):\n",
    "        dataToWrite.append([lstVoltage[i], lstCurrent[i], lstCalVoltage[i] , lstAbsCurrent[i]])\n",
    "    try:\n",
    "        with open(filePath, 'w', newline = '') as file:\n",
    "            writer = csv.writer(file)\n",
    "            writer.writerows(dataToWrite)\n",
    "            file.close()\n",
    "    except IOError:\n",
    "        print(\"Error: Could not open file for writing\")\n",
    "\n",
    "    fig, ax = plt.subplots()\n",
    "    line, = ax.plot(lstVoltage, lstAbsCurrent, 'o-')\n",
    "    ax.set_xlabel('Voltage (V)')\n",
    "    ax.set_ylabel('Current (A)')\n",
    "    ax.set_yscale('linear')\n",
    "    plt.show()\n",
    "    plt.savefig(os.path.splitext(filePath)[0] + '_lin.png')\n",
    "    ax.set_yscale('log')\n",
    "    plt.show()\n",
    "    plt.savefig(os.path.splitext(filePath)[0] + '_log.png')    \n"
   ]
  },
  {
   "cell_type": "code",
   "execution_count": null,
   "id": "bef8ed2f",
   "metadata": {},
   "outputs": [],
   "source": [
    "def fncMeasureOneM2461SWE(arrVMeasurement, \\\n",
    "                  Sample = 'Test', sweepNum = 1,\\\n",
    "                  folderPath='250318\\\\Dev02\\\\Test',\\\n",
    "                  askToStart=False):\n",
    "    Vstart, Vstop, Vstep = arrVMeasurement\n",
    "    fileName = \"Sweep\"+str(sweepNum)+Sample+'Star'+str(Vstart).replace(\"-\",\"M\")+'_Stop'+str(Vstop).replace(\"-\",\"M\")+'_Step'+str(Vstep).replace(\"-\", \"M\")+'.csv'\n",
    "    filePath = os.path.join(folderPath, fileName)\n",
    "    print(filePath)\n",
    "    stepNum = np.floor(abs((Vstart - Vstop)/Vstep)).astype(int) + 1\n",
    "    vRange = \"AUTO\"\n",
    "    iCompliance = 7\n",
    "    iNPLC = 1\n",
    "    delay = 0.1\n",
    "    # data = m2461.query_ascii_values('FETC?')\n",
    "    # print('this is the data 1', data)\n",
    "    m2461.write('*RST')\n",
    "    m2461.write(\"TRAC:CLE\")\n",
    "    m2461.write(':ROUT:TERM FRON')\n",
    "    m2461.write(':SOUR:FUNC VOLT')\n",
    "    # vRange = ':SOUR:VOLT:RANG:' + vRange\n",
    "    # print(vRange)\n",
    "    m2461.write(':SOUR:VOLT:RANG:AUTO ON')\n",
    "    m2461.write('SOUR:VOLT:ILIM %0.2f' % iCompliance)\n",
    "    m2461.write(':SENS:FUNC \"CURR\"')\n",
    "    m2461.write('SENS:CURR:RANG:AUTO ON')\n",
    "    m2461.write(':SENSE:CURR:NPLC %f' % iNPLC )\n",
    "    m2461.write('SOUR:SWE:VOLT:LIN %0.2f, %0.2f, %f, %0.2f' % (Vstart, Vstop, stepNum, delay))\n",
    "    m2461.write('INIT')\n",
    "    m2461.write('*WAI')\n",
    "    m2461.write('TRAC:DATA? 1, %f, \"defbuffer1\", SOUR, READ' % stepNum)\n",
    "    m2461.write('*WAI')\n",
    "    data = m2461.read()\n",
    "    \n",
    "    #data = m2461.query_ascii_values('FETC?')\n",
    "    \n",
    "    print('Measured data: ', data)\n",
    "   \n",
    "    lstCurrent = data[1::2] # get all odd elements, which are currents\n",
    "\n",
    "    lstVoltage = data[0::2] # get all even elements, which are voltages\n",
    "\n",
    "    # if Vstart > Vstop:\n",
    "    #     Vstep = -abs(Vstep)\n",
    "    # else:\n",
    "    #     Vstep = abs(Vstep)\n",
    "    lstAbsCurrent = np.abs(lstCurrent)\n",
    "    lstCalVoltage = [(Vstart + i*Vstep) for i in range(stepNum)]\n",
    "    dataToWrite = [['vRange', vRange]]\n",
    "    dataToWrite.append(['iCompliance', iCompliance])\n",
    "    #dataToWrite.append(['iRange', iRange[16:]])\n",
    "    dataToWrite.append(['iNPLC', iNPLC])\n",
    "    dataToWrite.append(['data Number', stepNum])\n",
    "    dataToWrite = [['V', 'I', 'V_cal','abs_I']]\n",
    "    for i in range(len(lstCurrent)):\n",
    "        dataToWrite.append([lstVoltage[i], lstCurrent[i], lstCalVoltage[i] , lstAbsCurrent[i]])\n",
    "    try:\n",
    "        with open(filePath, 'w', newline = '') as file:\n",
    "            writer = csv.writer(file)\n",
    "            writer.writerows(dataToWrite)\n",
    "            file.close()\n",
    "    except IOError:\n",
    "        print(\"Error: Could not open file for writing\")\n",
    "\n",
    "    fig, ax = plt.subplots()\n",
    "    line, = ax.plot(lstCalVoltage, lstAbsCurrent, 'o-')\n",
    "    ax.set_xlabel('Voltage (V)')\n",
    "    ax.set_ylabel('Current (A)')\n",
    "    ax.set_yscale('linear')\n",
    "    plt.show()\n",
    "    plt.savefig(os.path.splitext(filePath)[0] + '_lin.png')\n",
    "    ax.set_yscale('log')\n",
    "    plt.show()\n",
    "    plt.savefig(os.path.splitext(filePath)[0] + '_log.png')\n",
    "    \n",
    "    \n",
    "    \n",
    "    "
   ]
  },
  {
   "cell_type": "code",
   "execution_count": null,
   "id": "e92e53f4",
   "metadata": {},
   "outputs": [
    {
     "name": "stdout",
     "output_type": "stream",
     "text": [
      "Incorrect device name\n",
      "Incorrect device name\n"
     ]
    },
    {
     "ename": "KeyboardInterrupt",
     "evalue": "",
     "output_type": "error",
     "traceback": [
      "\u001b[1;31m---------------------------------------------------------------------------\u001b[0m",
      "\u001b[1;31mKeyboardInterrupt\u001b[0m                         Traceback (most recent call last)",
      "Cell \u001b[1;32mIn[151], line 6\u001b[0m\n\u001b[0;32m      1\u001b[0m \u001b[38;5;66;03m#run Keithley 2400 \u001b[39;00m\n\u001b[0;32m      2\u001b[0m arrKLVMeasMulti \u001b[38;5;241m=\u001b[39m[\u001b[38;5;124m\"\u001b[39m\u001b[38;5;124mM2461SWE\u001b[39m\u001b[38;5;124m\"\u001b[39m,[[\u001b[38;5;241m0\u001b[39m, \u001b[38;5;241m3\u001b[39m, \u001b[38;5;241m0.1\u001b[39m],\\\n\u001b[0;32m      3\u001b[0m                             \u001b[38;5;66;03m#[0, 3, 0.01],\\\u001b[39;00m\n\u001b[0;32m      4\u001b[0m                             [\u001b[38;5;241m0\u001b[39m, \u001b[38;5;241m-\u001b[39m\u001b[38;5;241m3\u001b[39m, \u001b[38;5;241m-\u001b[39m\u001b[38;5;241m0.1\u001b[39m]\n\u001b[0;32m      5\u001b[0m                             ]]\n\u001b[1;32m----> 6\u001b[0m \u001b[43mfncMeasureMultiple\u001b[49m\u001b[43m(\u001b[49m\u001b[43marrKLVMeasMulti\u001b[49m\u001b[43m,\u001b[49m\u001b[43msample\u001b[49m\u001b[43m,\u001b[49m\u001b[43m \u001b[49m\u001b[38;5;241;43m15\u001b[39;49m\u001b[43m,\u001b[49m\u001b[43m \u001b[49m\u001b[43mfolderPath\u001b[49m\u001b[43m)\u001b[49m\n",
      "Cell \u001b[1;32mIn[99], line 11\u001b[0m, in \u001b[0;36mfncMeasureMultiple\u001b[1;34m(settings, Sample, startNum, folderPath, askToStart)\u001b[0m\n\u001b[0;32m      9\u001b[0m sweepNum \u001b[38;5;241m=\u001b[39m j \u001b[38;5;241m+\u001b[39m startNum\n\u001b[0;32m     10\u001b[0m fncMeasureOne(arrVMeasurements[j], dev , Sample, sweepNum, folderPath)\n\u001b[1;32m---> 11\u001b[0m \u001b[43mtime\u001b[49m\u001b[38;5;241;43m.\u001b[39;49m\u001b[43msleep\u001b[49m\u001b[43m(\u001b[49m\u001b[38;5;241;43m5\u001b[39;49m\u001b[43m)\u001b[49m\n",
      "\u001b[1;31mKeyboardInterrupt\u001b[0m: "
     ]
    }
   ],
   "source": [
    "#run Keithley 2400 \n",
    "arrKLVMeasMulti =[\"M2461SWE\",[[0, 3, 0.1],\\\n",
    "                            #[0, 3, 0.01],\\\n",
    "                            [0, -3, -0.1]\n",
    "                            ]]\n",
    "fncMeasureMultiple(arrKLVMeasMulti,sample, 15, folderPath)"
   ]
  },
  {
   "cell_type": "code",
   "execution_count": 165,
   "id": "50f0d3c7",
   "metadata": {},
   "outputs": [
    {
     "ename": "VisaIOError",
     "evalue": "VI_ERROR_INV_OBJECT (-1073807346): The given session or object reference is invalid.",
     "output_type": "error",
     "traceback": [
      "\u001b[1;31m---------------------------------------------------------------------------\u001b[0m",
      "\u001b[1;31mVisaIOError\u001b[0m                               Traceback (most recent call last)",
      "Cell \u001b[1;32mIn[165], line 1\u001b[0m\n\u001b[1;32m----> 1\u001b[0m \u001b[43mrm\u001b[49m\u001b[38;5;241;43m.\u001b[39;49m\u001b[43mclose\u001b[49m\u001b[43m(\u001b[49m\u001b[43m)\u001b[49m\n",
      "File \u001b[1;32mc:\\Users\\gtd19\\AppData\\Local\\miniconda3\\envs\\embedded\\lib\\site-packages\\pyvisa\\highlevel.py:3073\u001b[0m, in \u001b[0;36mResourceManager.close\u001b[1;34m(self)\u001b[0m\n\u001b[0;32m   3071\u001b[0m \u001b[38;5;66;03m# Cleanly close all resources when closing the manager.\u001b[39;00m\n\u001b[0;32m   3072\u001b[0m \u001b[38;5;28;01mfor\u001b[39;00m resource \u001b[38;5;129;01min\u001b[39;00m \u001b[38;5;28mself\u001b[39m\u001b[38;5;241m.\u001b[39m_created_resources:\n\u001b[1;32m-> 3073\u001b[0m     \u001b[43mresource\u001b[49m\u001b[38;5;241;43m.\u001b[39;49m\u001b[43mclose\u001b[49m\u001b[43m(\u001b[49m\u001b[43m)\u001b[49m\n\u001b[0;32m   3074\u001b[0m \u001b[38;5;28mself\u001b[39m\u001b[38;5;241m.\u001b[39mvisalib\u001b[38;5;241m.\u001b[39mclose(\u001b[38;5;28mself\u001b[39m\u001b[38;5;241m.\u001b[39msession)\n\u001b[0;32m   3075\u001b[0m \u001b[38;5;66;03m# mypy don't get that we can set a value we cannot get\u001b[39;00m\n",
      "File \u001b[1;32mc:\\Users\\gtd19\\AppData\\Local\\miniconda3\\envs\\embedded\\lib\\site-packages\\pyvisa\\resources\\resource.py:318\u001b[0m, in \u001b[0;36mResource.close\u001b[1;34m(self)\u001b[0m\n\u001b[0;32m    316\u001b[0m \u001b[38;5;28;01mtry\u001b[39;00m:\n\u001b[0;32m    317\u001b[0m     logger\u001b[38;5;241m.\u001b[39mdebug(\u001b[38;5;124m\"\u001b[39m\u001b[38;5;132;01m%s\u001b[39;00m\u001b[38;5;124m - closing\u001b[39m\u001b[38;5;124m\"\u001b[39m, \u001b[38;5;28mself\u001b[39m\u001b[38;5;241m.\u001b[39m_resource_name, extra\u001b[38;5;241m=\u001b[39m\u001b[38;5;28mself\u001b[39m\u001b[38;5;241m.\u001b[39m_logging_extra)\n\u001b[1;32m--> 318\u001b[0m     \u001b[38;5;28;43mself\u001b[39;49m\u001b[38;5;241;43m.\u001b[39;49m\u001b[43mbefore_close\u001b[49m\u001b[43m(\u001b[49m\u001b[43m)\u001b[49m\n\u001b[0;32m    319\u001b[0m     \u001b[38;5;28mself\u001b[39m\u001b[38;5;241m.\u001b[39mvisalib\u001b[38;5;241m.\u001b[39mclose(\u001b[38;5;28mself\u001b[39m\u001b[38;5;241m.\u001b[39msession)\n\u001b[0;32m    320\u001b[0m     logger\u001b[38;5;241m.\u001b[39mdebug(\n\u001b[0;32m    321\u001b[0m         \u001b[38;5;124m\"\u001b[39m\u001b[38;5;132;01m%s\u001b[39;00m\u001b[38;5;124m - is closed\u001b[39m\u001b[38;5;124m\"\u001b[39m, \u001b[38;5;28mself\u001b[39m\u001b[38;5;241m.\u001b[39m_resource_name, extra\u001b[38;5;241m=\u001b[39m\u001b[38;5;28mself\u001b[39m\u001b[38;5;241m.\u001b[39m_logging_extra\n\u001b[0;32m    322\u001b[0m     )\n",
      "File \u001b[1;32mc:\\Users\\gtd19\\AppData\\Local\\miniconda3\\envs\\embedded\\lib\\site-packages\\pyvisa\\resources\\resource.py:312\u001b[0m, in \u001b[0;36mResource.before_close\u001b[1;34m(self)\u001b[0m\n\u001b[0;32m    310\u001b[0m \u001b[38;5;28;01mdef\u001b[39;00m \u001b[38;5;21mbefore_close\u001b[39m(\u001b[38;5;28mself\u001b[39m) \u001b[38;5;241m-\u001b[39m\u001b[38;5;241m>\u001b[39m \u001b[38;5;28;01mNone\u001b[39;00m:\n\u001b[0;32m    311\u001b[0m     \u001b[38;5;124;03m\"\"\"Called just before closing an instrument.\"\"\"\u001b[39;00m\n\u001b[1;32m--> 312\u001b[0m     \u001b[38;5;28;43mself\u001b[39;49m\u001b[38;5;241;43m.\u001b[39;49m\u001b[43m__switch_events_off\u001b[49m\u001b[43m(\u001b[49m\u001b[43m)\u001b[49m\n",
      "File \u001b[1;32mc:\\Users\\gtd19\\AppData\\Local\\miniconda3\\envs\\embedded\\lib\\site-packages\\pyvisa\\resources\\resource.py:330\u001b[0m, in \u001b[0;36mResource.__switch_events_off\u001b[1;34m(self)\u001b[0m\n\u001b[0;32m    328\u001b[0m \u001b[38;5;28;01mdef\u001b[39;00m \u001b[38;5;21m__switch_events_off\u001b[39m(\u001b[38;5;28mself\u001b[39m) \u001b[38;5;241m-\u001b[39m\u001b[38;5;241m>\u001b[39m \u001b[38;5;28;01mNone\u001b[39;00m:\n\u001b[0;32m    329\u001b[0m     \u001b[38;5;124;03m\"\"\"Switch off and discrads all events.\"\"\"\u001b[39;00m\n\u001b[1;32m--> 330\u001b[0m     \u001b[38;5;28;43mself\u001b[39;49m\u001b[38;5;241;43m.\u001b[39;49m\u001b[43mdisable_event\u001b[49m\u001b[43m(\u001b[49m\n\u001b[0;32m    331\u001b[0m \u001b[43m        \u001b[49m\u001b[43mconstants\u001b[49m\u001b[38;5;241;43m.\u001b[39;49m\u001b[43mEventType\u001b[49m\u001b[38;5;241;43m.\u001b[39;49m\u001b[43mall_enabled\u001b[49m\u001b[43m,\u001b[49m\u001b[43m \u001b[49m\u001b[43mconstants\u001b[49m\u001b[38;5;241;43m.\u001b[39;49m\u001b[43mEventMechanism\u001b[49m\u001b[38;5;241;43m.\u001b[39;49m\u001b[43mall\u001b[49m\n\u001b[0;32m    332\u001b[0m \u001b[43m    \u001b[49m\u001b[43m)\u001b[49m\n\u001b[0;32m    333\u001b[0m     \u001b[38;5;28mself\u001b[39m\u001b[38;5;241m.\u001b[39mdiscard_events(\n\u001b[0;32m    334\u001b[0m         constants\u001b[38;5;241m.\u001b[39mEventType\u001b[38;5;241m.\u001b[39mall_enabled, constants\u001b[38;5;241m.\u001b[39mEventMechanism\u001b[38;5;241m.\u001b[39mall\n\u001b[0;32m    335\u001b[0m     )\n\u001b[0;32m    336\u001b[0m     \u001b[38;5;28mself\u001b[39m\u001b[38;5;241m.\u001b[39mvisalib\u001b[38;5;241m.\u001b[39muninstall_all_visa_handlers(\u001b[38;5;28mself\u001b[39m\u001b[38;5;241m.\u001b[39msession)\n",
      "File \u001b[1;32mc:\\Users\\gtd19\\AppData\\Local\\miniconda3\\envs\\embedded\\lib\\site-packages\\pyvisa\\resources\\resource.py:480\u001b[0m, in \u001b[0;36mResource.disable_event\u001b[1;34m(self, event_type, mechanism)\u001b[0m\n\u001b[0;32m    467\u001b[0m \u001b[38;5;28;01mdef\u001b[39;00m \u001b[38;5;21mdisable_event\u001b[39m(\n\u001b[0;32m    468\u001b[0m     \u001b[38;5;28mself\u001b[39m, event_type: constants\u001b[38;5;241m.\u001b[39mEventType, mechanism: constants\u001b[38;5;241m.\u001b[39mEventMechanism\n\u001b[0;32m    469\u001b[0m ) \u001b[38;5;241m-\u001b[39m\u001b[38;5;241m>\u001b[39m \u001b[38;5;28;01mNone\u001b[39;00m:\n\u001b[0;32m    470\u001b[0m     \u001b[38;5;124;03m\"\"\"Disable notification for an event type(s) via the specified mechanism(s).\u001b[39;00m\n\u001b[0;32m    471\u001b[0m \n\u001b[0;32m    472\u001b[0m \u001b[38;5;124;03m    Parameters\u001b[39;00m\n\u001b[1;32m   (...)\u001b[0m\n\u001b[0;32m    478\u001b[0m \n\u001b[0;32m    479\u001b[0m \u001b[38;5;124;03m    \"\"\"\u001b[39;00m\n\u001b[1;32m--> 480\u001b[0m     \u001b[38;5;28;43mself\u001b[39;49m\u001b[38;5;241;43m.\u001b[39;49m\u001b[43mvisalib\u001b[49m\u001b[38;5;241;43m.\u001b[39;49m\u001b[43mdisable_event\u001b[49m\u001b[43m(\u001b[49m\u001b[38;5;28;43mself\u001b[39;49m\u001b[38;5;241;43m.\u001b[39;49m\u001b[43msession\u001b[49m\u001b[43m,\u001b[49m\u001b[43m \u001b[49m\u001b[43mevent_type\u001b[49m\u001b[43m,\u001b[49m\u001b[43m \u001b[49m\u001b[43mmechanism\u001b[49m\u001b[43m)\u001b[49m\n",
      "File \u001b[1;32mc:\\Users\\gtd19\\AppData\\Local\\miniconda3\\envs\\embedded\\lib\\site-packages\\pyvisa\\ctwrapper\\functions.py:662\u001b[0m, in \u001b[0;36mdisable_event\u001b[1;34m(library, session, event_type, mechanism)\u001b[0m\n\u001b[0;32m    640\u001b[0m \u001b[38;5;28;01mdef\u001b[39;00m \u001b[38;5;21mdisable_event\u001b[39m(library, session, event_type, mechanism):\n\u001b[0;32m    641\u001b[0m     \u001b[38;5;124;03m\"\"\"Disable notification for an event type(s) via the specified mechanism(s).\u001b[39;00m\n\u001b[0;32m    642\u001b[0m \n\u001b[0;32m    643\u001b[0m \u001b[38;5;124;03m    Corresponds to viDisableEvent function of the VISA library.\u001b[39;00m\n\u001b[1;32m   (...)\u001b[0m\n\u001b[0;32m    660\u001b[0m \n\u001b[0;32m    661\u001b[0m \u001b[38;5;124;03m    \"\"\"\u001b[39;00m\n\u001b[1;32m--> 662\u001b[0m     \u001b[38;5;28;01mreturn\u001b[39;00m \u001b[43mlibrary\u001b[49m\u001b[38;5;241;43m.\u001b[39;49m\u001b[43mviDisableEvent\u001b[49m\u001b[43m(\u001b[49m\u001b[43msession\u001b[49m\u001b[43m,\u001b[49m\u001b[43m \u001b[49m\u001b[43mevent_type\u001b[49m\u001b[43m,\u001b[49m\u001b[43m \u001b[49m\u001b[43mmechanism\u001b[49m\u001b[43m)\u001b[49m\n",
      "File \u001b[1;32mc:\\Users\\gtd19\\AppData\\Local\\miniconda3\\envs\\embedded\\lib\\site-packages\\pyvisa\\ctwrapper\\highlevel.py:226\u001b[0m, in \u001b[0;36mIVIVisaLibrary._return_handler\u001b[1;34m(self, ret_value, func, arguments)\u001b[0m\n\u001b[0;32m    223\u001b[0m         \u001b[38;5;66;03m# Set session back to a safe value\u001b[39;00m\n\u001b[0;32m    224\u001b[0m         session \u001b[38;5;241m=\u001b[39m \u001b[38;5;28;01mNone\u001b[39;00m\n\u001b[1;32m--> 226\u001b[0m \u001b[38;5;28;01mreturn\u001b[39;00m \u001b[38;5;28;43mself\u001b[39;49m\u001b[38;5;241;43m.\u001b[39;49m\u001b[43mhandle_return_value\u001b[49m\u001b[43m(\u001b[49m\u001b[43msession\u001b[49m\u001b[43m,\u001b[49m\u001b[43m \u001b[49m\u001b[43mret_value\u001b[49m\u001b[43m)\u001b[49m\n",
      "File \u001b[1;32mc:\\Users\\gtd19\\AppData\\Local\\miniconda3\\envs\\embedded\\lib\\site-packages\\pyvisa\\highlevel.py:251\u001b[0m, in \u001b[0;36mVisaLibraryBase.handle_return_value\u001b[1;34m(self, session, status_code)\u001b[0m\n\u001b[0;32m    248\u001b[0m     \u001b[38;5;28mself\u001b[39m\u001b[38;5;241m.\u001b[39m_last_status_in_session[session] \u001b[38;5;241m=\u001b[39m rv\n\u001b[0;32m    250\u001b[0m \u001b[38;5;28;01mif\u001b[39;00m rv \u001b[38;5;241m<\u001b[39m \u001b[38;5;241m0\u001b[39m:\n\u001b[1;32m--> 251\u001b[0m     \u001b[38;5;28;01mraise\u001b[39;00m errors\u001b[38;5;241m.\u001b[39mVisaIOError(rv)\n\u001b[0;32m    253\u001b[0m \u001b[38;5;28;01mif\u001b[39;00m rv \u001b[38;5;129;01min\u001b[39;00m \u001b[38;5;28mself\u001b[39m\u001b[38;5;241m.\u001b[39missue_warning_on:\n\u001b[0;32m    254\u001b[0m     \u001b[38;5;28;01mif\u001b[39;00m session \u001b[38;5;129;01mand\u001b[39;00m rv \u001b[38;5;129;01mnot\u001b[39;00m \u001b[38;5;129;01min\u001b[39;00m \u001b[38;5;28mself\u001b[39m\u001b[38;5;241m.\u001b[39m_ignore_warning_in_session[session]:\n",
      "\u001b[1;31mVisaIOError\u001b[0m: VI_ERROR_INV_OBJECT (-1073807346): The given session or object reference is invalid."
     ]
    }
   ],
   "source": [
    "rm.close()"
   ]
  },
  {
   "cell_type": "markdown",
   "id": "75d45d4e",
   "metadata": {},
   "source": [
    "### REFERENCES"
   ]
  },
  {
   "cell_type": "code",
   "execution_count": 26,
   "id": "8e634f01",
   "metadata": {},
   "outputs": [
    {
     "data": {
      "text/plain": [
       "37"
      ]
     },
     "execution_count": 26,
     "metadata": {},
     "output_type": "execute_result"
    }
   ],
   "source": [
    "iLimit = 7\n",
    "#m2461.write(f\"smu.source.ilimit = %f \" % iLimit)\n",
    "m2461.write(f\"smu.source.ilimit.level = %f \" % iLimit)"
   ]
  },
  {
   "cell_type": "code",
   "execution_count": 13,
   "id": "3e19bd08",
   "metadata": {},
   "outputs": [
    {
     "data": {
      "text/plain": [
       "31"
      ]
     },
     "execution_count": 13,
     "metadata": {},
     "output_type": "execute_result"
    }
   ],
   "source": [
    "vRange = \"smu.ON\"\n",
    "m2461.write(f\"smu.source.autorange = {vRange}\") "
   ]
  },
  {
   "cell_type": "code",
   "execution_count": null,
   "id": "a5455b9f",
   "metadata": {},
   "outputs": [
    {
     "data": {
      "text/plain": [
       "43"
      ]
     },
     "execution_count": 24,
     "metadata": {},
     "output_type": "execute_result"
    }
   ],
   "source": [
    "m2461.write(f\"beeper.beep(1,100)\")\n",
    "m2461.write(f\"reset()\")\n",
    "m2461.write(f\"status.reset()\")\n",
    "m2461.write(f\"errorqueue.clear()\")\n",
    "# Configure source function as 2W DCVOLTS\n",
    "m2461.write(f\"smu.source.func = smu.FUNC_DC_VOLTAGE\")\n",
    "m2461.write(f\"smu.measure.sense = smu.SENSE_2WIRE\")\n",
    "m2461.write(f\"display.changescreen(display.SCREEN_HOME)\")"
   ]
  },
  {
   "cell_type": "code",
   "execution_count": null,
   "id": "6bf193b1",
   "metadata": {},
   "outputs": [],
   "source": [
    "m2461.write(f'while defbuffer1.n < {stepNum} do delay(0.1) end')\n",
    "data = m2461.query_ascii_values(f'printbuffer(1, {stepNum:f}, defbuffer1.sourcevalues, defbuffer1.readings)')\n",
    "print(f'data: {data}')\n",
    "\n",
    "m2461.write(f'print(1)')  # Send confirmation signal"
   ]
  },
  {
   "cell_type": "code",
   "execution_count": 17,
   "id": "d9d27e56",
   "metadata": {},
   "outputs": [
    {
     "name": "stdout",
     "output_type": "stream",
     "text": [
      "rawData:  -7.4574048325e-11\n",
      "\n"
     ]
    }
   ],
   "source": [
    "setV = 1\n",
    "outputON = False\n",
    "m2461.write(f\"smu.measure.func = smu.FUNC_DC_CURRENT\") \n",
    "m2461.write(f\"smu.source.func = smu.FUNC_DC_VOLTAGE\")\n",
    "m2461.write(f\"smu.source.level = %f\" %setV)\n",
    "if (not outputON):\n",
    "    m2461.write(f\"smu.source.output = 1\")\n",
    "m2461.write(f\"print(smu.measure.read())\") \n",
    "rawData = m2461.read()\n",
    "# print(\"%g\\t%g\\t%g\", smua.nvbuffer1.timestamps[1], smua.nvbuffer1.readings[1], smua.nvbuffer2.readings[1])\n",
    "arrRawData = rawData.split(\",\")\n",
    "print (\"rawData: \", rawData)"
   ]
  }
 ],
 "metadata": {
  "kernelspec": {
   "display_name": "embedded",
   "language": "python",
   "name": "python3"
  },
  "language_info": {
   "codemirror_mode": {
    "name": "ipython",
    "version": 3
   },
   "file_extension": ".py",
   "mimetype": "text/x-python",
   "name": "python",
   "nbconvert_exporter": "python",
   "pygments_lexer": "ipython3",
   "version": "3.10.9"
  }
 },
 "nbformat": 4,
 "nbformat_minor": 5
}
