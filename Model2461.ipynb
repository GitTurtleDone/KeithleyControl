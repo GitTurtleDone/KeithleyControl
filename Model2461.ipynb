{
 "cells": [
  {
   "cell_type": "markdown",
   "id": "3c026542",
   "metadata": {},
   "source": [
    "INITIALIZE"
   ]
  },
  {
   "cell_type": "code",
   "execution_count": 4,
   "id": "8ee3a443",
   "metadata": {},
   "outputs": [],
   "source": [
    "import pyvisa\n",
    "import numpy as np\n",
    "import time\n",
    "import matplotlib.pyplot as plt\n",
    "import os\n",
    "import csv\n",
    "%matplotlib qt"
   ]
  },
  {
   "cell_type": "code",
   "execution_count": 5,
   "id": "a6bdf78a",
   "metadata": {},
   "outputs": [],
   "source": [
    "def update_plot(fig, ax, line, lstVoltage, lstAbsCurrent):\n",
    "    line.set_data(lstVoltage, lstAbsCurrent)\n",
    "    ax.relim()\n",
    "    ax.autoscale_view()\n",
    "    fig.canvas.draw()\n",
    "    fig.canvas.flush_events()"
   ]
  },
  {
   "cell_type": "code",
   "execution_count": 6,
   "id": "552cb64a",
   "metadata": {},
   "outputs": [],
   "source": [
    "\n",
    "rm = pyvisa.ResourceManager()"
   ]
  },
  {
   "cell_type": "code",
   "execution_count": 7,
   "id": "df0a6cca",
   "metadata": {},
   "outputs": [
    {
     "data": {
      "text/plain": [
       "9"
      ]
     },
     "execution_count": 7,
     "metadata": {},
     "output_type": "execute_result"
    }
   ],
   "source": [
    "\n",
    "m2461 = rm.open_resource('TCPIP0::132.181.53.57::inst0::INSTR')\n",
    "m2461.timeout = 10000\n",
    "m2461.write(f\"reset()\")"
   ]
  },
  {
   "cell_type": "code",
   "execution_count": 8,
   "id": "6585bdeb",
   "metadata": {},
   "outputs": [],
   "source": [
    "def fncMeasureOne(arrVMeasurement, \\\n",
    "                  device= 'pico',\\\n",
    "                  Sample = 'Test', sweepNum = 1,\\\n",
    "                  folderPath='230606\\\\Dev02\\\\Test',\\\n",
    "                  askToStart=False):\n",
    "    if (device == 'pico'):\n",
    "        fncMeasureOnePico(arrVMeasurement, Sample, sweepNum, folderPath, askToStart)\n",
    "    elif (device == 'keith'):\n",
    "        fncMeasureOneKL(arrVMeasurement, Sample, sweepNum, folderPath, askToStart)\n",
    "    elif (device == 'keith1'):\n",
    "        fncMeasureOneKL1(arrVMeasurement, Sample, sweepNum, folderPath, askToStart)\n",
    "    elif (device == 'M2657A'):\n",
    "        fncMeasureOneM2657A(arrVMeasurement, Sample, sweepNum, folderPath, askToStart)\n",
    "    elif (device == 'M2461SWETSP'): #TSP means using TSP commands, SWE means sweep the whole thing from start to stop in one run\n",
    "        fncMeasureOneM2461SWETSP(arrVMeasurement, Sample, sweepNum, folderPath, askToStart)\n",
    "    elif (device == 'M2461POITSP'): #POI means set each point and then measure and move to another.\n",
    "        fncMeasureOneM2461POITSP(arrVMeasurement, Sample, sweepNum, folderPath, askToStart)\n",
    "    elif (device == 'M2461SWE'): #TSP means using TSP commands, SWE means sweep the whole thing from start to stop in one run\n",
    "        fncMeasureOneM2461SWE(arrVMeasurement, Sample, sweepNum, folderPath, askToStart)\n",
    "    else:\n",
    "        print(\"Incorrect device name\")"
   ]
  },
  {
   "cell_type": "code",
   "execution_count": 9,
   "id": "55bd87dd",
   "metadata": {},
   "outputs": [],
   "source": [
    "def fncMeasureMultiple(settings =['pico', [[0, 0.5, 0.1]]], \\\n",
    "                  Sample = 'Test',\\\n",
    "                  startNum = 1, \\\n",
    "                  folderPath='230606\\\\Dev02\\\\Test',\\\n",
    "                  askToStart=False): \n",
    "    sweepNum = 0\n",
    "    dev, arrVMeasurements = settings\n",
    "    for j in range (len(arrVMeasurements)):\n",
    "        sweepNum = j + startNum\n",
    "        fncMeasureOne(arrVMeasurements[j], dev , Sample, sweepNum, folderPath)\n",
    "        time.sleep(5)"
   ]
  },
  {
   "cell_type": "code",
   "execution_count": 10,
   "id": "0799b1c2",
   "metadata": {},
   "outputs": [
    {
     "name": "stdout",
     "output_type": "stream",
     "text": [
      "Folder already exists\n",
      "Folder already exists\n",
      "Folder already exists\n"
     ]
    }
   ],
   "source": [
    "folderPath = '../Devices/250328_Fab241201_IrOxNewSM'\n",
    "# Create a new directory\n",
    "try:\n",
    "    os.mkdir(folderPath)\n",
    "except FileExistsError:\n",
    "    print(\"Folder already exists\")\n",
    "    \n",
    "folderPath = folderPath+ '\\\\Dev08'\n",
    "# Create a new directory\n",
    "try:\n",
    "    os.mkdir(folderPath)\n",
    "except FileExistsError:\n",
    "    print(\"Folder already exists\")\n",
    "\n",
    "folderPath = folderPath+ '\\\\H02'\n",
    "# Create a new directory\n",
    "try:\n",
    "    os.mkdir(folderPath)\n",
    "except FileExistsError:\n",
    "    print(\"Folder already exists\")\n",
    "sample = folderPath[-3:]"
   ]
  },
  {
   "cell_type": "code",
   "execution_count": null,
   "id": "6fd40e69",
   "metadata": {},
   "outputs": [],
   "source": [
    "def setM2461IVMeasurementTSP (terminal = \"FRONT\",\\\n",
    "                  vRange = \"AUTO\",\\\n",
    "                  iRange = \"AUTO\",\\\n",
    "                  iCompliance = 7,\\\n",
    "                  iMeasMode = \"4WIRE\",\\\n",
    "                  iNPLC = 1,\\\n",
    "                  delay = 0.1): #(iRange = \"AUTO\", iLimit = 7, nplc = 1, delay = 0.1)\n",
    "    # Reset and initialize instrutment\n",
    "    m2461.write(f\"defbuffer1.clear()\")\n",
    "    m2461.write(f\"buffer.clearstats()\")\n",
    "    \n",
    "    m2461.write(f\"smu.reset()\")\n",
    "    m2461.write(f\"status.reset()\")\n",
    "    m2461.write(f\"errorqueue.clear()\")\n",
    "    m2461.write(f\"dataqueue.clear()\")\n",
    "    \n",
    "    \n",
    "    ##############################################\n",
    "    ## Make sure that no data left in the buffer\n",
    "    # Send command to check the number of stored readings in defbuffer1\n",
    "    m2461.write(\"print(defbuffer1.n)\")\n",
    "    # Read the response and convert it to an integer\n",
    "    buffer_count = round(float(m2461.read().strip()))\n",
    "    print(f\"Number of data points in buffer: {buffer_count}\")\n",
    "    if buffer_count != 0:\n",
    "        data = m2461.read()\n",
    "        print(f\"data remains in buffer: {data}\")\n",
    "    \n",
    "    ##############################################\n",
    "    m2461.write(f\"smu.terminals = smu.TERMINALS_{terminal}\" )\n",
    "\n",
    "    # Setup current measurement mode\n",
    "    m2461.write(f\"smu.measure.sense = smu.SENSE_{iMeasMode}\")\n",
    "\n",
    "    #Set up current measurement range\n",
    "    if iRange == \"AUTO\":\n",
    "        m2461.write(f\"smu.measure.autorange = smu.ON\")\n",
    "    else:\n",
    "        m2461.write(f\"smu.measure.autorange = smu.OFF\")\n",
    "        m2461.write(f\"smu.measure.rangei = %f\" % iRange)\n",
    "\n",
    "    # Setup voltage source mode\n",
    "\n",
    "    m2461.write(f\"smu.source.func = smu.FUNC_DC_VOLTAGE\")\n",
    "    if vRange == \"AUTO\":\n",
    "        m2461.write(f\"smu.source.autorange = smu.ON\")  \n",
    "    else:\n",
    "        m2461.write(f\"smu.source.autorange = smu.OFF\")\n",
    "        m2461.write(f\"smu.source.autorange = {vRange}\") \n",
    "    \n",
    "    #Set up current compliance\n",
    "    m2461.write(f\"smu.source.ilimit.level = %f\" % iCompliance)\n",
    "\n",
    "    #Set the measurement integration time and delay\n",
    "    m2461.write(f\"smu.measure.nplc = %f\" % iNPLC)\n",
    "    m2461.write(f\"smu.source.delay = %f\" % delay)\n",
    "\n",
    "    m2461.write(f\"beeper.beep(0.5,100)\")\n",
    "    return True\n",
    "setM2461IVMeasurementTSP()   \n",
    "  \n",
    "    \n",
    "    #m2461.write(f\"display.changescreen(display.SCREEN_HOME)\")\n",
    "\n",
    "def measureM2461OnePointTSP(setV, outputON = False, resetV = True):\n",
    "    #setM2461IVMeasurement()\n",
    "    #m2461.write(f\"bufData = buffer.make(1)\") \n",
    "    m2461.write(f\"smu.source.func = smu.FUNC_DC_VOLTAGE\")\n",
    "    m2461.write(f\"smu.source.level = %f\" %setV)\n",
    "    \n",
    "    if (not outputON):\n",
    "        m2461.write(f\"smu.source.output = 1\")\n",
    "    \n",
    "    m2461.write(f\"smu.measure.func = smu.FUNC_DC_VOLTAGE\")\n",
    "    m2461.write(f\"print(smu.measure.read())\") \n",
    "    voltage = m2461.read()\n",
    "\n",
    "    m2461.write(f\"smu.measure.func = smu.FUNC_DC_CURRENT\")\n",
    "    m2461.write(f\"print(smu.measure.read())\") \n",
    "    #m2461.write(f'printbuffer(1, 1, defbuffer1.sourcevalues, defbuffer1.readings)')\n",
    "    current = m2461.read()\n",
    "    #m2461.write(f\"buffer.delete(bufData)\")\n",
    "\n",
    "    #Turn off the output\n",
    "    if resetV:\n",
    "        m2461.write(f\"smu.source.level = 0\")\n",
    "        m2461.write(f\"smu.source.output = 0\")\n",
    "    return [float(current), float(voltage)] #[float(arrRawData[i]) for i in range(len(arrRawData))]\n",
    "\n",
    "# rawData\n",
    "current, voltage = measureM2461OnePointTSP(2,False,True)\n",
    "print (\"Current: \", current, \"Voltage: \", voltage)\n",
    "#print (rawData)\n"
   ]
  },
  {
   "cell_type": "code",
   "execution_count": 12,
   "id": "3ba08b28",
   "metadata": {},
   "outputs": [],
   "source": [
    "def fncMeasureOneM2461POITSP(arrVMeasurement, \\\n",
    "                  Sample = 'Test', sweepNum = 1,\\\n",
    "                  folderPath='250319\\\\Dev02\\\\Test',\\\n",
    "                  askToStart=False,\\\n",
    "                  terminal = \"FRONT\",\\\n",
    "                  vRange = \"AUTO\",\\\n",
    "                  iRange = \"AUTO\",\\\n",
    "                  iCompliance = 7,\\\n",
    "                  iMeasMode = \"2WIRE\", \\\n",
    "                  iNPLC = 1, \\\n",
    "                  delay = 0.1,\\\n",
    "                  ):\n",
    "    Vstart, Vstop, Vstep = arrVMeasurement\n",
    "    fileName = \"Sweep\"+str(sweepNum)+Sample+'Star'+str(Vstart).replace(\"-\",\"M\")+'_Stop'+str(Vstop).replace(\"-\",\"M\")+'_Step'+str(Vstep).replace(\"-\", \"M\")+'.csv'\n",
    "    filePath = os.path.join(folderPath, fileName)\n",
    "    print(filePath)\n",
    "    stepNum = np.floor(abs((Vstart - Vstop)/Vstep)).astype(int) + 1\n",
    "\n",
    "    setM2461IVMeasurementTSP(terminal, vRange, iRange, iCompliance, iMeasMode, iNPLC, delay)\n",
    "    absVstart = abs(Vstart)\n",
    "    absVstop = abs(Vstop)\n",
    "    # Set up source range\n",
    "    if abs(Vstart) > abs(Vstop): \n",
    "        m2461.write(f\"smu.source.rangev = %f\" % absVstart)\n",
    "    else:\n",
    "        m2461.write(f\"smu.source.rangev = %f\" % absVstop)\n",
    "    \n",
    "    lstCurrent = []\n",
    "    lstVoltage = []\n",
    "    lstAbsCurrent = []\n",
    "    \n",
    "    fig, ax = plt.subplots()\n",
    "    line, = ax.plot([], [], 'o-')\n",
    "    ax.set_xlabel('Voltage (V)')\n",
    "    ax.set_ylabel('Absolute Current (A)')\n",
    "    ax.set_yscale('log')\n",
    "    plt.show()\n",
    "    time.sleep(1)\n",
    "    m2461.write(f\"smu.source.output = 1\")\n",
    "   \n",
    "    # Measurement loop\n",
    "    for i in range(stepNum):\n",
    "        current, voltage = measureM2461OnePointTSP(Vstart + i*Vstep,True,False)\n",
    "        lstVoltage.append(voltage)\n",
    "        lstCurrent.append(current)\n",
    "        lstAbsCurrent.append(abs(current))\n",
    "        update_plot(fig, ax, line,lstVoltage, lstAbsCurrent)\n",
    "        #time.sleep(0.1)\n",
    "    #Turn off the output\n",
    "    m2461.write(f\"smu.source.level = 0\")\n",
    "    m2461.write(f\"smu.source.output = 0\")\n",
    "    dataToWrite = [['vRange: ', vRange]]\n",
    "    dataToWrite.append(['iLimit: ', iCompliance])\n",
    "    dataToWrite.append(['iRange: ', iRange[16:]])\n",
    "    dataToWrite.append(['nplc: ', iNPLC, 'delay: ', delay])\n",
    "    dataToWrite.append(['data Number:', stepNum])\n",
    "    dataToWrite.append(['V_meas', 'I_meas'])\n",
    "\n",
    "    for i in range(len(lstCurrent)):\n",
    "        dataToWrite.append([lstVoltage[i], lstCurrent[i]])\n",
    "    try:\n",
    "        with open(filePath, 'w', newline = '') as file:\n",
    "            writer = csv.writer(file)\n",
    "            writer.writerows(dataToWrite)\n",
    "            file.close()\n",
    "    except IOError:\n",
    "        print(\"Error: Could not open file for writing\")\n",
    "    plt.show()\n",
    "    plt.savefig(os.path.splitext(filePath)[0] + '_log.png')\n",
    "    ax.set_yscale('linear')\n",
    "    plt.show()\n",
    "    plt.savefig(os.path.splitext(filePath)[0] + '_lin.png')"
   ]
  },
  {
   "cell_type": "code",
   "execution_count": 18,
   "id": "73b2a2cb",
   "metadata": {},
   "outputs": [],
   "source": [
    "def fncMeasureOneM2461SWETSP(arrVMeasurement, \\\n",
    "                  Sample = 'Test', sweepNum = 1,\\\n",
    "                  folderPath='250318\\\\Dev02\\\\Test',\\\n",
    "                  askToStart=False,\\\n",
    "                  terminal = \"FRONT\",\\\n",
    "                  vRange = \"AUTO\",\\\n",
    "                  iRange = \"AUTO\",\\\n",
    "                  iCompliance = 7,\\\n",
    "                  iMeasMode = \"2WIRE\",\\\n",
    "                  iNPLC = 1,\\\n",
    "                  delay = 0.1):\n",
    "    lstCurrent = []\n",
    "    lstVoltage = []\n",
    "    lstAbsCurrent = []\n",
    "    lstCalVoltage = []\n",
    "\n",
    "    Vstart, Vstop, Vstep = arrVMeasurement\n",
    "    fileName = \"Sweep\"+str(sweepNum)+Sample+'Star'+str(Vstart).replace(\"-\",\"M\")+'_Stop'+str(Vstop).replace(\"-\",\"M\")+'_Step'+str(Vstep).replace(\"-\", \"M\")+'.csv'\n",
    "    filePath = os.path.join(folderPath, fileName)\n",
    "    print(filePath)\n",
    "    stepNum = np.floor(abs((Vstart - Vstop)/Vstep)).astype(int) + 1\n",
    "    \n",
    "    setM2461IVMeasurementTSP(terminal, vRange, iRange, iCompliance, iMeasMode, iNPLC, delay)\n",
    "    m2461.write(f'smu.source.sweeplinear(\"VLinSweep\", {Vstart:0.2f}, {Vstop:0.2f}, {stepNum:0.2f}, {delay:0.2f})')\n",
    "    m2461.write(f'trigger.model.initiate()')\n",
    "    m2461.write(f'waitcomplete()')\n",
    "    \n",
    "    \n",
    "    m2461.write(f'printbuffer(1, {stepNum:f}, defbuffer1.sourcevalues, defbuffer1.readings)')\n",
    "    m2461.write(f'waitcomplete()')\n",
    "    ## ensure that the measurement completes before retrieving data\n",
    "    time.sleep((delay+0.15)*stepNum) # \n",
    "    ## ensure that the measurement completes before retrieving data\n",
    "    data = m2461.read().split(', ') # this happens ansychonously with the sweep.\n",
    "    print('Measured data: ', data)\n",
    "    lstCurrent = [float(i) for i in data[1::2]] # get all odd elements, which are currents\n",
    "\n",
    "    lstVoltage = [float(i) for i in data[0::2]] # get all even elements, which are voltages\n",
    "    print (f'len current: {len(lstCurrent)}')\n",
    "    print (f'len current: {len(lstVoltage)}')\n",
    "    if Vstart > Vstop:\n",
    "        Vstep = -abs(Vstep)\n",
    "    else:\n",
    "        Vstep = abs(Vstep)\n",
    "    \n",
    "\n",
    "    lstAbsCurrent = np.abs(lstCurrent)\n",
    "    lstCalVoltage = [(Vstart + i*Vstep) for i in range(stepNum)]\n",
    "    dataToWrite = [['vRange', vRange]]\n",
    "    dataToWrite.append(['iCompliance', iCompliance])\n",
    "    #dataToWrite.append(['iRange', iRange[16:]])\n",
    "    dataToWrite.append(['iNPLC', iNPLC])\n",
    "    dataToWrite.append(['data Number', stepNum])\n",
    "    dataToWrite = [['V', 'I', 'V_cal','abs_I']]\n",
    "    for i in range(len(lstCurrent)):\n",
    "        dataToWrite.append([lstVoltage[i], lstCurrent[i], lstCalVoltage[i] , lstAbsCurrent[i]])\n",
    "    try:\n",
    "        with open(filePath, 'w', newline = '') as file:\n",
    "            writer = csv.writer(file)\n",
    "            writer.writerows(dataToWrite)\n",
    "            file.close()\n",
    "    except IOError:\n",
    "        print(\"Error: Could not open file for writing\")\n",
    "\n",
    "    fig, ax = plt.subplots()\n",
    "    line, = ax.plot(lstVoltage, lstAbsCurrent, 'o-')\n",
    "    ax.set_xlabel('Voltage (V)')\n",
    "    ax.set_ylabel('Current (A)')\n",
    "    ax.set_yscale('linear')\n",
    "    plt.show()\n",
    "    plt.savefig(os.path.splitext(filePath)[0] + '_lin.png')\n",
    "    ax.set_yscale('log')\n",
    "    plt.show()\n",
    "    plt.savefig(os.path.splitext(filePath)[0] + '_log.png')    \n"
   ]
  },
  {
   "cell_type": "code",
   "execution_count": 14,
   "id": "bef8ed2f",
   "metadata": {},
   "outputs": [],
   "source": [
    "def fncMeasureOneM2461SWE(arrVMeasurement, \\\n",
    "                  Sample = 'Test', sweepNum = 1,\\\n",
    "                  folderPath='250318\\\\Dev02\\\\Test',\\\n",
    "                  askToStart=False):\n",
    "    Vstart, Vstop, Vstep = arrVMeasurement\n",
    "    fileName = \"Sweep\"+str(sweepNum)+Sample+'Star'+str(Vstart).replace(\"-\",\"M\")+'_Stop'+str(Vstop).replace(\"-\",\"M\")+'_Step'+str(Vstep).replace(\"-\", \"M\")+'.csv'\n",
    "    filePath = os.path.join(folderPath, fileName)\n",
    "    print(filePath)\n",
    "    stepNum = np.floor(abs((Vstart - Vstop)/Vstep)).astype(int) + 1\n",
    "    vRange = \"AUTO\"\n",
    "    iCompliance = 7\n",
    "    iNPLC = 1\n",
    "    delay = 0.1\n",
    "    # data = m2461.query_ascii_values('FETC?')\n",
    "    # print('this is the data 1', data)\n",
    "    m2461.write('*RST')\n",
    "    m2461.write(\"TRAC:CLE\")\n",
    "    m2461.write(':ROUT:TERM FRON')\n",
    "    m2461.write(':SOUR:FUNC VOLT')\n",
    "    # vRange = ':SOUR:VOLT:RANG:' + vRange\n",
    "    # print(vRange)\n",
    "    m2461.write(':SOUR:VOLT:RANG:AUTO ON')\n",
    "    m2461.write('SOUR:VOLT:ILIM %0.2f' % iCompliance)\n",
    "    m2461.write(':SENS:FUNC \"CURR\"')\n",
    "    m2461.write('SENS:CURR:RANG:AUTO ON')\n",
    "    m2461.write(':SENSE:CURR:NPLC %f' % iNPLC )\n",
    "    m2461.write('SOUR:SWE:VOLT:LIN %0.2f, %0.2f, %f, %0.2f' % (Vstart, Vstop, stepNum, delay))\n",
    "    m2461.write('INIT')\n",
    "    #m2461.write('*WAI')\n",
    "    m2461.write('*OPC')\n",
    "    m2461.write('TRAC:DATA? 1, %f, \"defbuffer1\", SOUR, READ' % stepNum)\n",
    "    #m2461.write('*WAI')\n",
    "    m2461.write('*OPC')\n",
    "    data = m2461.read().strip().split(',')\n",
    "    \n",
    "    #data = m2461.query_ascii_values('FETC?')\n",
    "    \n",
    "    print('Measured data: ', data)\n",
    "   \n",
    "    lstCurrent = [ float(i) for i in data[1::2]]# get all odd elements, which are currents\n",
    "\n",
    "    lstVoltage = [float(v) for v in data[0::2]] # get all even elements, which are voltages\n",
    "\n",
    "    # if Vstart > Vstop:\n",
    "    #     Vstep = -abs(Vstep)\n",
    "    # else:\n",
    "    #     Vstep = abs(Vstep)\n",
    "    lstAbsCurrent = [abs(i) for i in lstCurrent]\n",
    "    lstCalVoltage = [(Vstart + i*Vstep) for i in range(stepNum)]\n",
    "    dataToWrite = [['vRange', vRange]]\n",
    "    dataToWrite.append(['iCompliance', iCompliance])\n",
    "    #dataToWrite.append(['iRange', iRange[16:]])\n",
    "    dataToWrite.append(['iNPLC', iNPLC])\n",
    "    dataToWrite.append(['data Number', stepNum])\n",
    "    dataToWrite = [['V', 'I', 'V_cal','abs_I']]\n",
    "    for i in range(len(lstCurrent)):\n",
    "        dataToWrite.append([lstVoltage[i], lstCurrent[i], lstCalVoltage[i] , lstAbsCurrent[i]])\n",
    "    try:\n",
    "        with open(filePath, 'w', newline = '') as file:\n",
    "            writer = csv.writer(file)\n",
    "            writer.writerows(dataToWrite)\n",
    "            file.close()\n",
    "    except IOError:\n",
    "        print(\"Error: Could not open file for writing\")\n",
    "\n",
    "    fig, ax = plt.subplots()\n",
    "    line, = ax.plot(lstVoltage, lstAbsCurrent, 'o-')\n",
    "    ax.set_xlabel('Voltage (V)')\n",
    "    ax.set_ylabel('Current (A)')\n",
    "    ax.set_yscale('linear')\n",
    "    plt.show()\n",
    "    plt.savefig(os.path.splitext(filePath)[0] + '_lin.png')\n",
    "    ax.set_yscale('log')\n",
    "    plt.show()\n",
    "    plt.savefig(os.path.splitext(filePath)[0] + '_log.png')\n",
    "    \n",
    "    \n",
    "    \n",
    "    "
   ]
  },
  {
   "cell_type": "code",
   "execution_count": 30,
   "id": "e92e53f4",
   "metadata": {},
   "outputs": [
    {
     "name": "stdout",
     "output_type": "stream",
     "text": [
      "../Devices/250328_Fab241201_IrOxNewSM\\Dev08\\H02\\Sweep27H02Star0_Stop3_Step0.01.csv\n",
      "Number of data points in buffer: 0\n",
      "Measured data:  ['1.561245881e-06', '-9.7355110085e-12', '0.010001233779', '-2.4080314132e-11', '0.020000901073', '-2.063752641e-11', '0.030001148582', '-1.0309288145e-11', '0.040000461042', '-2.5227826772e-11', '0.049999557436', '-2.408025862e-11', '0.059999011457', '-1.5473407278e-11', '0.070000611246', '-1.8342320718e-11', '0.07999856025', '-1.6620947674e-11', '0.089998558164', '-1.4325783615e-11', '0.099997788668', '-9.7354832529e-12', '0.10999597609', '-2.0063721518e-11', '0.11999896169', '-1.3752020356e-11', '0.12999817729', '-8.014096331e-12', '0.1399987787', '-1.2030647312e-11', '0.14999875426', '-2.2761723062e-12', '0.15999889374', '-9.7354693751e-12', '0.17000152171', '-6.2926955313e-12', '0.18000119925', '-1.2030633434e-11', '0.19000220299', '-1.1456800786e-11', '0.20000192523', '-7.4402914385e-12', '0.21000237763', '-1.5473379522e-11', '0.22001813352', '-1.3178201586e-11', '0.23002031446', '-1.2030633434e-11', '0.2400188446', '-1.0883023649e-11', '0.2500102222', '-8.0140685754e-12', '0.26000717282', '-6.8664587904e-12', '0.27001315355', '-2.8499494431e-12', '0.28001251817', '-9.161636727e-12', '0.29001644254', '-1.1285694601e-12', '0.3000074327', '-1.7768460314e-11', '0.31000560522', '1.8998691509e-14', '0.3200108707', '1.0921041849e-11', '0.33001998067', '-6.8664587904e-12', '0.34001851082', '-8.0140824532e-12', '0.35001888871', '4.6093753814e-12', '0.36000972986', '-1.1285417045e-12', '0.37001311779', '1.9527927886e-11', '0.38001102209', '6.9045325013e-12', '0.39001750946', '-3.9974898391e-12', '0.40001839399', '2.8880300929e-12', '0.41001820564', '2.888023154e-12', '0.42000639439', '1.8954164627e-11', '0.43001016974', '3.4618002909e-12', '0.44001340866', '8.6259124843e-12', '0.45001471043', '8.052093714e-12', '0.46002373099', '5.7569643497e-12', '0.47001251578', '8.6259124843e-12', '0.48001110554', '1.5511404661e-11', '0.49001321197', '2.7561050664e-11', '0.50002002716', '1.9527955641e-11', '0.51001733541', '2.8708604938e-11', '0.52001947165', '2.3544506622e-11', '0.53001582623', '1.8380394429e-11', '0.54001796246', '2.9282430647e-11', '0.55001842976', '2.8134848618e-11', '0.56002134085', '2.6987245771e-11', '0.57002532482', '3.7889302806e-11', '0.58002543449', '5.3381663673e-11', '0.59001266956', '3.903685708e-11', '0.60001975298', '1.5511432416e-11', '0.61002248526', '4.8217541071e-11', '0.62002426386', '4.7643743117e-11', '0.63002544641', '5.6250611807e-11', '0.64001619816', '4.6496161088e-11', '0.65001624823', '4.9938914115e-11', '0.66001623869', '5.3955458157e-11', '0.67002332211', '5.5676827732e-11', '0.68002021313', '4.8791318208e-11', '0.69002389908', '6.0840943394e-11', '0.70001190901', '5.0512712069e-11', '0.71001577377', '6.7152644556e-11', '0.72001820803', '6.5431271512e-11', '0.7300221324', '8.1497426863e-11', '0.740026474', '7.8054680774e-11', '0.75001138449', '8.0923635848e-11', '0.76001501083', '9.1825658188e-11', '0.77001583576', '1.1535106897e-10', '0.78001874685', '1.2510545377e-10', '0.79002279043', '1.2453166276e-10', '0.80002045631', '1.4174529606e-10', '0.81001245975', '2.008454375e-10', '0.82001078129', '2.444533187e-10', '0.83001565933', '3.0240582261e-10', '0.8400220871', '3.7699832145e-10', '0.85001653433', '4.9921505818e-10', '0.86002111435', '6.185629231e-10', '0.87001091242', '8.3488083114e-10', '0.88001674414', '1.1097250896e-09', '0.89001995325', '1.4849819152e-09', '0.90002042055', '2.0197521433e-09', '0.91002440453', '2.7903488409e-09', '0.92000830173', '3.8524294865e-09', '0.93001234531', '5.2983741838e-09', '0.94001400471', '7.3267116818e-09', '0.95001763105', '1.0150324137e-08', '0.96001964808', '1.4093965994e-08', '0.97002071142', '1.9648226157e-08', '0.9800132513', '2.729911408e-08', '0.99000656605', '3.7925069307e-08', '1.0000168085', '5.2835542164e-08', '1.0100203753', '7.3181439575e-08', '1.0200185776', '1.0088733404e-07', '1.0300108194', '1.3916928765e-07', '1.040009141', '1.9124279049e-07', '1.0500165224', '2.6239635531e-07', '1.0600147247', '3.5974002799e-07', '1.0700169802', '4.8872033176e-07', '1.0800164938', '6.6437252144e-07', '1.090003252', '9.0349834636e-07', '1.1000065804', '1.205301146e-06', '1.1100058556', '1.5974471808e-06', '1.1200063229', '2.1050386749e-06', '1.1300041676', '2.7435860375e-06', '1.1400103569', '3.5380082863e-06', '1.1499952078', '4.5250176299e-06', '1.1599895954', '5.7176675909e-06', '1.1699965', '7.1431500146e-06', '1.1800137758', '8.9179829956e-06', '1.1900110245', '1.0872174244e-05', '1.2000011206', '1.3130002117e-05', '1.2100023031', '1.5735589841e-05', '1.2200052738', '1.8624374206e-05', '1.2300077677', '2.1889301934e-05', '1.2400108576', '2.5576107873e-05', '1.2500053644', '2.9663393434e-05', '1.2599899769', '3.4118434996e-05', '1.269993186', '3.9081885916e-05', '1.2799988985', '4.4485987019e-05', '1.2899950743', '5.0402326451e-05', '1.2999945879', '5.6910746935e-05', '1.3100004196', '6.3993073127e-05', '1.3199807405', '7.1815491538e-05', '1.3299777508', '8.0337384134e-05', '1.3400136232', '8.9992099674e-05', '1.3500108719', '0.00010028018733', '1.3600070477', '0.00011177850683', '1.3699989319', '0.00012459077698', '1.3800023794', '0.00013894672156', '1.3900017738', '0.00015522743342', '1.4000039101', '0.0001737371058', '1.4100087881', '0.00019488412363', '1.4200092554', '0.00021962738538', '1.429995656', '0.00024816673249', '1.4399969578', '0.00028186876443', '1.449999094', '0.00032147363527', '1.4599941969', '0.0003684554249', '1.4699954987', '0.00042400098755', '1.4799886942', '0.00049065513304', '1.4899846315', '0.00057075236691', '1.499981761', '0.00066737440648', '1.5099842548', '0.00078470294829', '1.5200043917', '0.00092836940894', '1.5299998522', '0.0011018784717', '1.5399934053', '0.001312723849', '1.5500004292', '0.0015679968055', '1.5600020885', '0.0018748666625', '1.5700025558', '0.0022400810849', '1.5799978971', '0.0026701749302', '1.5900015831', '0.0031709820032', '1.5999789238', '0.0037449148949', '1.6099858284', '0.0043980870396', '1.6199932098', '0.0051300041378', '1.6299837828', '0.00593924243', '1.6399842501', '0.0068279653788', '1.6499661207', '0.0077919308096', '1.659999609', '0.0088447565213', '1.6699960232', '0.0099601047114', '1.6800124645', '0.011153717525', '1.6900118589', '0.012421756983', '1.7000067234', '0.013768016361', '1.7099977732', '0.015196103603', '1.7199970484', '0.016716361046', '1.7300051451', '0.018336357549', '1.7399998903', '0.020066211', '1.7500040531', '0.021926183254', '1.7600106001', '0.023936005309', '1.7699865103', '0.026114014909', '1.7799936533', '0.028502684087', '1.7899967432', '0.031129289418', '1.7999910116', '0.034027796239', '1.809992075', '0.037238236517', '1.8199871778', '0.040790449828', '1.8299925327', '0.044720809907', '1.8399817944', '0.04903973639', '1.8499902487', '0.05377355963', '1.85998559', '0.058913324028', '1.8699841499', '0.064455851912', '1.8799722195', '0.070383414626', '1.8899722099', '0.076687395573', '1.8999826908', '0.083343960345', '1.9100023508', '0.090443126857', '1.9200059175', '0.097696393728', '1.9299975634', '0.10522138327', '1.939992547', '0.11299620569', '1.9500012398', '0.12100084126', '1.9600098133', '0.12920181453', '1.9700107574', '0.1375772357', '1.9800038338', '0.14611180127', '1.989995718', '0.15479277074', '2.0000004768', '0.16361872852', '2.0100009441', '0.17256084085', '2.020005703', '0.18161429465', '2.0300037861', '0.19076684117', '2.0400037766', '0.20001325011', '2.0499904156', '0.20931516588', '2.0599925518', '0.21869578958', '2.0700023174', '0.22813598812', '2.0799992085', '0.23765052855', '2.0900092125', '0.24724932015', '2.0999963284', '0.2568589747', '2.1100139618', '0.26656809449', '2.119966507', '0.27623552084', '2.1299760342', '0.28600385785', '2.1400225163', '0.29586663842', '2.1500265598', '0.30577883124', '2.1600375175', '0.31571260095', '2.1699764729', '0.32559251785', '2.1799943447', '0.33554127812', '2.1899893284', '0.34552648664', '2.1999940872', '0.35556140542', '2.2099354267', '0.36544558406', '2.2199485302', '0.375390172', '2.2299833298', '0.38543581963', '2.2400004864', '0.39551872015', '2.2499575615', '0.4055826962', '2.2599663734', '0.41571110487', '2.2700097561', '0.42582511902', '2.2800109386', '0.43575841188', '2.2899634838', '0.44576519728', '2.2999682426', '0.45585253835', '2.3100025654', '0.46587404609', '2.3200116158', '0.47576147318', '2.3300316334', '0.48579272628', '2.3399837017', '0.49583381414', '2.3499956131', '0.50565350056', '2.359975338', '0.51541334391', '2.3699901104', '0.52527153492', '2.379928112', '0.53479558229', '2.3899440765', '0.54432421923', '2.3999700546', '0.55405682325', '2.4099898338', '0.56381815672', '2.4199459553', '0.57337653637', '2.4299640656', '0.58302217722', '2.4399795532', '0.59238362312', '2.4499855042', '0.60130620003', '2.4599394798', '0.60984790325', '2.4699428082', '0.61847710609', '2.4799826145', '0.62635493279', '2.4899792671', '0.63331753016', '2.4999456406', '0.63870722055', '2.5099608898', '0.64243024588', '2.5199899673', '0.63951891661', '2.5299751759', '0.61947965622', '2.5399711132', '0.60686039925', '2.5499327183', '0.6040109396', '2.5599579811', '0.53150713444', '2.5698821545', '0.52956229448', '2.5799474716', '0.67725235224', '2.5899085999', '0.69729018211', '2.5999240875', '0.71439534426', '2.6099867821', '0.73066747189', '2.6199917793', '0.73916518688', '2.6299295425', '0.74723058939', '2.6399445534', '0.75730127096', '2.6499660015', '0.77188050747', '2.6599738598', '0.80313611031', '2.669926405', '0.82330435514', '2.67993927', '0.8421574235', '2.6900937557', '0.85771524906', '2.70008564', '0.87085145712', '2.7100996971', '0.88274562359', '2.7200376987', '0.89501333237', '2.7300572395', '0.90959489346', '2.740074873', '0.92259943485', '2.7500863075', '0.93419736624', '2.7600347996', '0.94605791569', '2.7700636387', '0.95706242323', '2.7800984383', '0.96732157469', '2.7900915146', '0.97730875015', '2.8000383377', '0.9878757596', '2.810041666', '0.99786090851', '2.8200929165', '1.0068719387', '2.830083847', '1.0159293413', '2.8400421143', '1.0249114037', '2.8500523567', '1.0328696966', '2.8600764275', '1.0414655209', '2.8700795174', '1.0490623713', '2.8801083565', '1.0562692881', '2.8900387287', '1.0640004873', '2.9000470638', '1.0710862875', '2.9100730419', '1.0778669119', '2.9200739861', '1.0834684372', '2.9300270081', '1.0889847279', '2.9400484562', '0.99918556213', '2.9501001835', '0.98416233063', '2.9601089954', '1.0200722218', '2.9700558186', '1.0500588417', '2.980076313', '1.0664496422', '2.9901006222', '1.0958900452', '3.0001044273', '1.1148240566\\n']\n",
      "len current: 301\n",
      "len current: 301\n",
      "../Devices/250328_Fab241201_IrOxNewSM\\Dev08\\H02\\Sweep28H02Star0_StopM3_Step0.01.csv\n",
      "Number of data points in buffer: 0\n",
      "Measured data:  ['9.8760210676e-07', '-8.5879289791e-12', '-0.0099983867258', '-5.7189739056e-12', '-0.020002795383', '-2.8670558982e-11', '-0.03000102751', '-2.1211331303e-11', '-0.040002122521', '-2.1211331303e-11', '-0.050002079457', '1.7403162245e-12', '-0.060002714396', '-5.7189739056e-12', '-0.070003457367', '-1.1456870175e-11', '-0.080004185438', '-1.3752020356e-11', '-0.090002782643', '-1.6621017063e-11', '-0.10000343621', '-1.7194835833e-11', '-0.11000347883', '-1.260447996e-11', '-0.12000374496', '-1.4899616263e-11', '-0.13000199199', '-1.260447996e-11', '-0.14000149071', '-1.4899630141e-11', '-0.15000037849', '-1.9489944381e-11', '-0.16000056267', '-1.088307916e-11', '-0.17000108957', '-1.260447996e-11', '-0.17999942601', '-1.4325839126e-11', '-0.1899985075', '-1.4899671774e-11', '-0.19999569654', '-1.7768640725e-11', '-0.20999538898', '-1.260447996e-11', '-0.22001616657', '-1.662103094e-11', '-0.23001952469', '-1.6047253804e-11', '-0.24001678824', '-2.9244474897e-11', '-0.25000825524', '-3.1539680589e-11', '-0.26000672579', '-3.2113402215e-11', '-0.27001154423', '-1.5473476667e-11', '-0.28001284599', '-6.2928204314e-12', '-0.29001700878', '-2.2358954965e-11', '-0.30000573397', '-2.3506578628e-11', '-0.31000423431', '-2.1211414569e-11', '-0.32000786066', '-1.6621003185e-11', '-0.33001855016', '-8.5879706124e-12', '-0.34001773596', '-1.4899630141e-11', '-0.35001897812', '-3.7277549103e-11', '-0.36001053452', '-1.6047267681e-11', '-0.37001144886', '-1.7768640725e-11', '-0.38000923395', '-1.2030716701e-11', '-0.39001443982', '-2.5801770442e-11', '-0.40001675487', '-2.7523101853e-11', '-0.41001775861', '-2.5227937794e-11', '-0.42000618577', '-2.2358982721e-11', '-0.43001022935', '-1.2604549349e-11', '-0.44001030922', '-1.7194905222e-11', '-0.4500130415', '-1.9490069281e-11', '-0.46002021432', '-3.9572782551e-11', '-0.47001114488', '-1.5473476667e-11', '-0.4800106585', '-2.9244544286e-11', '-0.49001133442', '-2.1211428447e-11', '-0.5000191927', '-2.0063846418e-11', '-0.51001739502', '-4.8179661649e-11', '-0.52001714706', '-2.0063874173e-11', '-0.53001356125', '-2.2359038232e-11', '-0.54001659155', '-2.4654188413e-11', '-0.55001550913', '-1.9490083158e-11', '-0.56001991034', '-4.0720392336e-11', '-0.57002520561', '-1.7768682359e-11', '-0.58002454042', '-2.4654230046e-11', '-0.59001082182', '-3.0965903453e-11', '-0.60001945496', '-2.2932801491e-11', '-0.61002057791', '-4.1294211106e-11', '-0.62002360821', '-2.2359038232e-11', '-0.63002365828', '-1.260460486e-11', '-0.64001649618', '-2.1785261095e-11', '-0.65001404285', '-3.32611369e-11', '-0.66001421213', '-3.899903317e-11', '-0.67002147436', '-1.604733707e-11', '-0.68001812696', '-3.1539708345e-11', '-0.69002234936', '-2.7523226753e-11', '-0.70001006126', '-2.8096976135e-11', '-0.71001446247', '-4.6458302483e-11', '-0.72001469135', '-8.0142628645e-12', '-0.73002070189', '-3.5556217692e-11', '-0.74002540112', '-2.9244544286e-11', '-0.75000941753', '-3.7851465018e-11', '-0.76001256704', '-3.7277687881e-11', '-0.7700124383', '-1.8916319899e-11', '-0.78001528978', '-2.981840469e-11', '-0.7900184989', '-1.0883259571e-11', '-0.80001848936', '-3.5556314837e-11', '-0.81001150608', '-3.7851492773e-11', '-0.82000768185', '-2.4080480665e-11', '-0.83001226187', '-2.8097045524e-11', '-0.8400182128', '-2.3506661895e-11', '-0.85001367331', '-3.4408774441e-11', '-0.86001741886', '-4.2441834769e-11', '-0.87000954151', '-2.9818376934e-11', '-0.88001465797', '-1.834255664e-11', '-0.89001649618', '-1.834255664e-11', '-0.90001666546', '-3.8999047047e-11', '-0.91001993418', '-3.8425297666e-11', '-0.92000406981', '-2.9244641431e-11', '-0.9300069809', '-3.8999074803e-11', '-0.94000935555', '-3.2687401397e-11', '-0.95001405478', '-4.0146740099e-11', '-0.96001672745', '-4.703220452e-11', '-0.97001707554', '-2.9818487957e-11', '-0.98000943661', '-2.5801867587e-11', '-0.99000513554', '-3.0966069986e-11', '-1.000010252', '-4.5310775965e-11', '-1.010016799', '-4.7605967779e-11', '-1.0200175047', '-3.9572949084e-11', '-1.0300079584', '-2.4654285558e-11', '-1.0400067568', '-2.3506759039e-11', '-1.0500124693', '-2.6375700235e-11', '-1.0600117445', '-5.5065361992e-11', '-1.0700142384', '-2.7523296142e-11', '-1.0800148249', '-2.2932926391e-11', '-1.0900024176', '-2.9244641431e-11', '-1.100007534', '-4.0720531114e-11', '-1.1100059748', '-5.2770128545e-11', '-1.1200097799', '-2.0064012951e-11', '-1.1300085783', '-1.7768793381e-11', '-1.1400169134', '-3.8425380933e-11', '-1.1500071287', '-4.5310900865e-11', '-1.1600060463', '-5.2196406919e-11', '-1.1700122356', '-3.6130175241e-11', '-1.1800129414', '-3.6703994011e-11', '-1.1900118589', '-2.6375714113e-11', '-1.2000006437', '-4.1294308251e-11', '-1.2100038528', '-5.2770253445e-11', '-1.2200065851', '-3.5556384226e-11', '-1.2300093174', '-2.5228187595e-11', '-1.2400119305', '-2.6375727991e-11', '-1.2500104904', '-5.9081912973e-11', '-1.2599978447', '-5.4491570978e-11', '-1.2700004578', '-3.4408857708e-11', '-1.2800081968', '-5.0475006119e-11', '-1.2900087833', '-3.3261247923e-11', '-1.300008297', '-4.3015653539e-11', '-1.3100143671', '-4.5310886987e-11', '-1.3200004101', '-4.645851065e-11', '-1.3299988508', '-3.7277798903e-11', '-1.340008378', '-4.3589527821e-11', '-1.3500090837', '-4.5310970254e-11', '-1.3600049019', '-5.3917793841e-11', '-1.3699957132', '-3.7851645429e-11', '-1.3799974918', '-3.32612618e-11', '-1.3899989128', '-3.2113693649e-11', '-1.4000006914', '-5.3344058337e-11', '-1.4100072384', '-4.9327493479e-11', '-1.4200100899', '-4.7032357176e-11', '-1.4299949408', '-4.5310886987e-11', '-1.4399967194', '-3.0392306727e-11', '-1.4500006437', '-4.4163402102e-11', '-1.4599988461', '-5.3344099971e-11', '-1.4700005054', '-3.0392292849e-11', '-1.4799963236', '-3.9573032351e-11', '-1.4899975061', '-4.3589611087e-11', '-1.4999964237', '-5.3917877108e-11', '-1.510002017', '-5.1622726926e-11', '-1.5200022459', '-4.9327507357e-11', '-1.5299978256', '-3.0392376116e-11', '-1.5399897099', '-5.0475131019e-11', '-1.5499974489', '-5.3344058337e-11', '-1.5599993467', '-5.7360623196e-11', '-1.5700027943', '-3.9573060107e-11', '-1.5800014734', '-2.7523393287e-11', '-1.5900068283', '-3.6704105033e-11', '-1.5999873877', '-3.383514996e-11', '-1.6099946499', '-5.1048935912e-11', '-1.6200037003', '-3.4408927096e-11', '-1.629997611', '-3.8999296847e-11', '-1.6400017738', '-5.62130828e-11', '-1.6499893665', '-5.1622699171e-11', '-1.6599913836', '-6.2524797839e-11', '-1.6699877977', '-3.0392389994e-11', '-1.6800032854', '-4.0720669892e-11', '-1.6900047064', '-4.5311039643e-11', '-1.6999982595', '-5.8508260736e-11', '-1.7099903822', '-5.62130828e-11', '-1.7199920416', '-4.8180036349e-11', '-1.7299982309', '-6.3098644365e-11', '-1.7399977446', '-4.7032440442e-11', '-1.7499985695', '-6.3098561098e-11', '-1.760003686', '-6.8262777375e-11', '-1.7699844837', '-3.4982773622e-11', '-1.7799906731', '-6.1951076213e-11', '-1.7899951935', '-4.3589666598e-11', '-1.7999907732', '-5.104894979e-11', '-1.8099948168', '-5.4491709756e-11', '-1.8199901581', '-5.4491779145e-11', '-1.8299942017', '-6.1951076213e-11', '-1.8399876356', '-5.1049005301e-11', '-1.8499969244', '-4.4737290261e-11', '-1.8599960804', '-4.8753813486e-11', '-1.8699958324', '-4.2442126202e-11', '-1.8799862862', '-5.678690157e-11', '-1.8899875879', '-5.0475228164e-11', '-1.899998188', '-5.2196628963e-11', '-1.9099909067', '-6.5967682705e-11', '-1.9199928045', '-5.3344197115e-11', '-1.9299834967', '-6.0229661536e-11', '-1.9399820566', '-4.9327646134e-11', '-1.9499875307', '-5.1049005301e-11', '-1.959995985', '-6.8262860642e-11', '-1.9699931145', '-5.2770433856e-11', '-1.9799931049', '-4.875385512e-11', '-1.9899835587', '-6.2524922739e-11', '-1.9999865294', '-4.9327632257e-11', '-2.0099875927', '-7.2853202637e-11', '-2.0199947357', '-5.6786984837e-11', '-2.029992342', '-3.7277993192e-11', '-2.039992094', '-5.2770419978e-11', '-2.0499792099', '-4.5311122909e-11', '-2.0599808693', '-6.711529249e-11', '-2.0699899197', '-6.8836665534e-11', '-2.079985857', '-4.760627309e-11', '-2.089994669', '-4.6458746572e-11', '-2.0999829769', '-4.0720739281e-11', '-2.1100378036', '-5.1622366104e-11', '-2.119985342', '-4.9900909793e-11', '-2.1299891472', '-5.908162154e-11', '-2.1400129795', '-4.4736804539e-11', '-2.1500434875', '-4.8753327764e-11', '-2.1600592136', '-4.5884344935e-11', '-2.170006752', '-4.3589208631e-11', '-2.1800119877', '-4.3015389861e-11', '-2.1900177002', '-5.7933970121e-11', '-2.2000288963', '-4.8179508993e-11', '-2.2099845409', '-3.555610667e-11', '-2.2199962139', '-4.9900923671e-11', '-2.230036974', '-5.3343642004e-11', '-2.2400434017', '-5.1622310593e-11', '-2.2499909401', '-4.014642091e-11', '-2.25999856', '-5.2769837111e-11', '-2.2700476646', '-4.9327160412e-11', '-2.2800579071', '-6.4245726794e-11', '-2.2900073528', '-5.7360234618e-11', '-2.300018549', '-4.8753341642e-11', '-2.3100504875', '-5.1622296715e-11', '-2.3200824261', '-5.2196101608e-11', '-2.3300902843', '-5.678640197e-11', '-2.3400318623', '-6.1950562735e-11', '-2.3500359058', '-5.8507761136e-11', '-2.3600423336', '-4.7031996353e-11', '-2.370057106', '-4.9900937549e-11', '-2.3800106049', '-8.145942948e-11', '-2.3900206089', '-4.4162958013e-11', '-2.4000382423', '-4.6458163705e-11', '-2.4100708961', '-6.1950493346e-11', '-2.4200208187', '-5.8507788891e-11', '-2.4300301075', '-6.8836027156e-11', '-2.4400417805', '-4.4163013524e-11', '-2.450050354', '-6.7688445127e-11', '-2.4600007534', '-5.506500117e-11', '-2.4700136185', '-5.6212610955e-11', '-2.4800493717', '-6.5967099838e-11', '-2.4900574684', '-5.1622310593e-11', '-2.5000810623', '-3.4408524641e-11', '-2.5100238323', '-4.4162999646e-11', '-2.5200335979', '-5.3917502407e-11', '-2.5300347805', '-6.7114654112e-11', '-2.5400474072', '-6.1950521102e-11', '-2.5499970913', '-4.3015417617e-11', '-2.5599973202', '-3.8998880514e-11', '-2.570019722', '-5.1622366104e-11', '-2.5800347328', '-5.2196101608e-11', '-2.5899987221', '-4.9900951427e-11', '-2.6000139713', '-3.612992544e-11', '-2.610057354', '-6.2524339872e-11', '-2.6200726032', '-5.3343683637e-11', '-2.6300258636', '-7.2852550381e-11', '-2.6400341988', '-4.7605745734e-11', '-2.650067091', '-6.1950521102e-11', '-2.660074234', '-5.2196101608e-11', '-2.670021534', '-6.2524339872e-11', '-2.6800475121', '-5.3917502407e-11', '-2.6900570393', '-5.8507802769e-11', '-2.7000677586', '-6.3098117009e-11', '-2.7100753784', '-4.0720267436e-11', '-2.7200205326', '-6.5967127594e-11', '-2.7300341129', '-6.2524298239e-11', '-2.7400615215', '-6.5967044327e-11', '-2.7500743866', '-4.7031940842e-11', '-2.7600121498', '-5.0474728563e-11', '-2.7700378895', '-6.0229175813e-11', '-2.7800607681', '-5.0474714686e-11', '-2.7900753021', '-6.2524325994e-11', '-2.8000218868', '-5.6786429725e-11', '-2.8100411892', '-5.3917460774e-11', '-2.820057869', '-5.1048547334e-11', '-2.8300704956', '-6.4819476175e-11', '-2.8400154114', '-6.7688445127e-11', '-2.850035429', '-5.3343683637e-11', '-2.8600559235', '-4.7031913086e-11', '-2.870054245', '-6.5967155349e-11', '-2.8800647259', '-7.6869142995e-11', '-2.8900127411', '-4.8753327764e-11', '-2.9000222683', '-5.2196115485e-11', '-2.9100472927', '-4.4162999646e-11', '-2.9200549126', '-5.7933997877e-11', '-2.9300043583', '-5.3917446896e-11', '-2.9400076866', '-7.4000146288e-11', '-2.9500703812', '-6.1950590491e-11', '-2.9600858688', '-5.5065042803e-11', '-2.9700431824', '-6.4819490053e-11', '-2.9800508022', '-6.1376730087e-11', '-2.9900825024', '-5.5638861574e-11', '-3.0000872612', '-4.8753313886e-11\\n']\n",
      "len current: 301\n",
      "len current: 301\n"
     ]
    }
   ],
   "source": [
    "#run Keithley 2400 \n",
    "arrKLVMeasMulti =[\"M2461SWETSP\",[[0, 3,0.01],\\\n",
    "                            #[0, 3, 0.01],\\\n",
    "                            [0, -3, 0.01]\n",
    "                            ]]\n",
    "fncMeasureMultiple(arrKLVMeasMulti,sample, 27, folderPath)"
   ]
  },
  {
   "cell_type": "code",
   "execution_count": 31,
   "id": "50f0d3c7",
   "metadata": {},
   "outputs": [],
   "source": [
    "rm.close()"
   ]
  },
  {
   "cell_type": "markdown",
   "id": "75d45d4e",
   "metadata": {},
   "source": [
    "### REFERENCES"
   ]
  },
  {
   "cell_type": "code",
   "execution_count": 26,
   "id": "8e634f01",
   "metadata": {},
   "outputs": [
    {
     "data": {
      "text/plain": [
       "37"
      ]
     },
     "execution_count": 26,
     "metadata": {},
     "output_type": "execute_result"
    }
   ],
   "source": [
    "iLimit = 7\n",
    "#m2461.write(f\"smu.source.ilimit = %f \" % iLimit)\n",
    "m2461.write(f\"smu.source.ilimit.level = %f \" % iLimit)"
   ]
  },
  {
   "cell_type": "code",
   "execution_count": 13,
   "id": "3e19bd08",
   "metadata": {},
   "outputs": [
    {
     "data": {
      "text/plain": [
       "31"
      ]
     },
     "execution_count": 13,
     "metadata": {},
     "output_type": "execute_result"
    }
   ],
   "source": [
    "vRange = \"smu.ON\"\n",
    "m2461.write(f\"smu.source.autorange = {vRange}\") "
   ]
  },
  {
   "cell_type": "code",
   "execution_count": null,
   "id": "a5455b9f",
   "metadata": {},
   "outputs": [
    {
     "data": {
      "text/plain": [
       "43"
      ]
     },
     "execution_count": 24,
     "metadata": {},
     "output_type": "execute_result"
    }
   ],
   "source": [
    "m2461.write(f\"beeper.beep(1,100)\")\n",
    "m2461.write(f\"reset()\")\n",
    "m2461.write(f\"status.reset()\")\n",
    "m2461.write(f\"errorqueue.clear()\")\n",
    "# Configure source function as 2W DCVOLTS\n",
    "m2461.write(f\"smu.source.func = smu.FUNC_DC_VOLTAGE\")\n",
    "m2461.write(f\"smu.measure.sense = smu.SENSE_2WIRE\")\n",
    "m2461.write(f\"display.changescreen(display.SCREEN_HOME)\")"
   ]
  },
  {
   "cell_type": "code",
   "execution_count": null,
   "id": "6bf193b1",
   "metadata": {},
   "outputs": [],
   "source": [
    "m2461.write(f'while defbuffer1.n < {stepNum} do delay(0.1) end')\n",
    "data = m2461.query_ascii_values(f'printbuffer(1, {stepNum:f}, defbuffer1.sourcevalues, defbuffer1.readings)')\n",
    "print(f'data: {data}')\n",
    "\n",
    "m2461.write(f'print(1)')  # Send confirmation signal"
   ]
  },
  {
   "cell_type": "code",
   "execution_count": 17,
   "id": "d9d27e56",
   "metadata": {},
   "outputs": [
    {
     "name": "stdout",
     "output_type": "stream",
     "text": [
      "rawData:  -7.4574048325e-11\n",
      "\n"
     ]
    }
   ],
   "source": [
    "setV = 1\n",
    "outputON = False\n",
    "m2461.write(f\"smu.measure.func = smu.FUNC_DC_CURRENT\") \n",
    "m2461.write(f\"smu.source.func = smu.FUNC_DC_VOLTAGE\")\n",
    "m2461.write(f\"smu.source.level = %f\" %setV)\n",
    "if (not outputON):\n",
    "    m2461.write(f\"smu.source.output = 1\")\n",
    "m2461.write(f\"print(smu.measure.read())\") \n",
    "rawData = m2461.read()\n",
    "# print(\"%g\\t%g\\t%g\", smua.nvbuffer1.timestamps[1], smua.nvbuffer1.readings[1], smua.nvbuffer2.readings[1])\n",
    "arrRawData = rawData.split(\",\")\n",
    "print (\"rawData: \", rawData)"
   ]
  }
 ],
 "metadata": {
  "kernelspec": {
   "display_name": "embedded",
   "language": "python",
   "name": "python3"
  },
  "language_info": {
   "codemirror_mode": {
    "name": "ipython",
    "version": 3
   },
   "file_extension": ".py",
   "mimetype": "text/x-python",
   "name": "python",
   "nbconvert_exporter": "python",
   "pygments_lexer": "ipython3",
   "version": "3.10.9"
  }
 },
 "nbformat": 4,
 "nbformat_minor": 5
}
